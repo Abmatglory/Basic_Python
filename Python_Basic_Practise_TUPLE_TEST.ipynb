{
 "cells": [
  {
   "cell_type": "markdown",
   "metadata": {},
   "source": [
    "# TOPIC: TUPLE Based Problem"
   ]
  },
  {
   "cell_type": "markdown",
   "metadata": {},
   "source": [
    "# 1. Create a tuple with integers from 1 to 5."
   ]
  },
  {
   "cell_type": "markdown",
   "metadata": {},
   "source": [
    "There are multiple way to create tuple"
   ]
  },
  {
   "cell_type": "code",
   "execution_count": 1,
   "metadata": {},
   "outputs": [],
   "source": [
    "a1 = (1, 2,3,4,5)"
   ]
  },
  {
   "cell_type": "code",
   "execution_count": 2,
   "metadata": {},
   "outputs": [
    {
     "data": {
      "text/plain": [
       "tuple"
      ]
     },
     "execution_count": 2,
     "metadata": {},
     "output_type": "execute_result"
    }
   ],
   "source": [
    "type(a1)"
   ]
  },
  {
   "cell_type": "code",
   "execution_count": 3,
   "metadata": {},
   "outputs": [
    {
     "data": {
      "text/plain": [
       "(1, 2, 3, 4, 5)"
      ]
     },
     "execution_count": 3,
     "metadata": {},
     "output_type": "execute_result"
    }
   ],
   "source": [
    "a1"
   ]
  },
  {
   "cell_type": "code",
   "execution_count": 8,
   "metadata": {},
   "outputs": [],
   "source": [
    "b1 = tuple( i for i in range(1,6))"
   ]
  },
  {
   "cell_type": "code",
   "execution_count": 9,
   "metadata": {},
   "outputs": [
    {
     "data": {
      "text/plain": [
       "tuple"
      ]
     },
     "execution_count": 9,
     "metadata": {},
     "output_type": "execute_result"
    }
   ],
   "source": [
    "type(b1)"
   ]
  },
  {
   "cell_type": "code",
   "execution_count": 10,
   "metadata": {},
   "outputs": [
    {
     "data": {
      "text/plain": [
       "(1, 2, 3, 4, 5)"
      ]
     },
     "execution_count": 10,
     "metadata": {},
     "output_type": "execute_result"
    }
   ],
   "source": [
    "b1"
   ]
  },
  {
   "cell_type": "markdown",
   "metadata": {},
   "source": [
    "# 2. Access the third element of a tuple."
   ]
  },
  {
   "cell_type": "code",
   "execution_count": 13,
   "metadata": {},
   "outputs": [
    {
     "name": "stdout",
     "output_type": "stream",
     "text": [
      "3rd element of tuple (1, 2, 3, 4, 5) is : 3\n"
     ]
    }
   ],
   "source": [
    "# by index\n",
    "\n",
    "a1 = (1, 2,3,4,5)\n",
    "\n",
    "#3rd element of tuple\n",
    "\n",
    "print(f\"3rd element of tuple {a1} is : {a1[2]}\")"
   ]
  },
  {
   "cell_type": "markdown",
   "metadata": {},
   "source": [
    "# 3. Find the length of a tuple without using the `len()` function."
   ]
  },
  {
   "cell_type": "code",
   "execution_count": 14,
   "metadata": {},
   "outputs": [
    {
     "name": "stdout",
     "output_type": "stream",
     "text": [
      "The length os tuple (1, 2, 3, 4, 5) is : 5\n"
     ]
    }
   ],
   "source": [
    "a2_tuple = (1, 2,3,4,5)\n",
    "\n",
    "tuple_length = 0                 # initialize the counter\n",
    "\n",
    "for i in a2_tuple:               # for each item in tuple\n",
    "    tuple_length += 1            # increment the counter\n",
    "    \n",
    "print(f\"The length os tuple {a2_tuple} is : {tuple_length}\")    # print the statement"
   ]
  },
  {
   "cell_type": "markdown",
   "metadata": {},
   "source": [
    "# 4. Count the occurrences of an element in a tuple."
   ]
  },
  {
   "cell_type": "code",
   "execution_count": 18,
   "metadata": {},
   "outputs": [
    {
     "name": "stdout",
     "output_type": "stream",
     "text": [
      "The number of occurrences of an element 3 in a tuple (1, 2, 2, 3, 3, 4, 4, 4, 3, 3, 6, 7, 7, 3) is : 5\n"
     ]
    }
   ],
   "source": [
    "# We can use the inbuilt tuple method count to get the occurrences of an element in a tuple\n",
    "\n",
    "a4_tuple = ( 1,2,2,3,3,4,4,4,3,3,6,7,7,3)\n",
    "\n",
    "element = 3\n",
    "\n",
    "result = a4_tuple.count(element)\n",
    "\n",
    "print(f\"The number of occurrences of an element {element} in a tuple {a4_tuple} is : {result}\")\n"
   ]
  },
  {
   "cell_type": "code",
   "execution_count": 16,
   "metadata": {},
   "outputs": [
    {
     "data": {
      "text/plain": [
       "5"
      ]
     },
     "execution_count": 16,
     "metadata": {},
     "output_type": "execute_result"
    }
   ],
   "source": [
    "a4_tuple.count(3)"
   ]
  },
  {
   "cell_type": "markdown",
   "metadata": {},
   "source": [
    "# 5. Find the index of the first occurrence of an element in a tuple."
   ]
  },
  {
   "cell_type": "code",
   "execution_count": 23,
   "metadata": {},
   "outputs": [
    {
     "name": "stdout",
     "output_type": "stream",
     "text": [
      "The index of the first occurance of an element 4 in a tuple (1, 2, 2, 3, 3, 4, 4, 4, 3, 3, 6, 7, 7, 3) is : 5\n"
     ]
    }
   ],
   "source": [
    "# we can use the inbuilt function index\n",
    "\n",
    "a5_tuple = ( 1,2,2,3,3,4,4,4,3,3,6,7,7,3)\n",
    "\n",
    "element = 4\n",
    "\n",
    "result = a5_tuple.index(element)\n",
    "\n",
    "print(f\"The index of the first occurance of an element {element} in a tuple {a5_tuple} is : {result}\")\n",
    "\n"
   ]
  },
  {
   "cell_type": "code",
   "execution_count": 24,
   "metadata": {},
   "outputs": [
    {
     "data": {
      "text/plain": [
       "3"
      ]
     },
     "execution_count": 24,
     "metadata": {},
     "output_type": "execute_result"
    }
   ],
   "source": [
    "a5_tuple.index(3)"
   ]
  },
  {
   "cell_type": "markdown",
   "metadata": {},
   "source": [
    "# 6. Check if an element exists in a tuple."
   ]
  },
  {
   "cell_type": "code",
   "execution_count": 25,
   "metadata": {},
   "outputs": [
    {
     "name": "stdout",
     "output_type": "stream",
     "text": [
      "The element 4 exist in a tuple (1, 2, 2, 3, 3, 4, 4, 4, 3, 3, 6, 7, 7, 3) \n",
      "The element 9 do not exist in a tuple (1, 2, 2, 3, 3, 4, 4, 4, 3, 3, 6, 7, 7, 3) \n"
     ]
    }
   ],
   "source": [
    "# we can use inbuild operator 'in' to check any element exists in a tuple or not\n",
    "\n",
    "a6_tuple = ( 1,2,2,3,3,4,4,4,3,3,6,7,7,3)\n",
    "\n",
    "element = 4\n",
    "\n",
    "if element in a6_tuple:\n",
    "    print(f\"The element {element} exist in a tuple {a6_tuple} \")\n",
    "else :\n",
    "    print(f\"The element {element} do not exist in a tuple {a6_tuple} \")\n",
    "     \n",
    "\n",
    "element = 9\n",
    "\n",
    "if element in a6_tuple:\n",
    "    print(f\"The element {element} exist in a tuple {a6_tuple} \")\n",
    "else :\n",
    "    print(f\"The element {element} do not exist in a tuple {a6_tuple} \")        \n"
   ]
  },
  {
   "cell_type": "markdown",
   "metadata": {},
   "source": [
    "# 7. Convert a tuple to a list."
   ]
  },
  {
   "cell_type": "code",
   "execution_count": 26,
   "metadata": {},
   "outputs": [
    {
     "name": "stdout",
     "output_type": "stream",
     "text": [
      "Converting a tuple (1, 2, 2, 3, 3, 4, 4, 4, 3, 3, 6, 7, 7, 3) to a list [1, 2, 2, 3, 3, 4, 4, 4, 3, 3, 6, 7, 7, 3]\n"
     ]
    }
   ],
   "source": [
    "# we can use list constructor to convert a tuple to a list\n",
    "\n",
    "a7 = ( 1,2,2,3,3,4,4,4,3,3,6,7,7,3)\n",
    "\n",
    "b7 = list(a7) \n",
    "\n",
    "print(f\"Converting a tuple {a7} to a list {b7}\")"
   ]
  },
  {
   "cell_type": "markdown",
   "metadata": {},
   "source": [
    "# 8. Convert a list to a tuple."
   ]
  },
  {
   "cell_type": "code",
   "execution_count": 27,
   "metadata": {},
   "outputs": [
    {
     "name": "stdout",
     "output_type": "stream",
     "text": [
      "Converting a list [1, 2, 2, 3, 3, 4, 4, 4, 3, 3, 6, 7, 7, 3] to a tuple (1, 2, 2, 3, 3, 4, 4, 4, 3, 3, 6, 7, 7, 3)\n"
     ]
    }
   ],
   "source": [
    "# we can use tuple constructor to convert a list to a tuple\n",
    "\n",
    "a8 = [ 1,2,2,3,3,4,4,4,3,3,6,7,7,3]\n",
    "\n",
    "b8 = tuple(a8) \n",
    "\n",
    "print(f\"Converting a list {a8} to a tuple {b8}\")"
   ]
  },
  {
   "cell_type": "markdown",
   "metadata": {},
   "source": [
    "# 9. Unpack the elements of a tuple into variables."
   ]
  },
  {
   "cell_type": "code",
   "execution_count": 30,
   "metadata": {},
   "outputs": [
    {
     "name": "stdout",
     "output_type": "stream",
     "text": [
      "abhishek\n",
      "avinash\n",
      "amit\n"
     ]
    }
   ],
   "source": [
    "#Packing tuple  - When we create a tuple, we normally assign values to it. This is called \"packing\" a tuple\n",
    "\n",
    "var_a = (\"abhishek\" , 'avinash' , 'amit')\n",
    "\n",
    "#Unpacking - we are also allowed to extract the values back into variables. This is called \"unpacking\"\n",
    "( x , y , z )  = var_a\n",
    "\n",
    "print(x)\n",
    "print(y)\n",
    "print(z)"
   ]
  },
  {
   "cell_type": "markdown",
   "metadata": {},
   "source": [
    "# 10. Create a tuple of even numbers from 1 to 10."
   ]
  },
  {
   "cell_type": "code",
   "execution_count": 34,
   "metadata": {},
   "outputs": [
    {
     "name": "stdout",
     "output_type": "stream",
     "text": [
      "a tuple of even numbers from 1 to 10 is (2, 4, 6, 8, 10)\n"
     ]
    }
   ],
   "source": [
    "# we can use simply tuple comprehension\n",
    "\n",
    "a10_tuple = tuple(x for x in range(2,11,2))\n",
    "\n",
    "print(f\"a tuple of even numbers from 1 to 10 is {a10_tuple}\")"
   ]
  },
  {
   "cell_type": "markdown",
   "metadata": {},
   "source": [
    "# 11. Create a tuple of odd numbers from 1 to 10."
   ]
  },
  {
   "cell_type": "code",
   "execution_count": 35,
   "metadata": {},
   "outputs": [
    {
     "name": "stdout",
     "output_type": "stream",
     "text": [
      "a tuple of odd numbers from 1 to 10 is (1, 3, 5, 7, 9)\n"
     ]
    }
   ],
   "source": [
    "# we can use simply tuple comprehension\n",
    "\n",
    "a11_tuple = tuple(x for x in range(1,11,2))\n",
    "\n",
    "print(f\"a tuple of odd numbers from 1 to 10 is {a11_tuple}\")"
   ]
  },
  {
   "cell_type": "markdown",
   "metadata": {},
   "source": [
    "# 12. Concatenate two tuples."
   ]
  },
  {
   "cell_type": "code",
   "execution_count": 38,
   "metadata": {},
   "outputs": [
    {
     "name": "stdout",
     "output_type": "stream",
     "text": [
      "Adter concatenating two tuples (1, 2, 3, 4) and (5, 6, 7, 8) , new tuple is : (1, 2, 3, 4, 5, 6, 7, 8)\n"
     ]
    }
   ],
   "source": [
    "# We can simply use + operator to Concatenate two tuples\n",
    "\n",
    "a12 = ( 1,2,3,4)           # first tuple\n",
    "\n",
    "b12 = (5 , 6, 7, 8)        # second tuple\n",
    "\n",
    "# Concatenate two tuples.\n",
    "\n",
    "c12 = a12 + b12\n",
    "\n",
    "print(f\"Adter concatenating two tuples {a12} and { b12} , new tuple is : {a12 + b12}\")\n",
    "\n"
   ]
  },
  {
   "cell_type": "markdown",
   "metadata": {},
   "source": [
    "# 13. Repeat a tuple three times."
   ]
  },
  {
   "cell_type": "code",
   "execution_count": 39,
   "metadata": {},
   "outputs": [
    {
     "name": "stdout",
     "output_type": "stream",
     "text": [
      "(1, 2, 3, 4, 1, 2, 3, 4, 1, 2, 3, 4)\n"
     ]
    }
   ],
   "source": [
    "# We simply multiple the tuple by 3\n",
    "\n",
    "a13 = ( 1,2,3,4) \n",
    "\n",
    "result = a13 * 3\n",
    "\n",
    "print(result)"
   ]
  },
  {
   "cell_type": "markdown",
   "metadata": {},
   "source": [
    "# 14. Check if a tuple is empty."
   ]
  },
  {
   "cell_type": "code",
   "execution_count": 43,
   "metadata": {},
   "outputs": [
    {
     "name": "stdout",
     "output_type": "stream",
     "text": [
      "tuple () is empty\n"
     ]
    }
   ],
   "source": [
    "# we can simply use length of tuple to check if tuple is empty or not\n",
    "a14 = ()\n",
    "\n",
    "if len(a14) == 0 :\n",
    "    print(f\"tuple {a14} is empty\")\n",
    "else :\n",
    "    print(f\"tuple {a14} is not empty\")\n",
    "    "
   ]
  },
  {
   "cell_type": "markdown",
   "metadata": {},
   "source": [
    "# 15. Create a nested tuple."
   ]
  },
  {
   "cell_type": "code",
   "execution_count": 44,
   "metadata": {},
   "outputs": [],
   "source": [
    "# Create a nested tuple\n",
    "\n",
    "a15 = ({1,2} , (3,4) , ('a' , 'b') , (5,6))"
   ]
  },
  {
   "cell_type": "code",
   "execution_count": 45,
   "metadata": {},
   "outputs": [
    {
     "data": {
      "text/plain": [
       "tuple"
      ]
     },
     "execution_count": 45,
     "metadata": {},
     "output_type": "execute_result"
    }
   ],
   "source": [
    "type(a15)          # check type"
   ]
  },
  {
   "cell_type": "code",
   "execution_count": 47,
   "metadata": {},
   "outputs": [
    {
     "name": "stdout",
     "output_type": "stream",
     "text": [
      "({1, 2}, (3, 4), ('a', 'b'), (5, 6)) is nested tuple\n",
      "({1, 2}, (3, 4), ('a', 'b'), (5, 6)) is nested tuple\n",
      "({1, 2}, (3, 4), ('a', 'b'), (5, 6)) is nested tuple\n"
     ]
    }
   ],
   "source": [
    "# check whether a15 is nested tuple or not\n",
    "\n",
    "for i in a15:      \n",
    "    if isinstance(i,tuple):      # if any of the element of tuple is tuple then it's nested tuple\n",
    "        print(f\"{a15} is nested tuple\")\n",
    "        "
   ]
  },
  {
   "cell_type": "markdown",
   "metadata": {},
   "source": [
    "# 16. Access the first element of a nested tuple."
   ]
  },
  {
   "cell_type": "code",
   "execution_count": 54,
   "metadata": {},
   "outputs": [
    {
     "name": "stdout",
     "output_type": "stream",
     "text": [
      "First element of nested tuple is : 1\n"
     ]
    }
   ],
   "source": [
    "# let;s suppose we have nested tuple\n",
    "\n",
    "a16 = ((1,2) , (3,4) , ('a' , 'b') , (5,6))\n",
    "\n",
    "#we will access the first element of a nested tuple by a16[0][0]\n",
    "\n",
    "for i in a16:      \n",
    "    if isinstance(i,tuple):      # if any of the element of tuple is tuple then it's nested tuple\n",
    "        print(f\"First element of nested tuple is : {i[0]}\")\n",
    "        break"
   ]
  },
  {
   "cell_type": "markdown",
   "metadata": {},
   "source": [
    "# 17. Create a tuple with a single element."
   ]
  },
  {
   "cell_type": "code",
   "execution_count": 61,
   "metadata": {},
   "outputs": [],
   "source": [
    "a17 = ( 7, )    # The trailing comma is necessary to indicate that it's a tuple.\n",
    "\n",
    "b17 = (7)       # if you do not add trailing comma , this will not create tuple but treat like integer"
   ]
  },
  {
   "cell_type": "code",
   "execution_count": 62,
   "metadata": {},
   "outputs": [
    {
     "data": {
      "text/plain": [
       "tuple"
      ]
     },
     "execution_count": 62,
     "metadata": {},
     "output_type": "execute_result"
    }
   ],
   "source": [
    "type(a17)"
   ]
  },
  {
   "cell_type": "code",
   "execution_count": 63,
   "metadata": {},
   "outputs": [
    {
     "data": {
      "text/plain": [
       "int"
      ]
     },
     "execution_count": 63,
     "metadata": {},
     "output_type": "execute_result"
    }
   ],
   "source": [
    "type(b17)"
   ]
  },
  {
   "cell_type": "markdown",
   "metadata": {},
   "source": [
    "# 18. Compare two tuples."
   ]
  },
  {
   "cell_type": "code",
   "execution_count": 66,
   "metadata": {},
   "outputs": [
    {
     "name": "stdout",
     "output_type": "stream",
     "text": [
      "Tuple (1, 2, 3) and (1, 2, 3) are equal\n",
      "\n",
      "Tuple (1, 2, 3) and (2, 3, 4) are not equal\n",
      "\n"
     ]
    }
   ],
   "source": [
    "# we can simply use '==' operator to compare \n",
    "\n",
    "a18 = (1,2,3)        # first tuple\n",
    "\n",
    "b18 = (1,2,3)         # second tuple\n",
    "\n",
    "c18 = (2,3,4)         # third tuple\n",
    "\n",
    "if a18 == b18 :\n",
    "    print(f\"Tuple {a18} and {b18} are equal\\n\")\n",
    "else :\n",
    "    print(f\"Tuple {a18} and {b18} are not equal\\m\")\n",
    "    \n",
    "\n",
    "if a18 == c18 :\n",
    "    print(f\"Tuple {a18} and {c18} are equal\\n\")\n",
    "else :\n",
    "    print(f\"Tuple {a18} and {c18} are not equal\\n\")"
   ]
  },
  {
   "cell_type": "markdown",
   "metadata": {},
   "source": [
    "# 19. Delete a tuple."
   ]
  },
  {
   "cell_type": "code",
   "execution_count": 71,
   "metadata": {},
   "outputs": [
    {
     "name": "stdout",
     "output_type": "stream",
     "text": [
      "Type of tuple (1, 2, 3) is : <class 'tuple'>\n"
     ]
    },
    {
     "ename": "NameError",
     "evalue": "name 'a19' is not defined",
     "output_type": "error",
     "traceback": [
      "\u001b[1;31m---------------------------------------------------------------------------\u001b[0m",
      "\u001b[1;31mNameError\u001b[0m                                 Traceback (most recent call last)",
      "\u001b[1;32m<ipython-input-71-5d1057a12501>\u001b[0m in \u001b[0;36m<module>\u001b[1;34m\u001b[0m\n\u001b[0;32m      7\u001b[0m \u001b[1;32mdel\u001b[0m\u001b[1;33m(\u001b[0m\u001b[0ma19\u001b[0m\u001b[1;33m)\u001b[0m       \u001b[1;31m# deleting tuple\u001b[0m\u001b[1;33m\u001b[0m\u001b[1;33m\u001b[0m\u001b[0m\n\u001b[0;32m      8\u001b[0m \u001b[1;33m\u001b[0m\u001b[0m\n\u001b[1;32m----> 9\u001b[1;33m \u001b[0mprint\u001b[0m\u001b[1;33m(\u001b[0m\u001b[1;34mf\"After deleting tuple , trying to get the tuple {a19}\"\u001b[0m\u001b[1;33m)\u001b[0m\u001b[1;33m\u001b[0m\u001b[1;33m\u001b[0m\u001b[0m\n\u001b[0m",
      "\u001b[1;31mNameError\u001b[0m: name 'a19' is not defined"
     ]
    }
   ],
   "source": [
    "# we can simply use del keyword to delte a tuple\n",
    "\n",
    "a19 = (1,2,3)\n",
    "\n",
    "print(f\"Type of tuple {a19} is : {type(a19)}\")\n",
    "\n",
    "del(a19)       # deleting tuple\n",
    "\n",
    "print(f\"After deleting tuple , trying to get the tuple {a19}\")"
   ]
  },
  {
   "cell_type": "markdown",
   "metadata": {},
   "source": [
    "# 20. Slice a tuple."
   ]
  },
  {
   "cell_type": "code",
   "execution_count": 76,
   "metadata": {},
   "outputs": [
    {
     "name": "stdout",
     "output_type": "stream",
     "text": [
      "(4, 4, 4, 3, 3, 6, 7, 7, 3)\n",
      "(2, 3, 3, 4, 4, 4, 3)\n",
      "(1, 2, 2, 3, 3, 4, 4, 4, 3)\n",
      "(6, 7, 7)\n"
     ]
    }
   ],
   "source": [
    "# we are going to use same way to slice as we do slices for list\n",
    "\n",
    "a20 = (1,2,2,3,3,4,4,4,3,3,6,7,7,3)\n",
    "\n",
    "# slicing a tuple\n",
    "\n",
    "# slicing from index 5 to end of tuple\n",
    "\n",
    "print(a20[5:])\n",
    "\n",
    "# slicing from index 2 to index 8\n",
    "\n",
    "print(a20[2:9])\n",
    "\n",
    "# slicing from start to index 8\n",
    "\n",
    "print(a20[:9])\n",
    "\n",
    "# slicing using negative index\n",
    "print(a20[-4 : -1])"
   ]
  },
  {
   "cell_type": "markdown",
   "metadata": {},
   "source": [
    "# 21. Find the maximum value in a tuple."
   ]
  },
  {
   "cell_type": "code",
   "execution_count": 80,
   "metadata": {},
   "outputs": [
    {
     "name": "stdout",
     "output_type": "stream",
     "text": [
      "The maxmium value in a tuple (1, 2, 2, 3, 3, 4, 4, 4, 3, 3, 6, 7, 7, 3) is 7\n"
     ]
    }
   ],
   "source": [
    "#  simply we will use inbuild max method on tuple to get the maxmium value in a tuple\n",
    "\n",
    "a21 = (1,2,2,3,3,4,4,4,3,3,6,7,7,3)    # input tuple\n",
    "\n",
    "result = max(a21)\n",
    "\n",
    "print(f\"The maxmium value in a tuple {a21} is {max(a21)}\")"
   ]
  },
  {
   "cell_type": "code",
   "execution_count": 78,
   "metadata": {},
   "outputs": [
    {
     "data": {
      "text/plain": [
       "7"
      ]
     },
     "execution_count": 78,
     "metadata": {},
     "output_type": "execute_result"
    }
   ],
   "source": [
    "result"
   ]
  },
  {
   "cell_type": "markdown",
   "metadata": {},
   "source": [
    "# 22. Find the minimum value in a tuple."
   ]
  },
  {
   "cell_type": "code",
   "execution_count": 81,
   "metadata": {},
   "outputs": [
    {
     "name": "stdout",
     "output_type": "stream",
     "text": [
      "The minimum value in a tuple (1, 2, 2, 3, 3, 4, 4, 4, 3, 3, 6, 7, 7, 3) is 1\n"
     ]
    }
   ],
   "source": [
    "#  simply we will use inbuild min method on tuple to get the minimum value in a tuple\n",
    "\n",
    "a21 = (1,2,2,3,3,4,4,4,3,3,6,7,7,3)    # input tuple\n",
    "\n",
    "result = min(a21)\n",
    "\n",
    "print(f\"The minimum value in a tuple {a21} is {min(a21)}\")"
   ]
  },
  {
   "cell_type": "markdown",
   "metadata": {},
   "source": [
    "# 23. Convert a string to a tuple of characters."
   ]
  },
  {
   "cell_type": "code",
   "execution_count": 85,
   "metadata": {},
   "outputs": [
    {
     "name": "stdout",
     "output_type": "stream",
     "text": [
      "Convert a string 'abhishek' to a tuple of characters : ('a', 'b', 'h', 'i', 's', 'h', 'e', 'k') \n",
      "\n",
      "type of result: <class 'tuple'>\n"
     ]
    }
   ],
   "source": [
    "# simply we will use tuple constructor to convert a string to a tuple of characters\n",
    "input_str = 'abhishek'      #input string\n",
    "\n",
    "a23 = tuple(input_str)\n",
    "\n",
    "print(f\"Convert a string \\'{input_str}\\' to a tuple of characters : {tuple(input_str)} \\n\")\n",
    "print(f\"type of result: {type(a23)}\")"
   ]
  },
  {
   "cell_type": "markdown",
   "metadata": {},
   "source": [
    "# 24. Convert a tuple of characters to a string."
   ]
  },
  {
   "cell_type": "code",
   "execution_count": 87,
   "metadata": {},
   "outputs": [
    {
     "name": "stdout",
     "output_type": "stream",
     "text": [
      "Convert a tuple of characters ('a', 'b', 'h', 'i', 's', 'h', 'e', 'k')to a string : 'abhishek' \n"
     ]
    }
   ],
   "source": [
    "a24 = ('a', 'b', 'h', 'i', 's', 'h', 'e', 'k') \n",
    "\n",
    "result = ''.join(a24)      # joining tuple elements to form string\n",
    "\n",
    "print(f\"Convert a tuple of characters {a24}to a string : \\'{result}\\' \")"
   ]
  },
  {
   "cell_type": "markdown",
   "metadata": {},
   "source": [
    "# 25. Create a tuple from multiple data types."
   ]
  },
  {
   "cell_type": "code",
   "execution_count": 91,
   "metadata": {},
   "outputs": [],
   "source": [
    "# Creating tuple from multiple data types : integer , string , list, tuple and so on\n",
    "\n",
    "a25 = ( 1 , 2, 'a' , 'b' , (3,4) , [4,5])"
   ]
  },
  {
   "cell_type": "code",
   "execution_count": 92,
   "metadata": {},
   "outputs": [
    {
     "data": {
      "text/plain": [
       "tuple"
      ]
     },
     "execution_count": 92,
     "metadata": {},
     "output_type": "execute_result"
    }
   ],
   "source": [
    "type(a25)"
   ]
  },
  {
   "cell_type": "code",
   "execution_count": 93,
   "metadata": {},
   "outputs": [
    {
     "data": {
      "text/plain": [
       "(1, 2, 'a', 'b', (3, 4), [4, 5])"
      ]
     },
     "execution_count": 93,
     "metadata": {},
     "output_type": "execute_result"
    }
   ],
   "source": [
    "a25"
   ]
  },
  {
   "cell_type": "markdown",
   "metadata": {},
   "source": [
    "# 26. Check if two tuples are identical."
   ]
  },
  {
   "cell_type": "markdown",
   "metadata": {},
   "source": [
    "We can check if two tuples are identical by using the == operator."
   ]
  },
  {
   "cell_type": "code",
   "execution_count": 59,
   "metadata": {},
   "outputs": [
    {
     "name": "stdout",
     "output_type": "stream",
     "text": [
      "Two tuples (1, 2, 3) and (1, 2, 3) are identical \n",
      "\n",
      "Two tuples (1, 2, 3) and (2, 3, 4) are not identical \n",
      "\n"
     ]
    }
   ],
   "source": [
    "def chk_identical_tuples(input_tuple1 , input_tuple2):\n",
    "    \n",
    "    if input_tuple1 == input_tuple2 :  \n",
    "        return True\n",
    "    else :\n",
    "        return False\n",
    "    \n",
    "\n",
    "#Testing of above function\n",
    "\n",
    "a26 = ( 1, 2, 3 )\n",
    "\n",
    "b26 = ( 1, 2, 3 )\n",
    "\n",
    "c26 = ( 2, 3, 4)\n",
    "\n",
    "if chk_identical_tuples(a26 , b26):\n",
    "    print(f\"Two tuples {a26} and {b26} are identical \\n\")\n",
    "else :\n",
    "    print(f\"Two tuples {a26} and {b26} are not identical \\n\")\n",
    "    \n",
    "\n",
    "if chk_identical_tuples(a26 , c26):\n",
    "    print(f\"Two tuples {a26} and {c26} are identical \\n\")\n",
    "else :\n",
    "    print(f\"Two tuples {a26} and {c26} are not identical \\n\")"
   ]
  },
  {
   "cell_type": "markdown",
   "metadata": {},
   "source": [
    "# 27. Sort the elements of a tuple"
   ]
  },
  {
   "cell_type": "code",
   "execution_count": 94,
   "metadata": {},
   "outputs": [
    {
     "name": "stdout",
     "output_type": "stream",
     "text": [
      "After sorting the tuple (4, 1, 5, 2, 7, 5, 9, 3, 5) , new tuple is : (1, 2, 3, 4, 5, 5, 5, 7, 9)\n"
     ]
    }
   ],
   "source": [
    "# Tuple is mutable so can't change tuple directly but for sorting, \n",
    "# we need to change it to list then sorting the list and then convert back to tuple\n",
    "\n",
    "a27 = ( 4,1,5,2,7,5,9,3,5)         # input tuple\n",
    "\n",
    "a27_list = list(a27)               # convert the tuple to list\n",
    "\n",
    "a27_list.sort()                    # sort the list in ascending order\n",
    "\n",
    "result = tuple(a27_list)           # convert back to tuple\n",
    "\n",
    "print(f\"After sorting the tuple {a27} , new tuple is : {result}\")"
   ]
  },
  {
   "cell_type": "markdown",
   "metadata": {},
   "source": [
    "# 28. Convert a tuple of integers to a tuple of strings."
   ]
  },
  {
   "cell_type": "code",
   "execution_count": 96,
   "metadata": {},
   "outputs": [
    {
     "name": "stdout",
     "output_type": "stream",
     "text": [
      "Convert a tuple of integers (1, 2, 3, 4, 5, 6) to a tuple of strings is : ('1', '2', '3', '4', '5', '6')\n"
     ]
    }
   ],
   "source": [
    "# we will simply use tuple comprehension method\n",
    "\n",
    "a28 = ( 1,2,3,4,5,6)              # input tuple\n",
    "\n",
    "result = tuple(str(x) for x in a28)\n",
    "\n",
    "print(f\"Convert a tuple of integers {a28} to a tuple of strings is : {result}\")"
   ]
  },
  {
   "cell_type": "markdown",
   "metadata": {},
   "source": [
    "# 29. Convert a tuple of strings to a tuple of integers."
   ]
  },
  {
   "cell_type": "code",
   "execution_count": 97,
   "metadata": {},
   "outputs": [
    {
     "name": "stdout",
     "output_type": "stream",
     "text": [
      "Convert a tuple of strings ('1', '2', '3', '4', '5', '6') to a tuple of integers is : (1, 2, 3, 4, 5, 6)\n"
     ]
    }
   ],
   "source": [
    "# we will simply use tuple comprehension method\n",
    "\n",
    "a29 = ('1', '2', '3', '4', '5', '6')              # input tuple\n",
    "\n",
    "result = tuple(int(x) for x in a29)\n",
    "\n",
    "print(f\"Convert a tuple of strings {a29} to a tuple of integers is : {result}\")"
   ]
  },
  {
   "cell_type": "markdown",
   "metadata": {},
   "source": [
    "# 30. Merge two tuples."
   ]
  },
  {
   "cell_type": "code",
   "execution_count": 98,
   "metadata": {},
   "outputs": [
    {
     "name": "stdout",
     "output_type": "stream",
     "text": [
      "After merging two tuples ('1', '2', '3', '4', '5', '6') and (1, 2, 3, 4, 5, 6) , new tuple is: ('1', '2', '3', '4', '5', '6', 1, 2, 3, 4, 5, 6)\n"
     ]
    }
   ],
   "source": [
    "# We will simply use '+' operator to merge two tuple. Merging and concataning are same when dealing with tuples\n",
    "\n",
    "a30 = ('1', '2', '3', '4', '5', '6')     # first tuple\n",
    "\n",
    "b30 = (1, 2, 3, 4, 5, 6)\n",
    "\n",
    "result = a30 + b30\n",
    "\n",
    "print(f\"After merging two tuples {a30} and {b30} , new tuple is: {result}\")"
   ]
  },
  {
   "cell_type": "markdown",
   "metadata": {},
   "source": [
    "# 31. Flatten a nested tuple."
   ]
  },
  {
   "cell_type": "code",
   "execution_count": 101,
   "metadata": {},
   "outputs": [],
   "source": [
    "def flatten_tuple_recursively(input_tuple):        # this function will flatten nested tuple for 1 level of nested tuple\n",
    "    \n",
    "    output_list = []       # initializing output tuple\n",
    "    \n",
    "    for i in input_tuple:               # iterate through each element in the nested tuple\n",
    "        if isinstance(i , tuple):       # if element is still tuple\n",
    "            output_list.extend(flatten_tuple_recursively(i))        # call the function recursively\n",
    "        else : \n",
    "            output_list.append(i)      # append the item  to output tuple ( if it is not the tuple )    \n",
    "        \n",
    "\n",
    "    return tuple(output_list)"
   ]
  },
  {
   "cell_type": "code",
   "execution_count": 102,
   "metadata": {},
   "outputs": [
    {
     "name": "stdout",
     "output_type": "stream",
     "text": [
      "(11, 12, 13, 14, 15, 17, 45, 46, 23, 12, 12, 21, 78, 67)\n"
     ]
    }
   ],
   "source": [
    "# test the above function\n",
    "\n",
    "input_tuple = ( ( ( 11, 12, ) , (13 , 14) ), (15 , 17) , ( (45 , 46 ) , (23, 12) , (12,21 ) ) , (78 , 67) )\n",
    "\n",
    "output_tuple = flatten_tuple_recursively(input_tuple)\n",
    "\n",
    "print(output_tuple)\n"
   ]
  },
  {
   "cell_type": "markdown",
   "metadata": {},
   "source": [
    "# 32. Create a tuple of the first 5 prime numbers."
   ]
  },
  {
   "cell_type": "markdown",
   "metadata": {},
   "source": [
    "prime number:a whole number greater than 1 that cannot be exactly divided by any whole number other than itself.\n",
    "\n",
    "so, to check 20 is prime number or not, we will check whether 20 is divisible by any number starting from 2 to 11\n",
    "\n",
    "similarly to check 50 is prime number or not, we will check whether 50 is divisible by any number starting from 2 to 26\n",
    "\n",
    "so to check n is prime number or not, we will check whether n is divisible by any number starting from 2 to (n/2) + 1"
   ]
  },
  {
   "cell_type": "code",
   "execution_count": 107,
   "metadata": {},
   "outputs": [],
   "source": [
    "# Function to check whether given number n is prime or not\n",
    "def chk_prime(n):\n",
    "    \n",
    "    if n < 2:\n",
    "        return False\n",
    "    \n",
    "    for i in range(int(n/2) + 1 ):\n",
    "        if i > 1:\n",
    "            if n % i == 0 :\n",
    "                return False\n",
    "        \n",
    "    return True\n",
    "\n",
    "def create_tuple_of_first_n_prime(n):\n",
    "    \n",
    "    prime_list = []\n",
    "    num = 2\n",
    "    \n",
    "    while len(prime_list) <= n :    #Have to create n prime number\n",
    "        if chk_prime(num):\n",
    "            prime_list.append(num)\n",
    "            \n",
    "        num += 1\n",
    "                \n",
    "    return tuple(prime_list)\n",
    "            "
   ]
  },
  {
   "cell_type": "code",
   "execution_count": 108,
   "metadata": {},
   "outputs": [
    {
     "name": "stdout",
     "output_type": "stream",
     "text": [
      "Create a tuple of the first 5 prime numbers is (2, 3, 5, 7, 11, 13)\n",
      "\n",
      "Create a tuple of the first 10 prime numbers is (2, 3, 5, 7, 11, 13, 17, 19, 23, 29, 31)\n"
     ]
    }
   ],
   "source": [
    "# Test the abive function\n",
    "\n",
    "n = 5\n",
    "\n",
    "print(f\"Create a tuple of the first {n} prime numbers is {create_tuple_of_first_n_prime(n)}\\n\")\n",
    "\n",
    "n = 10\n",
    "\n",
    "print(f\"Create a tuple of the first {n} prime numbers is {create_tuple_of_first_n_prime(n)}\")"
   ]
  },
  {
   "cell_type": "markdown",
   "metadata": {},
   "source": [
    "# 33. Check if a tuple is a palindrome."
   ]
  },
  {
   "cell_type": "markdown",
   "metadata": {},
   "source": [
    "Palindrome means if string is same as of reverse the string. We can use the reverse the tuple and compare with original"
   ]
  },
  {
   "cell_type": "code",
   "execution_count": 7,
   "metadata": {},
   "outputs": [
    {
     "name": "stdout",
     "output_type": "stream",
     "text": [
      "Your tuple ('a', 'b', 'c', 'b', 'a') is palindrome\n",
      "\n",
      "Your tuple ('a', 'b', 'c', 'd', 'b', 'a') is not a palindrome\n"
     ]
    }
   ],
   "source": [
    "# check if a tuple is a palindrome\n",
    "\n",
    "def chk_tuple_palindrome(input_tuple):\n",
    "    \n",
    "    #convert the tuples into string\n",
    "    input_str = ''.join(input_tuple)                    # conevrt the tuple elements into string\n",
    "    \n",
    "    input_str_rev = input_str[ : : -1]                  # reverse the string\n",
    "    \n",
    "    if input_str == input_str_rev:                      # check if original string is equal to reversal string\n",
    "        return True\n",
    "    else :\n",
    "        return False\n",
    "    \n",
    "\n",
    "a33 = ( 'a' , 'b' , 'c' , 'b' , 'a')      # input tuple\n",
    "\n",
    "if chk_palindrome(a33):       # check for palindrome\n",
    "    print(f\"Your tuple {a33} is palindrome\\n\")\n",
    "else :\n",
    "    print(f\"Your tuple {a33} is not a palindrome\\n\")\n",
    "    \n",
    "b33 = ( 'a' , 'b' , 'c' , 'd' , 'b' , 'a')      # input tuple\n",
    "\n",
    "if chk_palindrome(b33):       # check for palindrome\n",
    "    print(f\"Your tuple {b33} is palindrome\")\n",
    "else :\n",
    "    print(f\"Your tuple {b33} is not a palindrome\")    "
   ]
  },
  {
   "cell_type": "markdown",
   "metadata": {},
   "source": [
    "# 34. Create a tuple of squares of numbers from 1 to 5."
   ]
  },
  {
   "cell_type": "code",
   "execution_count": 10,
   "metadata": {},
   "outputs": [
    {
     "name": "stdout",
     "output_type": "stream",
     "text": [
      "(1, 4, 9, 16, 25)\n"
     ]
    }
   ],
   "source": [
    "# we can use tuple comprehension method\n",
    "\n",
    "output_tuple = tuple(x*x for x in range(1,6))\n",
    "\n",
    "print(output_tuple)"
   ]
  },
  {
   "cell_type": "markdown",
   "metadata": {},
   "source": [
    "# 35. Filter out all even numbers from a tuple."
   ]
  },
  {
   "cell_type": "code",
   "execution_count": 13,
   "metadata": {},
   "outputs": [
    {
     "name": "stdout",
     "output_type": "stream",
     "text": [
      "Filtering out all even numbers from a tuple (1, 2, 3, 4, 5, 6, 7, 8, 9, 13, 18, 21, 44, 32, 56, 23) , new tuple is (2, 4, 6, 8, 18, 44, 32, 56)\n"
     ]
    }
   ],
   "source": [
    "# we can use tuple comprehension method to filter out even numbers\n",
    "\n",
    "a35 = ( 1, 2,3,4,5,6,7,8,9,13,18,21,44,32,56,23)    # input tuple\n",
    "\n",
    "even_num_tuple = tuple(x for x in a35 if x % 2 == 0)\n",
    "\n",
    "print(f\"Filtering out all even numbers from a tuple {a35} , new tuple is {even_num_tuple}\")\n",
    "\n"
   ]
  },
  {
   "cell_type": "markdown",
   "metadata": {},
   "source": [
    "# 36. Multiply all elements in a tuple by 2."
   ]
  },
  {
   "cell_type": "code",
   "execution_count": 19,
   "metadata": {},
   "outputs": [
    {
     "name": "stdout",
     "output_type": "stream",
     "text": [
      "Multiplying all elements in a tuple (1, 2, 3, 4, 5, 6, 7, 8, 9, 13, 18, 21, 44, 32, 56, 23) by 2 , new tuple is (2, 4, 6, 8, 10, 12, 14, 16, 18, 26, 36, 42, 88, 64, 112, 46)\n"
     ]
    }
   ],
   "source": [
    "# we can use tuple comprehension method to filter out even numbers\n",
    "\n",
    "a36 = (1, 2, 3, 4, 5, 6, 7, 8, 9, 13, 18, 21, 44, 32, 56, 23)   # input tuple\n",
    "\n",
    "output_tuple = tuple(x * 2 for x in a35 )\n",
    "\n",
    "print(f\"Multiplying all elements in a tuple {a35} by 2 , new tuple is {output_tuple}\")"
   ]
  },
  {
   "cell_type": "markdown",
   "metadata": {},
   "source": [
    "# 37. Create a tuple of random numbers."
   ]
  },
  {
   "cell_type": "code",
   "execution_count": 23,
   "metadata": {},
   "outputs": [
    {
     "name": "stdout",
     "output_type": "stream",
     "text": [
      "(6, 10, 6, 6, 4, 9, 9, 10, 5)\n"
     ]
    }
   ],
   "source": [
    "# we can use random module to generate random number\n",
    "\n",
    "import random\n",
    "\n",
    "b37 = tuple(random.randint(1,10) for _ in range(1,10))     # creating tuple with random numbers\n",
    "\n",
    "print(b37)"
   ]
  },
  {
   "cell_type": "markdown",
   "metadata": {},
   "source": [
    "# 38. Check if a tuple is sorted."
   ]
  },
  {
   "cell_type": "code",
   "execution_count": 25,
   "metadata": {},
   "outputs": [],
   "source": [
    "# we can not sort any tuple directly. so, convert it to list and then check whether list is sorted or not\n",
    "\n",
    "def chk_sorted_tuple(input_tuple):\n",
    "    \n",
    "    if len(input_tuple) <= 2 :        # if there are 2 or less elements means sequence is always sorted either asc or desc\n",
    "        return True\n",
    "    \n",
    "    input_list  = list(input_tuple)   # convert the tuple to list , if length of tuple > 2\n",
    "    \n",
    "    if input_list[0] < input_list[1]:       # check for ascending order of the list\n",
    "        for i in range(len(input_list)-1):    \n",
    "            if input_list[i] > input_list[i + 1] :\n",
    "                return False\n",
    "            \n",
    "        return True\n",
    "    else :                                 # check for descending order of the list\n",
    "        for i in range(len(input_list)-1):\n",
    "            if input_list[i] < input_list[i + 1] :\n",
    "                return False\n",
    "            \n",
    "        return True\n",
    "        \n",
    "        "
   ]
  },
  {
   "cell_type": "code",
   "execution_count": 27,
   "metadata": {},
   "outputs": [
    {
     "name": "stdout",
     "output_type": "stream",
     "text": [
      "True\n",
      "False\n",
      "True\n"
     ]
    }
   ],
   "source": [
    "# Test the above function for ascending order\n",
    "\n",
    "a38_tuple = (1,2,3,4,5,6)\n",
    "\n",
    "result = chk_sorted_tuple(a38_tuple)\n",
    "\n",
    "print(result)\n",
    "\n",
    "# Test the above function for not sorted\n",
    "\n",
    "c38_tuple = (2,3,4,1,5,6)\n",
    "\n",
    "result = chk_sorted_tuple(c38_tuple)\n",
    "\n",
    "print(result)\n",
    "\n",
    "\n",
    "# Test the above function  for descending order\n",
    "\n",
    "b38_tuple = ( 12, 10 , 9, 7 , 6, 3)\n",
    "\n",
    "result = chk_sorted_tuple(b38_tuple)\n",
    "\n",
    "print(result)\n",
    "\n"
   ]
  },
  {
   "cell_type": "markdown",
   "metadata": {},
   "source": [
    "# 39. Rotate a tuple to the left by `n` positions."
   ]
  },
  {
   "cell_type": "markdown",
   "metadata": {},
   "source": [
    "Basic algorithm :\n",
    "\n",
    "let's suppose we have tuple\n",
    "\n",
    "input_tuple = (1,2,3,4,5,6)\n",
    "\n",
    "1. convert the tuple to list\n",
    "\n",
    "input_list = list(input_tuple)\n",
    "\n",
    "2) by shifting input_list by 1 position left, list will be [ 2,3,4,5,6 ,1]\n",
    "\n",
    "means , [ 2,3,4,5,6 ,1] = [ 2,3,4,5,6 ] + [ 1] = input_list[1:] + input_list[:1]\n",
    "\n",
    "3) by shifting input_list by 2 position left, list will be [ 3,4,5,6 ,1 , 2]\n",
    "\n",
    "means , [3,4,5,6 ,1 , 2] = [ 3,4,5,6 ] + [ 1 , 2] = input_list[2:] + input_list[:2]\n",
    "\n",
    "4) then convert output_tuple = tuple(output_list)"
   ]
  },
  {
   "cell_type": "code",
   "execution_count": 28,
   "metadata": {},
   "outputs": [],
   "source": [
    "# writting a function to rorate list by shifting n position left\n",
    "def rotate_tuple_left(input_tuple, n):\n",
    "    \n",
    "    #convert tuple to list\n",
    "    input_list = list(input_tuple)\n",
    "    \n",
    "    if n <= len(input_list):        # if number of shift is less than length of list\n",
    "        output_list = input_list[n:]   + input_list[:n]\n",
    "    else :                          # if number of shift is greater than length of list\n",
    "        n = n % len(input_list)\n",
    "        output_list = input_list[n:]   + input_list[:n]\n",
    "    \n",
    "    return tuple(output_list)"
   ]
  },
  {
   "cell_type": "code",
   "execution_count": 30,
   "metadata": {},
   "outputs": [
    {
     "name": "stdout",
     "output_type": "stream",
     "text": [
      "Rotate a tuple (1, 2, 3, 4, 5, 6) to the left by 3 positions then new tuple will be (4, 5, 6, 1, 2, 3)\n",
      "Rotate a tuple (1, 2, 3, 4, 5, 6) to the left by 5 positions then new tuple will be (6, 1, 2, 3, 4, 5)\n"
     ]
    }
   ],
   "source": [
    "# testing of above function\n",
    "\n",
    "input_tuple = ( 1,2,3,4,5,6)\n",
    "\n",
    "n = 3\n",
    "\n",
    "print(f\"Rotate a tuple {input_tuple } to the left by {n} positions then new tuple will be {rotate_tuple_left(input_tuple , n)}\")\n",
    "\n",
    "n = 5\n",
    "\n",
    "print(f\"Rotate a tuple {input_tuple } to the left by {n} positions then new tuple will be {rotate_tuple_left(input_tuple , n)}\")\n",
    "\n",
    "\n"
   ]
  },
  {
   "cell_type": "markdown",
   "metadata": {},
   "source": [
    "# 40. Rotate a tuple to the right by `n` positions."
   ]
  },
  {
   "cell_type": "markdown",
   "metadata": {},
   "source": [
    "Basic algorithm :\n",
    "\n",
    "let's suppose we have tuple\n",
    "\n",
    "input_tuple = (1,2,3,4,5,6)\n",
    "\n",
    "input_list = list(input_tuple)    #convert the tuple to list\n",
    "\n",
    "1) by shifting input_list by 1 position right, list will be [ 6,1,2,3,4,5]\n",
    "\n",
    "means , [ 6,1,2,3,4,5] = [ 6 ] + [ 1,2,3,4,5] = input_list[-1:] + input_list[:n-1]\n",
    "\n",
    "2) by shifting input_list by 2 position , list will be [ 5,6,1,2,3,4]\n",
    "\n",
    "means , [ 5,6,1,2,3,4] = [ 5,6] + [ 1,2,3,4] = input_list[-2:] + input_list[:len(input_list)-2]\n",
    "\n",
    "3) and at last convert the list back to tuple\n",
    "\n",
    "output_tuple = tuple(output_list)"
   ]
  },
  {
   "cell_type": "code",
   "execution_count": 31,
   "metadata": {},
   "outputs": [],
   "source": [
    "# writting a function to rorate list by shifting n position left\n",
    "def rotate_tuple_right(input_tuple, n):\n",
    "    \n",
    "    # converting tuple to list \n",
    "    input_list = list(input_tuple)\n",
    "    \n",
    "    n = n % len(input_list)         # so that number of shift will always be less than length of list\n",
    "    \n",
    "    output_list = input_list[-n:]  + input_list[:len(input_list)-n]    \n",
    "\n",
    "    return tuple(output_list)"
   ]
  },
  {
   "cell_type": "code",
   "execution_count": 32,
   "metadata": {},
   "outputs": [
    {
     "name": "stdout",
     "output_type": "stream",
     "text": [
      "Rotate a tuple (1, 2, 3, 4, 5, 6) to the right by 3 positions then new tuple will be (4, 5, 6, 1, 2, 3)\n",
      "Rotate a tuple (1, 2, 3, 4, 5, 6) to the right by 10 positions then new tuple will be (3, 4, 5, 6, 1, 2)\n"
     ]
    }
   ],
   "source": [
    "# testing of above function\n",
    "\n",
    "input_tuple = (1,2,3,4,5,6)\n",
    "\n",
    "n = 3\n",
    "\n",
    "print(f\"Rotate a tuple {input_tuple } to the right by {n} positions then new tuple will be {rotate_tuple_right(input_tuple , n)}\")\n",
    "\n",
    "n = 10\n",
    "\n",
    "print(f\"Rotate a tuple {input_tuple } to the right by {n} positions then new tuple will be {rotate_tuple_right(input_tuple , n)}\")\n"
   ]
  },
  {
   "cell_type": "markdown",
   "metadata": {},
   "source": [
    "# 41. Create a tuple of the first 5 Fibonacci numbers."
   ]
  },
  {
   "cell_type": "markdown",
   "metadata": {},
   "source": [
    "Fibonacci numbers, is defined as the sequence of numbers in which each number in the sequence is equal to the sum of two numbers before it. The Fibonacci Sequence is given as: 0, 1, 1, 2, 3, 5, 8, 13, 21, 34"
   ]
  },
  {
   "cell_type": "code",
   "execution_count": 33,
   "metadata": {},
   "outputs": [],
   "source": [
    "# Function to return fibonacci number\n",
    "def create_fibonacci(n):        \n",
    "          \n",
    "    if n <= 1:         \n",
    "        return n\n",
    "    else :\n",
    "        return (create_fibonacci(n-1) + create_fibonacci(n-2) )\n",
    "    \n",
    "# Function to return list of first n  fibonacci number\n",
    "\n",
    "def create_fibonacci_tuple(n):\n",
    "    \n",
    "    output_list = []         # create output list\n",
    "    \n",
    "    for i in range(n+1):     # for iterate through 0 to n\n",
    "        output_list.append(create_fibonacci(i))        # call create_fibonacci function for each occurance and append to list\n",
    "        \n",
    "    return tuple(output_list)"
   ]
  },
  {
   "cell_type": "code",
   "execution_count": 34,
   "metadata": {},
   "outputs": [
    {
     "name": "stdout",
     "output_type": "stream",
     "text": [
      "(0, 1, 1, 2, 3, 5)\n"
     ]
    }
   ],
   "source": [
    "# Test the above function \n",
    "\n",
    "# Create a tuple of the first 5 Fibonacci numbers\n",
    "result = create_fibonacci_tuple(5)\n",
    "\n",
    "print(result)"
   ]
  },
  {
   "cell_type": "markdown",
   "metadata": {},
   "source": [
    "# 42. Create a tuple from user input."
   ]
  },
  {
   "cell_type": "code",
   "execution_count": 60,
   "metadata": {},
   "outputs": [
    {
     "name": "stdout",
     "output_type": "stream",
     "text": [
      "Enter values separated by commas(,): abhishek,amit,nidhi,avinash\n",
      "User input tuple: ('abhishek', 'amit', 'nidhi', 'avinash')\n"
     ]
    }
   ],
   "source": [
    "# Get input from the user\n",
    "input_values = input(\"Enter values separated by commas(,): \")\n",
    "\n",
    "# Split the input string into a list of values\n",
    "values_list = input_values.split(',')\n",
    "\n",
    "# Convert the list of values to a tuple\n",
    "user_tuple = tuple(values_list)\n",
    "\n",
    "# Display the resulting tuple\n",
    "print(\"User input tuple:\",user_tuple)\n"
   ]
  },
  {
   "cell_type": "markdown",
   "metadata": {},
   "source": [
    "# 43. Swap two elements in a tuple."
   ]
  },
  {
   "cell_type": "markdown",
   "metadata": {},
   "source": [
    "We can;t change the elements in tuple directly. so, we can convert it to list and change the list and then revert back to tuple"
   ]
  },
  {
   "cell_type": "code",
   "execution_count": 35,
   "metadata": {},
   "outputs": [],
   "source": [
    "def swap_tuple_by_indices(input_tuple, i , j):\n",
    "    \n",
    "    #Convert the tuple to list\n",
    "    input_list = list(input_tuple)\n",
    "    \n",
    "    # swap logic using 3rd variable\n",
    "    a = input_list[i]               \n",
    "    input_list[i] = input_list[j]\n",
    "    input_list[j] = a\n",
    "    \n",
    "    return tuple(input_list)"
   ]
  },
  {
   "cell_type": "code",
   "execution_count": 36,
   "metadata": {},
   "outputs": [
    {
     "name": "stdout",
     "output_type": "stream",
     "text": [
      "After swapping the value for index 3 with value at index 5 of tuple (2, 33, 4, 51, 6, 75, 91) , new tuple is : (2, 33, 4, 75, 6, 51, 91)\n"
     ]
    }
   ],
   "source": [
    "#Testing of above function\n",
    "\n",
    "input_tuple = ( 2, 33, 4, 51, 6, 75 , 91)\n",
    "\n",
    "i = 3\n",
    "\n",
    "j = 5\n",
    "\n",
    "print(f\"After swapping the value for index {i} with value at index {j} of tuple {input_tuple} , new tuple is : {swap_tuple_by_indices(input_tuple , i , j)}\")"
   ]
  },
  {
   "cell_type": "markdown",
   "metadata": {},
   "source": [
    "# 44. Reverse the elements of a tuple."
   ]
  },
  {
   "cell_type": "markdown",
   "metadata": {},
   "source": [
    "We can't change tuple d irectly, need to convert it to list"
   ]
  },
  {
   "cell_type": "code",
   "execution_count": 38,
   "metadata": {},
   "outputs": [],
   "source": [
    "def reverse_tuple(input_tuple):\n",
    "    \n",
    "    #convert tuple to list\n",
    "    input_list = list(input_tuple)\n",
    "    \n",
    "    input_list.reverse()              # using inbuilt reverse() function\n",
    "    \n",
    "    return tuple(input_list)"
   ]
  },
  {
   "cell_type": "code",
   "execution_count": 40,
   "metadata": {},
   "outputs": [
    {
     "name": "stdout",
     "output_type": "stream",
     "text": [
      "Reverse the elements of a tuple (2, 12, 4, 14, 1, 0, 9, 14) , new tuple will be (14, 9, 0, 1, 14, 4, 12, 2)\n"
     ]
    }
   ],
   "source": [
    "# test the above function\n",
    "\n",
    "a44 = ( 2,12,4,14,1,0,9,14)\n",
    "\n",
    "print(f\"Reverse the elements of a tuple {a44} , new tuple will be {reverse_tuple(a44)}\")"
   ]
  },
  {
   "cell_type": "markdown",
   "metadata": {},
   "source": [
    "# 45. Create a tuple of the first `n` powers of 2."
   ]
  },
  {
   "cell_type": "markdown",
   "metadata": {},
   "source": [
    "We can use list comprehension method and then convert back to tuple"
   ]
  },
  {
   "cell_type": "code",
   "execution_count": 41,
   "metadata": {},
   "outputs": [
    {
     "name": "stdout",
     "output_type": "stream",
     "text": [
      "a tuple of the first 10 powers of 2 is (1, 2, 4, 8, 16, 32, 64, 128, 256, 512)\n",
      "\n",
      "a tuple of the first 15 powers of 2 is (1, 2, 4, 8, 16, 32, 64, 128, 256, 512, 1024, 2048, 4096, 8192, 16384)\n",
      "\n"
     ]
    }
   ],
   "source": [
    "#Create a tuple of the first `n` powers of 2\n",
    "\n",
    "n = 10\n",
    "\n",
    "output_tuple = tuple([ 2**i for i in range(n)])\n",
    "\n",
    "print(f\"a tuple of the first {n} powers of 2 is {output_tuple}\\n\")\n",
    "\n",
    "n = 15\n",
    "\n",
    "output_tuple1 = tuple([ 2**i for i in range(n)])\n",
    "\n",
    "print(f\"a tuple of the first {n} powers of 2 is {output_tuple1}\\n\")"
   ]
  },
  {
   "cell_type": "markdown",
   "metadata": {},
   "source": [
    "# 46. Find the longest string in a tuple of strings."
   ]
  },
  {
   "cell_type": "code",
   "execution_count": 49,
   "metadata": {},
   "outputs": [],
   "source": [
    "def longest_string(input_tuple):\n",
    "     \n",
    "    # converting tuple to list\n",
    "    input_list = list(input_tuple)\n",
    "    long_str = ''\n",
    "    \n",
    "    for x in input_list:\n",
    "        if len(x) >= len(long_str) :\n",
    "            long_str = x\n",
    "                \n",
    "    return long_str"
   ]
  },
  {
   "cell_type": "code",
   "execution_count": 50,
   "metadata": {},
   "outputs": [
    {
     "name": "stdout",
     "output_type": "stream",
     "text": [
      "The longest string in the tuple ('I', 'am', 'Abhishek', 'Kumar.', 'I', 'Love', 'My', 'country') is Abhishek\n"
     ]
    }
   ],
   "source": [
    "# testing of the above function\n",
    "\n",
    "my_tuple1 = ('I', 'am', 'Abhishek', 'Kumar.', 'I', 'Love', 'My', 'country')\n",
    "\n",
    "print(f\"The longest string in the tuple {my_tuple1} is {longest_string(my_tuple1)}\")"
   ]
  },
  {
   "cell_type": "markdown",
   "metadata": {},
   "source": [
    "# 47. Find the shortest string in a tuple of strings."
   ]
  },
  {
   "cell_type": "code",
   "execution_count": 51,
   "metadata": {},
   "outputs": [],
   "source": [
    "def shortest_string(input_tuple):\n",
    "    \n",
    "    # converting tuple to list\n",
    "    input_list = list(input_tuple)\n",
    "       \n",
    "    short_str = input_list[0]\n",
    "    \n",
    "    for x in input_list:\n",
    "        if len(x) <= len(short_str) :\n",
    "            short_str = x\n",
    "                \n",
    "    return short_str"
   ]
  },
  {
   "cell_type": "code",
   "execution_count": 52,
   "metadata": {},
   "outputs": [
    {
     "name": "stdout",
     "output_type": "stream",
     "text": [
      "The shortest string in the list ('I', 'am', 'Abhishek', 'Kumar.', 'I', 'Love', 'My', 'country') is I\n"
     ]
    }
   ],
   "source": [
    "# testing of the above function\n",
    "\n",
    "my_tuple = ('I', 'am', 'Abhishek', 'Kumar.', 'I', 'Love', 'My', 'country')\n",
    "\n",
    "print(f\"The shortest string in the list {my_tuple} is {shortest_string(my_tuple)}\")"
   ]
  },
  {
   "cell_type": "markdown",
   "metadata": {},
   "source": [
    "# 48. Create a tuple of the first `n` triangular numbers."
   ]
  },
  {
   "cell_type": "markdown",
   "metadata": {},
   "source": [
    "Triangular numbers are numbers that make up the sequence 1, 3, 6, 10, . . .. The nth triangular number in the sequence is the number of dots it would take to make an equilateral triangle with n dots on each side. The formula for the nth triangular number is (n)(n + 1) / 2\n",
    "\n",
    "There are 13 triangular numbers in the first 100 numbers. These are 1, 3, 6, 10, 15, 21, 28, 36, 45, 55, 66, 78, 91."
   ]
  },
  {
   "cell_type": "code",
   "execution_count": 53,
   "metadata": {},
   "outputs": [
    {
     "name": "stdout",
     "output_type": "stream",
     "text": [
      "a tuple of the first 10 triangular numbers is : (1, 3, 6, 10, 15, 21, 28, 36, 45, 55)\n",
      "\n",
      "a tuple of the first 13 triangular numbers is : (1, 3, 6, 10, 15, 21, 28, 36, 45, 55, 66, 78, 91)\n"
     ]
    }
   ],
   "source": [
    "# function to find nth triangular number\n",
    "def nth_triangular_num(n):\n",
    "    \n",
    "    triangular_num = int(( n * ( n +1 ) ) / 2 )\n",
    "    \n",
    "    return  triangular_num     # nth triangular number\n",
    "\n",
    "def first_n_triangular_num(n):\n",
    "    \n",
    "    output_list = []           # initualize the output list\n",
    "    \n",
    "    for i in range( 1, n+1):\n",
    "        if i > 0 :\n",
    "            triangular_num = nth_triangular_num(i)\n",
    "            output_list.append(triangular_num)\n",
    "            \n",
    "    return tuple(output_list)\n",
    "   \n",
    "#Test the above function\n",
    "\n",
    "n = 10 \n",
    "\n",
    "print(f\"a tuple of the first {n} triangular numbers is : {first_n_triangular_num(n)}\\n\")\n",
    "\n",
    "\n",
    "n = 13 \n",
    "\n",
    "print(f\"a tuple of the first {n} triangular numbers is : {first_n_triangular_num(n)}\")"
   ]
  },
  {
   "cell_type": "markdown",
   "metadata": {},
   "source": [
    "# 49. Check if a tuple contains another tuple as a subsequence."
   ]
  },
  {
   "cell_type": "markdown",
   "metadata": {},
   "source": [
    "We can write own function to check whether if a tuple contains another tuple as a subsequence using isinstance() method"
   ]
  },
  {
   "cell_type": "code",
   "execution_count": 54,
   "metadata": {},
   "outputs": [],
   "source": [
    "def chk_tuple_for_subsequence(input_tuple):\n",
    "    \n",
    "    for x in input_tuple:          # Iterate through all elements of tuple\n",
    "        if isinstance(x,tuple):     # check if element is instance of tuple\n",
    "            return True            # return True\n",
    "        \n",
    "    return False"
   ]
  },
  {
   "cell_type": "code",
   "execution_count": 55,
   "metadata": {},
   "outputs": [
    {
     "name": "stdout",
     "output_type": "stream",
     "text": [
      "The tuple (2, 3, (4, 5), 6, 7) contains another tuple as a subsequence\n",
      "The tuple (2, 3, 4, 5, 6, 7) do not contains another tuple as a subsequence\n"
     ]
    }
   ],
   "source": [
    "#Test of above function\n",
    "\n",
    "a49_tuple = (2,3,(4,5) , 6 , 7)\n",
    "\n",
    "if chk_tuple_for_subsequence(a49_tuple):\n",
    "    print(f\"The tuple {a49_tuple} contains another tuple as a subsequence\")\n",
    "else :\n",
    "    print(f\"The tuple {a49_tuple} do not contains another tuple as a subsequence\")\n",
    "    \n",
    "\n",
    "b49_tuple = ( 2,3, 4,5 , 6 , 7 )\n",
    "\n",
    "if chk_tuple_for_subsequence(b49_tuple):\n",
    "    print(f\"The tuple {b49_tuple} contains another tuple as a subsequence\")\n",
    "else :\n",
    "    print(f\"The tuple {b49_tuple} do not contains another tuple as a subsequence\")\n",
    "    "
   ]
  },
  {
   "cell_type": "markdown",
   "metadata": {},
   "source": [
    "# 50. Create a tuple of alternating 1s and 0s of length `n`."
   ]
  },
  {
   "cell_type": "code",
   "execution_count": 58,
   "metadata": {},
   "outputs": [
    {
     "name": "stdout",
     "output_type": "stream",
     "text": [
      "(1, 0, 1, 0, 1, 0, 1, 0, 1, 0, 1, 0, 1, 0, 1, 0, 1, 0, 1, 0)\n"
     ]
    }
   ],
   "source": [
    "# We can use simply tuple comprehension method \n",
    "n = 20\n",
    "\n",
    "result_tuple = tuple(1 if x %2 == 0 else 0 for x in range(n))\n",
    "\n",
    "print(result_tuple)"
   ]
  },
  {
   "cell_type": "code",
   "execution_count": null,
   "metadata": {},
   "outputs": [],
   "source": []
  }
 ],
 "metadata": {
  "kernelspec": {
   "display_name": "Python 3",
   "language": "python",
   "name": "python3"
  },
  "language_info": {
   "codemirror_mode": {
    "name": "ipython",
    "version": 3
   },
   "file_extension": ".py",
   "mimetype": "text/x-python",
   "name": "python",
   "nbconvert_exporter": "python",
   "pygments_lexer": "ipython3",
   "version": "3.8.5"
  }
 },
 "nbformat": 4,
 "nbformat_minor": 4
}
