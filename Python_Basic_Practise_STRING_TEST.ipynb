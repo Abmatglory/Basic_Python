{
 "cells": [
  {
   "cell_type": "markdown",
   "metadata": {},
   "source": [
    "# TOPIC: String Based Problem"
   ]
  },
  {
   "cell_type": "markdown",
   "metadata": {},
   "source": [
    "# 1. Write a program to reverse a string."
   ]
  },
  {
   "cell_type": "code",
   "execution_count": 16,
   "metadata": {},
   "outputs": [
    {
     "name": "stdout",
     "output_type": "stream",
     "text": [
      "Enter the string you want to reversed : abhishek\n"
     ]
    }
   ],
   "source": [
    "a = input(\"Enter the string you want to reversed : \")"
   ]
  },
  {
   "cell_type": "code",
   "execution_count": 17,
   "metadata": {},
   "outputs": [
    {
     "name": "stdout",
     "output_type": "stream",
     "text": [
      "Thank you , you have given string : abhishek\n"
     ]
    }
   ],
   "source": [
    "print(\"Thank you , you have given string :\" , a)"
   ]
  },
  {
   "cell_type": "code",
   "execution_count": 18,
   "metadata": {},
   "outputs": [],
   "source": [
    "b = a[: : -1]"
   ]
  },
  {
   "cell_type": "code",
   "execution_count": 19,
   "metadata": {},
   "outputs": [
    {
     "data": {
      "text/plain": [
       "'kehsihba'"
      ]
     },
     "execution_count": 19,
     "metadata": {},
     "output_type": "execute_result"
    }
   ],
   "source": [
    "b"
   ]
  },
  {
   "cell_type": "code",
   "execution_count": 20,
   "metadata": {},
   "outputs": [
    {
     "name": "stdout",
     "output_type": "stream",
     "text": [
      "Your reverse string is : kehsihba\n"
     ]
    }
   ],
   "source": [
    "print(\"Your reverse string is :\" , b)"
   ]
  },
  {
   "cell_type": "markdown",
   "metadata": {},
   "source": [
    "We can write the function to reverse the string as well with same logic"
   ]
  },
  {
   "cell_type": "code",
   "execution_count": 21,
   "metadata": {},
   "outputs": [],
   "source": [
    "def reverse_string(input_str):\n",
    "    output_str = input_str[: : -1]\n",
    "    return output_str"
   ]
  },
  {
   "cell_type": "code",
   "execution_count": 23,
   "metadata": {},
   "outputs": [
    {
     "name": "stdout",
     "output_type": "stream",
     "text": [
      "Enter the string you want to reversed : nidhi\n"
     ]
    }
   ],
   "source": [
    "a = input(\"Enter the string you want to reversed : \")"
   ]
  },
  {
   "cell_type": "code",
   "execution_count": 25,
   "metadata": {},
   "outputs": [
    {
     "name": "stdout",
     "output_type": "stream",
     "text": [
      "Your reverse string is : ihdin\n"
     ]
    }
   ],
   "source": [
    "print(\"Your reverse string is :\" , reverse_string(a) )"
   ]
  },
  {
   "cell_type": "markdown",
   "metadata": {},
   "source": [
    "# 2. Check if a string is a palindrome."
   ]
  },
  {
   "cell_type": "markdown",
   "metadata": {},
   "source": [
    "Palindrome means if string is same as of reverse the string. We can use the reverse_string() function from q#1"
   ]
  },
  {
   "cell_type": "code",
   "execution_count": 32,
   "metadata": {},
   "outputs": [
    {
     "name": "stdout",
     "output_type": "stream",
     "text": [
      "Please Enter your string to check palindrome or not ?abhishek\n"
     ]
    }
   ],
   "source": [
    "a2 = input(\"Please Enter your string to check palindrome or not ?\")"
   ]
  },
  {
   "cell_type": "code",
   "execution_count": 33,
   "metadata": {},
   "outputs": [
    {
     "name": "stdout",
     "output_type": "stream",
     "text": [
      "Your string 'abhishek' is not a Palindrome\n"
     ]
    }
   ],
   "source": [
    "if a2 == reverse_string(a2):\n",
    "    print(\"Your string \\'\" + a2 + \"\\' is Palindrome\")\n",
    "else :\n",
    "    print(\"Your string \\'\" + a2 + \"\\' is not a Palindrome\")"
   ]
  },
  {
   "cell_type": "markdown",
   "metadata": {},
   "source": [
    "# 3. Convert a string to uppercase."
   ]
  },
  {
   "cell_type": "code",
   "execution_count": 37,
   "metadata": {},
   "outputs": [
    {
     "name": "stdout",
     "output_type": "stream",
     "text": [
      "Please Enter your string abhishek\n"
     ]
    }
   ],
   "source": [
    "a3 = input(\"Please Enter your string \")"
   ]
  },
  {
   "cell_type": "code",
   "execution_count": 38,
   "metadata": {},
   "outputs": [],
   "source": [
    "b3 = a3.upper()"
   ]
  },
  {
   "cell_type": "code",
   "execution_count": 40,
   "metadata": {},
   "outputs": [
    {
     "name": "stdout",
     "output_type": "stream",
     "text": [
      "Your string in uppercase is  ABHISHEK\n"
     ]
    }
   ],
   "source": [
    "print(\"Your string in uppercase is \" , b3)"
   ]
  },
  {
   "cell_type": "markdown",
   "metadata": {},
   "source": [
    "# 4. Convert a string to lowercase."
   ]
  },
  {
   "cell_type": "code",
   "execution_count": 47,
   "metadata": {},
   "outputs": [
    {
     "name": "stdout",
     "output_type": "stream",
     "text": [
      "Please Enter your string ABHISHEK'\n"
     ]
    }
   ],
   "source": [
    "a4 = input(\"Please Enter your string \")"
   ]
  },
  {
   "cell_type": "code",
   "execution_count": 48,
   "metadata": {},
   "outputs": [],
   "source": [
    "b4 = a4.lower()"
   ]
  },
  {
   "cell_type": "markdown",
   "metadata": {},
   "source": [
    "# print(\"Your string in lowercase is \" , b4)"
   ]
  },
  {
   "cell_type": "markdown",
   "metadata": {},
   "source": [
    "# 5. Count the number of vowels in a string."
   ]
  },
  {
   "cell_type": "markdown",
   "metadata": {},
   "source": [
    "We can write a function to count the number of vowels in given string"
   ]
  },
  {
   "cell_type": "code",
   "execution_count": 59,
   "metadata": {},
   "outputs": [],
   "source": [
    "def count_vowel(input_str):\n",
    "    input_str_in_lower = input_str.lower()   # make the string to lower case \n",
    "    v_count = 0     # initialize the counter\n",
    "    for i in input_str_in_lower:   # check each letter of input string\n",
    "        if i in [ 'a' , 'e' , 'i' , 'o' , 'u']:   # if letter is vowel\n",
    "            v_count += 1   # increase the count\n",
    "    return v_count\n",
    "    "
   ]
  },
  {
   "cell_type": "code",
   "execution_count": 63,
   "metadata": {},
   "outputs": [
    {
     "name": "stdout",
     "output_type": "stream",
     "text": [
      "Please provide your stringMY name IS INDia\n"
     ]
    }
   ],
   "source": [
    "a5 = input(\"Please provide your string\")"
   ]
  },
  {
   "cell_type": "code",
   "execution_count": 64,
   "metadata": {},
   "outputs": [
    {
     "name": "stdout",
     "output_type": "stream",
     "text": [
      "You have given string : MY name IS INDia\n"
     ]
    }
   ],
   "source": [
    "print(\"You have given string :\" , a5)"
   ]
  },
  {
   "cell_type": "code",
   "execution_count": 65,
   "metadata": {},
   "outputs": [
    {
     "name": "stdout",
     "output_type": "stream",
     "text": [
      "Number of vowels in your above string is: 6\n"
     ]
    }
   ],
   "source": [
    "print(\"Number of vowels in your above string is:\" , count_vowel(a5) )"
   ]
  },
  {
   "cell_type": "markdown",
   "metadata": {},
   "source": [
    "Note: We can use set for vowels as well and without converting string to lower case like below"
   ]
  },
  {
   "cell_type": "code",
   "execution_count": 67,
   "metadata": {},
   "outputs": [],
   "source": [
    "def count_vowel_2nd_way(input_str):\n",
    "    vowel_set = set('aeiouAEIOU')\n",
    "    count_vowel = sum( 1 for i in input_str if i in vowel_set  )\n",
    "    return count_vowel"
   ]
  },
  {
   "cell_type": "code",
   "execution_count": 68,
   "metadata": {},
   "outputs": [
    {
     "name": "stdout",
     "output_type": "stream",
     "text": [
      "Please provide your stringI LOVE my india , i love my india\n"
     ]
    }
   ],
   "source": [
    "a5 = input(\"Please provide your string\")"
   ]
  },
  {
   "cell_type": "code",
   "execution_count": 69,
   "metadata": {},
   "outputs": [
    {
     "name": "stdout",
     "output_type": "stream",
     "text": [
      "You have given string : I LOVE my india , i love my india\n"
     ]
    }
   ],
   "source": [
    "print(\"You have given string :\" , a5)"
   ]
  },
  {
   "cell_type": "code",
   "execution_count": 70,
   "metadata": {},
   "outputs": [
    {
     "name": "stdout",
     "output_type": "stream",
     "text": [
      "Number of vowels in your above string is: 12\n"
     ]
    }
   ],
   "source": [
    "print(\"Number of vowels in your above string is:\" , count_vowel_2nd_way(a5) )"
   ]
  },
  {
   "cell_type": "markdown",
   "metadata": {},
   "source": [
    "# 6. Count the number of consonants in a string."
   ]
  },
  {
   "cell_type": "markdown",
   "metadata": {},
   "source": [
    "We can write a function to count the number of consonants in given string"
   ]
  },
  {
   "cell_type": "code",
   "execution_count": 71,
   "metadata": {},
   "outputs": [],
   "source": [
    "def count_consonants(input_str):\n",
    "    c_count = 0     # initialize the counter\n",
    "    vowel_list = [ 'a' , 'e' , 'i' , 'o' , 'u']\n",
    "    for i in input_str:   # check each letter of input string\n",
    "        if i.isalpha() and i.lower() not in vowel_list:\n",
    "            # check if letter is alphabetic and then check is not vowel\n",
    "            c_count += 1   # increment the counter\n",
    "        \n",
    "    return c_count"
   ]
  },
  {
   "cell_type": "code",
   "execution_count": 76,
   "metadata": {},
   "outputs": [
    {
     "name": "stdout",
     "output_type": "stream",
     "text": [
      "Please provide your stringI LOVE my india 123, i love my india 456\n"
     ]
    }
   ],
   "source": [
    "a6 = input(\"Please provide your string\")"
   ]
  },
  {
   "cell_type": "code",
   "execution_count": 77,
   "metadata": {},
   "outputs": [
    {
     "name": "stdout",
     "output_type": "stream",
     "text": [
      "You have given string : I LOVE my india 123, i love my india 456\n"
     ]
    }
   ],
   "source": [
    "print(\"You have given string :\" , a6)"
   ]
  },
  {
   "cell_type": "code",
   "execution_count": 78,
   "metadata": {},
   "outputs": [
    {
     "name": "stdout",
     "output_type": "stream",
     "text": [
      "Number of consonants in your above string is: 12\n"
     ]
    }
   ],
   "source": [
    "print(\"Number of consonants in your above string is:\" , count_consonants(a6) )"
   ]
  },
  {
   "cell_type": "markdown",
   "metadata": {},
   "source": [
    "# 7. Remove all whitespaces from a string."
   ]
  },
  {
   "cell_type": "markdown",
   "metadata": {},
   "source": [
    "strip() replace white space from beginning and end .\n",
    "\n",
    "while replace() can replace any string value. So, we will use string function replace()"
   ]
  },
  {
   "cell_type": "code",
   "execution_count": 80,
   "metadata": {},
   "outputs": [],
   "source": [
    "def remove_white_space(input_str):\n",
    "    return input_str.replace(\" \" , \"\")   # replace space"
   ]
  },
  {
   "cell_type": "code",
   "execution_count": 84,
   "metadata": {},
   "outputs": [
    {
     "name": "stdout",
     "output_type": "stream",
     "text": [
      "Please provide your stringI LOVE 123 TO MY INDIA\n"
     ]
    }
   ],
   "source": [
    "a7 = input(\"Please provide your string\")"
   ]
  },
  {
   "cell_type": "code",
   "execution_count": 85,
   "metadata": {},
   "outputs": [
    {
     "name": "stdout",
     "output_type": "stream",
     "text": [
      "You have given string : I LOVE 123 TO MY INDIA\n"
     ]
    }
   ],
   "source": [
    "print(\"You have given string :\" , a7)"
   ]
  },
  {
   "cell_type": "code",
   "execution_count": 86,
   "metadata": {},
   "outputs": [
    {
     "name": "stdout",
     "output_type": "stream",
     "text": [
      "Your string after white space removal is  ILOVE123TOMYINDIA\n"
     ]
    }
   ],
   "source": [
    "print(\"Your string after white space removal is \" , remove_white_space(a7) )"
   ]
  },
  {
   "cell_type": "markdown",
   "metadata": {},
   "source": [
    "# 8. Find the length of a string without using the `len()` function."
   ]
  },
  {
   "cell_type": "code",
   "execution_count": 93,
   "metadata": {},
   "outputs": [],
   "source": [
    "def string_length(input_str):\n",
    "    str_length = 0\n",
    "    for i in input_str:  # check each character of string\n",
    "        str_length += 1\n",
    "    return str_length"
   ]
  },
  {
   "cell_type": "code",
   "execution_count": 94,
   "metadata": {},
   "outputs": [
    {
     "name": "stdout",
     "output_type": "stream",
     "text": [
      "Please provide your stringi love my indian\n"
     ]
    }
   ],
   "source": [
    "a8 = input(\"Please provide your string\")"
   ]
  },
  {
   "cell_type": "code",
   "execution_count": 97,
   "metadata": {},
   "outputs": [
    {
     "name": "stdout",
     "output_type": "stream",
     "text": [
      "You have given string : \"i love my indian\" and length of your string is :  16\n"
     ]
    }
   ],
   "source": [
    "print(\"You have given string : \\\"\" + a8 + '\\\" and length of your string is : ' , string_length(a8))"
   ]
  },
  {
   "cell_type": "markdown",
   "metadata": {},
   "source": [
    "# 9. Check if a string contains a specific word."
   ]
  },
  {
   "cell_type": "code",
   "execution_count": 99,
   "metadata": {},
   "outputs": [],
   "source": [
    "def string_contain_word_chk(input_str ,target_word):\n",
    "    return target_word in input_str"
   ]
  },
  {
   "cell_type": "code",
   "execution_count": 100,
   "metadata": {},
   "outputs": [
    {
     "name": "stdout",
     "output_type": "stream",
     "text": [
      "Please provide your string to check ...i love my india\n"
     ]
    }
   ],
   "source": [
    "a9 = input(\"Please provide your string to check ...\")"
   ]
  },
  {
   "cell_type": "code",
   "execution_count": 101,
   "metadata": {},
   "outputs": [
    {
     "name": "stdout",
     "output_type": "stream",
     "text": [
      "Please provide your target word..love\n"
     ]
    }
   ],
   "source": [
    "b9 = input(\"Please provide your target word..\")"
   ]
  },
  {
   "cell_type": "code",
   "execution_count": 103,
   "metadata": {},
   "outputs": [
    {
     "name": "stdout",
     "output_type": "stream",
     "text": [
      "Your string \"i love my india\" contains your target word :  love\n"
     ]
    }
   ],
   "source": [
    "if string_contain_word_chk(a9, b9):\n",
    "    print(\"Your string \\\"\" + a9 + \"\\\" contains your target word : \" , b9)\n",
    "else :\n",
    "    print(\"Your string \\\"\" + a9 + \"\\\" do not contains your target word : \" , b9)"
   ]
  },
  {
   "cell_type": "markdown",
   "metadata": {},
   "source": [
    "# 10. Replace a word in a string with another word."
   ]
  },
  {
   "cell_type": "markdown",
   "metadata": {},
   "source": [
    "Writting a function where word1 will be replaced by word2"
   ]
  },
  {
   "cell_type": "code",
   "execution_count": 119,
   "metadata": {},
   "outputs": [],
   "source": [
    "def replace_word_in_string(input_str , word1 , word2):\n",
    "    if word1 in input_str:\n",
    "        return input_str.replace(word1 , word2)\n",
    "    else :\n",
    "        return \"word not found in your string\""
   ]
  },
  {
   "cell_type": "code",
   "execution_count": 115,
   "metadata": {},
   "outputs": [
    {
     "name": "stdout",
     "output_type": "stream",
     "text": [
      "Please provide your string...i love my india\n"
     ]
    }
   ],
   "source": [
    "a10 = input(\"Please provide your string...\")"
   ]
  },
  {
   "cell_type": "code",
   "execution_count": 116,
   "metadata": {},
   "outputs": [
    {
     "name": "stdout",
     "output_type": "stream",
     "text": [
      "which word you want to replace in your string ?my\n"
     ]
    }
   ],
   "source": [
    "b10 = input(\"which word you want to replace in your string ?\")"
   ]
  },
  {
   "cell_type": "code",
   "execution_count": 117,
   "metadata": {},
   "outputs": [
    {
     "name": "stdout",
     "output_type": "stream",
     "text": [
      "Please provide the new wordour\n"
     ]
    }
   ],
   "source": [
    "c10 = input(\"Please provide the new word\")"
   ]
  },
  {
   "cell_type": "code",
   "execution_count": 120,
   "metadata": {},
   "outputs": [
    {
     "name": "stdout",
     "output_type": "stream",
     "text": [
      "Your original string : i love my india\n",
      "Your updated string : i love our india\n"
     ]
    }
   ],
   "source": [
    "if b10 in a10 :    \n",
    "    print(\"Your original string :\" , a10)\n",
    "    print(\"Your updated string :\" , replace_word_in_string (a10 ,b10 , c10))\n",
    "else :\n",
    "    print(\"Your sentence \", a10 , \" do not contains the word :\" ,b10)"
   ]
  },
  {
   "cell_type": "markdown",
   "metadata": {},
   "source": [
    "# 11. Count the occurrences of a word in a string."
   ]
  },
  {
   "cell_type": "code",
   "execution_count": 13,
   "metadata": {},
   "outputs": [],
   "source": [
    "def count_word_in_sentence(input_str,target_word):\n",
    "    \n",
    "    # Cobvert the input string and Target word to lower case\n",
    "    input_str = input_str.lower()\n",
    "    target_word = target_word.lower()\n",
    "    \n",
    "    #Convert the string into list of words\n",
    "    input_str_in_words = input_str.split()\n",
    "    \n",
    "    count = 0 # initialize the count\n",
    "    \n",
    "    for i in input_str_in_words:   #Check each words in list of words\n",
    "        if i == target_word:\n",
    "            count += 1\n",
    "    return count\n",
    "    \n",
    "    \n",
    "    "
   ]
  },
  {
   "cell_type": "code",
   "execution_count": 14,
   "metadata": {},
   "outputs": [
    {
     "name": "stdout",
     "output_type": "stream",
     "text": [
      "Please provide your string...i love my india . india is very rich COUNTRY IDNIA INDIA\n"
     ]
    }
   ],
   "source": [
    "a11 = input(\"Please provide your string...\")"
   ]
  },
  {
   "cell_type": "code",
   "execution_count": 15,
   "metadata": {},
   "outputs": [
    {
     "name": "stdout",
     "output_type": "stream",
     "text": [
      "which word you want to check ?INDIA\n"
     ]
    }
   ],
   "source": [
    "b11 = input(\"which word you want to check ?\")"
   ]
  },
  {
   "cell_type": "code",
   "execution_count": 16,
   "metadata": {},
   "outputs": [],
   "source": [
    "count = count_word_in_sentence(a11 , b11)"
   ]
  },
  {
   "cell_type": "code",
   "execution_count": 17,
   "metadata": {},
   "outputs": [
    {
     "name": "stdout",
     "output_type": "stream",
     "text": [
      "Number of \"INDIA\" in your string \"i love my india . india is very rich COUNTRY IDNIA INDIA\" is :  3\n"
     ]
    }
   ],
   "source": [
    "print(\"Number of \\\"\" +b11+ \"\\\" in your string \\\"\" +a11 + \"\\\" is : \" , count )"
   ]
  },
  {
   "cell_type": "markdown",
   "metadata": {},
   "source": [
    "# 12. Find the first occurrence of a word in a string."
   ]
  },
  {
   "cell_type": "code",
   "execution_count": 27,
   "metadata": {},
   "outputs": [],
   "source": [
    "def first_occur_in_sentence(input_str,target_word):\n",
    "    \n",
    "    # Cobvert the input string and Target word to lower case\n",
    "    input_str = input_str.lower()\n",
    "    target_word = target_word.lower()\n",
    "    \n",
    "    #Convert the string into list of words\n",
    "    input_str_in_words = input_str.split()\n",
    "    \n",
    "    # Check the index of target word in list of words    \n",
    "    occur_index = input_str_in_words.index(target_word)\n",
    "    \n",
    "    return occur_index\n",
    "    "
   ]
  },
  {
   "cell_type": "code",
   "execution_count": 24,
   "metadata": {},
   "outputs": [
    {
     "name": "stdout",
     "output_type": "stream",
     "text": [
      "Please provide your string...i love my india . India is my country .\n"
     ]
    }
   ],
   "source": [
    "a12 = input(\"Please provide your string...\")"
   ]
  },
  {
   "cell_type": "code",
   "execution_count": 25,
   "metadata": {},
   "outputs": [
    {
     "name": "stdout",
     "output_type": "stream",
     "text": [
      "which word you want to check ?india\n"
     ]
    }
   ],
   "source": [
    "b12 = input(\"which word you want to check ?\")"
   ]
  },
  {
   "cell_type": "code",
   "execution_count": 29,
   "metadata": {},
   "outputs": [
    {
     "name": "stdout",
     "output_type": "stream",
     "text": [
      "First occurnace of word \"india\" in your given string \"i love my india . India is my country .\" is : 3\n"
     ]
    }
   ],
   "source": [
    "if first_occur_in_sentence(a12,b12) == -1 :  # for not found case\n",
    "    print(\"Your word \\\"\" + b12 + \"\\\"not found in your given string \\\"\"  + a12 + \"\\\"\")\n",
    "else :\n",
    "    print(\"First occurnace of word \\\"\" + b12 + \"\\\" in your given string \\\"\" + a12 + \"\\\" is :\" , first_occur_in_sentence(a12,b12) )"
   ]
  },
  {
   "cell_type": "markdown",
   "metadata": {},
   "source": [
    "# 13. Find the last occurrence of a word in a string."
   ]
  },
  {
   "cell_type": "code",
   "execution_count": 64,
   "metadata": {},
   "outputs": [],
   "source": [
    "def last_occur_in_sentence(input_str,target_word):\n",
    "    \n",
    "    # Cobvert the input string and Target word to lower case\n",
    "    input_str = input_str.lower()\n",
    "    target_word = target_word.lower()\n",
    "    \n",
    "    #Convert the string into list of words\n",
    "    input_str_in_words = input_str.split()\n",
    "    \n",
    "    # count the word in sin list of words\n",
    "    words_count = len(input_str_in_words)\n",
    "    \n",
    "    # Reversed the list of word\n",
    "    input_str_in_words_rev = list(reversed(input_str_in_words))\n",
    "     \n",
    "    # Check the index of target word in list of words in reversed order   \n",
    "    occur_index = input_str_in_words_rev.index(target_word)\n",
    "    \n",
    "    # in case of word found\n",
    "    if occur_index != -1 :\n",
    "        occur_index = words_count - 1 - occur_index\n",
    "        \n",
    "    return occur_index\n",
    "        "
   ]
  },
  {
   "cell_type": "code",
   "execution_count": 57,
   "metadata": {},
   "outputs": [
    {
     "name": "stdout",
     "output_type": "stream",
     "text": [
      "Please provide your string...I love my India India is very rich country india\n"
     ]
    }
   ],
   "source": [
    "a13 = input(\"Please provide your string...\")"
   ]
  },
  {
   "cell_type": "code",
   "execution_count": 58,
   "metadata": {},
   "outputs": [
    {
     "name": "stdout",
     "output_type": "stream",
     "text": [
      "which word you want to check ?india\n"
     ]
    }
   ],
   "source": [
    "b13 = input(\"which word you want to check ?\")"
   ]
  },
  {
   "cell_type": "code",
   "execution_count": 65,
   "metadata": {},
   "outputs": [],
   "source": [
    "last_occurance = last_occur_in_sentence(a13,b13)"
   ]
  },
  {
   "cell_type": "code",
   "execution_count": 66,
   "metadata": {},
   "outputs": [
    {
     "name": "stdout",
     "output_type": "stream",
     "text": [
      "last occurnace of word \"india\" in your given string \"I love my India India is very rich country india\" is : 9\n"
     ]
    }
   ],
   "source": [
    "if last_occurance == -1 :  # for not found case\n",
    "    print(\"Your word \\\"\" + b13 + \"\\\"not found in your given string \\\"\"  + a13 + \"\\\"\")\n",
    "else :\n",
    "    print(\"last occurnace of word \\\"\" + b13 + \"\\\" in your given string \\\"\" + a13 + \"\\\" is :\" , last_occurance )"
   ]
  },
  {
   "cell_type": "markdown",
   "metadata": {},
   "source": [
    "# 14. Split a string into a list of words."
   ]
  },
  {
   "cell_type": "code",
   "execution_count": 67,
   "metadata": {},
   "outputs": [],
   "source": [
    "def list_of_words(input_str):\n",
    "    return input_str.split()   # split the string\n"
   ]
  },
  {
   "cell_type": "code",
   "execution_count": 68,
   "metadata": {},
   "outputs": [
    {
     "name": "stdout",
     "output_type": "stream",
     "text": [
      "Please enter your stringI love my india\n"
     ]
    }
   ],
   "source": [
    "a14 = input(\"Please enter your string\")"
   ]
  },
  {
   "cell_type": "code",
   "execution_count": 69,
   "metadata": {},
   "outputs": [],
   "source": [
    "b14 = list_of_words(a14)"
   ]
  },
  {
   "cell_type": "code",
   "execution_count": 70,
   "metadata": {},
   "outputs": [
    {
     "data": {
      "text/plain": [
       "['I', 'love', 'my', 'india']"
      ]
     },
     "execution_count": 70,
     "metadata": {},
     "output_type": "execute_result"
    }
   ],
   "source": [
    "b14"
   ]
  },
  {
   "cell_type": "markdown",
   "metadata": {},
   "source": [
    "# 15.Join a list of words into a string."
   ]
  },
  {
   "cell_type": "markdown",
   "metadata": {},
   "source": [
    "The join() method takes all items in an iterable and joins them into one string"
   ]
  },
  {
   "cell_type": "code",
   "execution_count": 97,
   "metadata": {},
   "outputs": [],
   "source": [
    "a15 = [ \"I\" , \"Love\" , \"My\" , \"India\"]"
   ]
  },
  {
   "cell_type": "code",
   "execution_count": 99,
   "metadata": {},
   "outputs": [],
   "source": [
    "def join_words_for_str(input_list):\n",
    "    out_str = ' '.join(input_list)  #join with one white space\n",
    "    return out_str"
   ]
  },
  {
   "cell_type": "code",
   "execution_count": 100,
   "metadata": {},
   "outputs": [],
   "source": [
    "b15 = join_words_for_str(a15)"
   ]
  },
  {
   "cell_type": "code",
   "execution_count": 101,
   "metadata": {},
   "outputs": [
    {
     "data": {
      "text/plain": [
       "'I Love My India'"
      ]
     },
     "execution_count": 101,
     "metadata": {},
     "output_type": "execute_result"
    }
   ],
   "source": [
    "b15"
   ]
  },
  {
   "cell_type": "markdown",
   "metadata": {},
   "source": [
    "# 16. Convert a string where words are separated by spaces to one where words are separated by underscores."
   ]
  },
  {
   "cell_type": "code",
   "execution_count": 102,
   "metadata": {},
   "outputs": [],
   "source": [
    "def space_repl_by_underscore(input_str):\n",
    "    return input_str.replace(' ' , '_')  #replace one white space by '_'"
   ]
  },
  {
   "cell_type": "code",
   "execution_count": 103,
   "metadata": {},
   "outputs": [],
   "source": [
    "a16 = space_repl_by_underscore(b15)"
   ]
  },
  {
   "cell_type": "code",
   "execution_count": 104,
   "metadata": {},
   "outputs": [
    {
     "data": {
      "text/plain": [
       "'I_Love_My_India'"
      ]
     },
     "execution_count": 104,
     "metadata": {},
     "output_type": "execute_result"
    }
   ],
   "source": [
    "a16"
   ]
  },
  {
   "cell_type": "markdown",
   "metadata": {},
   "source": [
    "# 17.Check if a string starts with a specific word or phrase."
   ]
  },
  {
   "cell_type": "markdown",
   "metadata": {},
   "source": [
    "1st way : without using startswith string function"
   ]
  },
  {
   "cell_type": "code",
   "execution_count": 124,
   "metadata": {},
   "outputs": [],
   "source": [
    "def check_word_in_str(input_str, target_word):\n",
    "    \n",
    "    #remove the starting white space from string after converting to lower case\n",
    "    input_str   = input_str.lower().strip()\n",
    "    target_word = target_word.lower().strip()\n",
    "    \n",
    "    #Find the index of target_word in given string\n",
    "    index = input_str.index(target_word)\n",
    "    \n",
    "    if index == 0:    # if found at 1st occurance\n",
    "        return True\n",
    "    else :            # for all other cases including word not found\n",
    "        return False"
   ]
  },
  {
   "cell_type": "code",
   "execution_count": 132,
   "metadata": {},
   "outputs": [
    {
     "name": "stdout",
     "output_type": "stream",
     "text": [
      "Enter your string : India is my country\n"
     ]
    }
   ],
   "source": [
    "a17 = input(\"Enter your string : \")"
   ]
  },
  {
   "cell_type": "code",
   "execution_count": 133,
   "metadata": {},
   "outputs": [
    {
     "name": "stdout",
     "output_type": "stream",
     "text": [
      "Please enter your target word : india\n"
     ]
    }
   ],
   "source": [
    "b17 = input(\"Please enter your target word : \")"
   ]
  },
  {
   "cell_type": "code",
   "execution_count": 134,
   "metadata": {},
   "outputs": [
    {
     "name": "stdout",
     "output_type": "stream",
     "text": [
      "Your given string starts with your given word\n"
     ]
    }
   ],
   "source": [
    "if check_word_in_str(a17, b17):\n",
    "    print(\"Your given string starts with your given word\")\n",
    "else :\n",
    "    print(\"Your given string do not starts with your given word\")"
   ]
  },
  {
   "cell_type": "markdown",
   "metadata": {},
   "source": [
    "2nd way : using string function startswith"
   ]
  },
  {
   "cell_type": "code",
   "execution_count": 136,
   "metadata": {},
   "outputs": [],
   "source": [
    "c17 = a17.startswith(b17)\n",
    "    "
   ]
  },
  {
   "cell_type": "code",
   "execution_count": 138,
   "metadata": {},
   "outputs": [
    {
     "name": "stdout",
     "output_type": "stream",
     "text": [
      "Your given string do not starts with your given word\n"
     ]
    }
   ],
   "source": [
    "if c17:\n",
    "    print(\"Your given string starts with your given word\")\n",
    "else :\n",
    "    print(\"Your given string do not starts with your given word\")\n",
    "    "
   ]
  },
  {
   "cell_type": "markdown",
   "metadata": {},
   "source": [
    "# 18. Check if a string ends with a specific word or phrase."
   ]
  },
  {
   "cell_type": "code",
   "execution_count": 140,
   "metadata": {},
   "outputs": [],
   "source": [
    "def check_str_ends_with_word(input_str, target_word):\n",
    "    \n",
    "    #remove the starting white space from string after converting to lower case\n",
    "    input_str   = input_str.lower().strip()\n",
    "    target_word = target_word.lower().strip()\n",
    "    \n",
    "    #use the string function endswith to check \n",
    "    return input_str.endswith(target_word)\n",
    "    \n"
   ]
  },
  {
   "cell_type": "code",
   "execution_count": 141,
   "metadata": {},
   "outputs": [
    {
     "name": "stdout",
     "output_type": "stream",
     "text": [
      "Please enter your string : I love my India\n"
     ]
    }
   ],
   "source": [
    "a18 = input(\"Please enter your string : \")"
   ]
  },
  {
   "cell_type": "code",
   "execution_count": 142,
   "metadata": {},
   "outputs": [
    {
     "name": "stdout",
     "output_type": "stream",
     "text": [
      "Please enter your target word : india\n"
     ]
    }
   ],
   "source": [
    "b18 = input(\"Please enter your target word : \")"
   ]
  },
  {
   "cell_type": "code",
   "execution_count": 144,
   "metadata": {},
   "outputs": [],
   "source": [
    "c18 = check_str_ends_with_word(a18, b18)"
   ]
  },
  {
   "cell_type": "code",
   "execution_count": 145,
   "metadata": {},
   "outputs": [
    {
     "name": "stdout",
     "output_type": "stream",
     "text": [
      "Your given string ends with your given word\n"
     ]
    }
   ],
   "source": [
    "if c18:\n",
    "    print(\"Your given string ends with your given word\")\n",
    "else :\n",
    "    print(\"Your given string do not ends with your given word\")\n",
    "    "
   ]
  },
  {
   "cell_type": "markdown",
   "metadata": {},
   "source": [
    "# 19. Convert a string to title case (e.g., \"hello world\" to \"Hello World\")."
   ]
  },
  {
   "cell_type": "code",
   "execution_count": 149,
   "metadata": {},
   "outputs": [],
   "source": [
    "a19 = \"i love my india\""
   ]
  },
  {
   "cell_type": "code",
   "execution_count": 150,
   "metadata": {},
   "outputs": [],
   "source": [
    "b19 = a19.title()   #Converts the first character of each word to upper case"
   ]
  },
  {
   "cell_type": "code",
   "execution_count": 151,
   "metadata": {},
   "outputs": [
    {
     "data": {
      "text/plain": [
       "'I Love My India'"
      ]
     },
     "execution_count": 151,
     "metadata": {},
     "output_type": "execute_result"
    }
   ],
   "source": [
    "b19"
   ]
  },
  {
   "cell_type": "markdown",
   "metadata": {},
   "source": [
    "# 20. Find the longest word in a string."
   ]
  },
  {
   "cell_type": "code",
   "execution_count": 152,
   "metadata": {},
   "outputs": [],
   "source": [
    "a20 = \"I love my India\"    # Given string"
   ]
  },
  {
   "cell_type": "code",
   "execution_count": 153,
   "metadata": {},
   "outputs": [],
   "source": [
    "b20 = a20.split()    # Converting string into list of words"
   ]
  },
  {
   "cell_type": "code",
   "execution_count": 154,
   "metadata": {},
   "outputs": [
    {
     "data": {
      "text/plain": [
       "['I', 'love', 'my', 'India']"
      ]
     },
     "execution_count": 154,
     "metadata": {},
     "output_type": "execute_result"
    }
   ],
   "source": [
    "b20"
   ]
  },
  {
   "cell_type": "code",
   "execution_count": 155,
   "metadata": {},
   "outputs": [],
   "source": [
    "c20 = [len(words) for words in b20]   # Creating list for respective lngth of list"
   ]
  },
  {
   "cell_type": "code",
   "execution_count": 173,
   "metadata": {},
   "outputs": [
    {
     "data": {
      "text/plain": [
       "[5, 4, 2, 1]"
      ]
     },
     "execution_count": 173,
     "metadata": {},
     "output_type": "execute_result"
    }
   ],
   "source": [
    "c20"
   ]
  },
  {
   "cell_type": "code",
   "execution_count": 192,
   "metadata": {},
   "outputs": [],
   "source": [
    "d20 = {words: len(words) for words in b20} # Creating dictionary for respective lngth of list"
   ]
  },
  {
   "cell_type": "code",
   "execution_count": 193,
   "metadata": {},
   "outputs": [
    {
     "data": {
      "text/plain": [
       "{'I': 1, 'love': 4, 'my': 2, 'India': 5}"
      ]
     },
     "execution_count": 193,
     "metadata": {},
     "output_type": "execute_result"
    }
   ],
   "source": [
    "d20"
   ]
  },
  {
   "cell_type": "code",
   "execution_count": 206,
   "metadata": {},
   "outputs": [],
   "source": [
    "list_of_value = list(d20.values())   # create a list with dictionary values"
   ]
  },
  {
   "cell_type": "code",
   "execution_count": 207,
   "metadata": {},
   "outputs": [
    {
     "data": {
      "text/plain": [
       "[1, 4, 2, 5]"
      ]
     },
     "execution_count": 207,
     "metadata": {},
     "output_type": "execute_result"
    }
   ],
   "source": [
    "list_of_value"
   ]
  },
  {
   "cell_type": "code",
   "execution_count": 208,
   "metadata": {},
   "outputs": [
    {
     "data": {
      "text/plain": [
       "list"
      ]
     },
     "execution_count": 208,
     "metadata": {},
     "output_type": "execute_result"
    }
   ],
   "source": [
    "type(list_of_value)"
   ]
  },
  {
   "cell_type": "code",
   "execution_count": 209,
   "metadata": {},
   "outputs": [],
   "source": [
    "list_of_value.sort(reverse=True)"
   ]
  },
  {
   "cell_type": "code",
   "execution_count": 210,
   "metadata": {},
   "outputs": [
    {
     "data": {
      "text/plain": [
       "[5, 4, 2, 1]"
      ]
     },
     "execution_count": 210,
     "metadata": {},
     "output_type": "execute_result"
    }
   ],
   "source": [
    "list_of_value"
   ]
  },
  {
   "cell_type": "markdown",
   "metadata": {},
   "source": [
    "so, longest word's length is list_of_value_sorted[0]"
   ]
  },
  {
   "cell_type": "code",
   "execution_count": 212,
   "metadata": {},
   "outputs": [
    {
     "data": {
      "text/plain": [
       "5"
      ]
     },
     "execution_count": 212,
     "metadata": {},
     "output_type": "execute_result"
    }
   ],
   "source": [
    "list_of_value[0]"
   ]
  },
  {
   "cell_type": "markdown",
   "metadata": {},
   "source": [
    "longest word will be key whose dictionary value is 5"
   ]
  },
  {
   "cell_type": "markdown",
   "metadata": {},
   "source": [
    "We can also write a function to find the longest words in given string"
   ]
  },
  {
   "cell_type": "code",
   "execution_count": 219,
   "metadata": {},
   "outputs": [],
   "source": [
    "def longest_word(input_str):\n",
    "    word_list = input_str.split()  # split the string into words\n",
    "    max_length = 0  # initialize the max_length\n",
    "    \n",
    "    for i in word_list:    # check each word in sentense\n",
    "        word_length = len(i)     # length of word\n",
    "        if word_length >= max_length:   # check the length of word with max length\n",
    "            max_length = word_length   # max_length\n",
    "            longest_word = i           # Longest word\n",
    "            \n",
    "    return longest_word\n",
    "        "
   ]
  },
  {
   "cell_type": "code",
   "execution_count": 220,
   "metadata": {},
   "outputs": [
    {
     "name": "stdout",
     "output_type": "stream",
     "text": [
      "Please enter your stringI love my India. Abhishek love india\n"
     ]
    }
   ],
   "source": [
    "a20 = input(\"Please enter your string\")"
   ]
  },
  {
   "cell_type": "code",
   "execution_count": 221,
   "metadata": {},
   "outputs": [],
   "source": [
    "e20 = longest_word(a20)"
   ]
  },
  {
   "cell_type": "code",
   "execution_count": 223,
   "metadata": {},
   "outputs": [
    {
     "name": "stdout",
     "output_type": "stream",
     "text": [
      "Your longest words in your string is :  Abhishek\n"
     ]
    }
   ],
   "source": [
    "print(\"Your longest words in your string is : \" , e20)"
   ]
  },
  {
   "cell_type": "markdown",
   "metadata": {},
   "source": [
    "# 21. Find the shortest word in a string."
   ]
  },
  {
   "cell_type": "markdown",
   "metadata": {},
   "source": [
    "We can also write a function to find the shorteast words in given string"
   ]
  },
  {
   "cell_type": "code",
   "execution_count": 230,
   "metadata": {},
   "outputs": [],
   "source": [
    "def shortest_word(input_str):\n",
    "    word_list = input_str.split()  # split the string into words\n",
    "    min_length = len(word_list[0])  # initialize the min_length with length of first word\n",
    "    \n",
    "    for i in word_list:    # check each word in sentense\n",
    "        word_length = len(i)     # length of word\n",
    "        if word_length <= min_length:   # check the length of word with min length\n",
    "            min_length = word_length   # max_length\n",
    "            shortest_word = i           # Longest word\n",
    "            \n",
    "    return shortest_word"
   ]
  },
  {
   "cell_type": "code",
   "execution_count": 235,
   "metadata": {},
   "outputs": [
    {
     "name": "stdout",
     "output_type": "stream",
     "text": [
      "Please enter your stringabhishek love my india\n"
     ]
    }
   ],
   "source": [
    "a21 = input(\"Please enter your string\")"
   ]
  },
  {
   "cell_type": "code",
   "execution_count": 236,
   "metadata": {},
   "outputs": [],
   "source": [
    "b21 = shortest_word(a21)"
   ]
  },
  {
   "cell_type": "code",
   "execution_count": 237,
   "metadata": {},
   "outputs": [
    {
     "name": "stdout",
     "output_type": "stream",
     "text": [
      "Your shortest words in your string is :  my\n"
     ]
    }
   ],
   "source": [
    "print(\"Your shortest words in your string is : \" , b21)"
   ]
  },
  {
   "cell_type": "markdown",
   "metadata": {},
   "source": [
    "# 22. Reverse the order of words in a string."
   ]
  },
  {
   "cell_type": "code",
   "execution_count": 254,
   "metadata": {},
   "outputs": [],
   "source": [
    "a22 = \"I love my India\""
   ]
  },
  {
   "cell_type": "code",
   "execution_count": 255,
   "metadata": {},
   "outputs": [],
   "source": [
    "a22_word_list = a22.split()  # split the string into words"
   ]
  },
  {
   "cell_type": "code",
   "execution_count": 256,
   "metadata": {},
   "outputs": [
    {
     "data": {
      "text/plain": [
       "['I', 'love', 'my', 'India']"
      ]
     },
     "execution_count": 256,
     "metadata": {},
     "output_type": "execute_result"
    }
   ],
   "source": [
    "a22_word_list   # check the owrd list"
   ]
  },
  {
   "cell_type": "code",
   "execution_count": 257,
   "metadata": {},
   "outputs": [],
   "source": [
    "a22_word_list.reverse()    # Reverse the order of list"
   ]
  },
  {
   "cell_type": "code",
   "execution_count": 258,
   "metadata": {},
   "outputs": [
    {
     "data": {
      "text/plain": [
       "['India', 'my', 'love', 'I']"
      ]
     },
     "execution_count": 258,
     "metadata": {},
     "output_type": "execute_result"
    }
   ],
   "source": [
    "a22_word_list"
   ]
  },
  {
   "cell_type": "code",
   "execution_count": 259,
   "metadata": {},
   "outputs": [],
   "source": [
    "b22 = ' '.join(a22_word_list)   # Convert list into words by joining with space"
   ]
  },
  {
   "cell_type": "code",
   "execution_count": 260,
   "metadata": {},
   "outputs": [
    {
     "data": {
      "text/plain": [
       "'India my love I'"
      ]
     },
     "execution_count": 260,
     "metadata": {},
     "output_type": "execute_result"
    }
   ],
   "source": [
    "b22"
   ]
  },
  {
   "cell_type": "markdown",
   "metadata": {},
   "source": [
    "We can write a function to reverse the order of words in string"
   ]
  },
  {
   "cell_type": "code",
   "execution_count": 261,
   "metadata": {},
   "outputs": [],
   "source": [
    "def reverse_order_of_words(input_str):\n",
    "    word_list = input_str.split()  # split the string into words\n",
    "    word_list.reverse()\n",
    "    output_str = ' '.join(word_list)\n",
    "    return output_str"
   ]
  },
  {
   "cell_type": "code",
   "execution_count": 262,
   "metadata": {},
   "outputs": [
    {
     "name": "stdout",
     "output_type": "stream",
     "text": [
      "Please enter your stringsi love my country india\n"
     ]
    }
   ],
   "source": [
    "c22 = input(\"Please enter your strings\")"
   ]
  },
  {
   "cell_type": "code",
   "execution_count": 263,
   "metadata": {},
   "outputs": [],
   "source": [
    "d22 = reverse_order_of_words(c22)"
   ]
  },
  {
   "cell_type": "code",
   "execution_count": 264,
   "metadata": {},
   "outputs": [
    {
     "name": "stdout",
     "output_type": "stream",
     "text": [
      "Your strings in reverse order of words is : india country my love i\n"
     ]
    }
   ],
   "source": [
    "print(\"Your strings in reverse order of words is :\" , d22)"
   ]
  },
  {
   "cell_type": "markdown",
   "metadata": {},
   "source": [
    "# 23 . Check if a string is alphanumeric."
   ]
  },
  {
   "cell_type": "markdown",
   "metadata": {},
   "source": [
    "isalnum()\tReturns True if all characters in the string are alphanumeric"
   ]
  },
  {
   "cell_type": "code",
   "execution_count": 270,
   "metadata": {},
   "outputs": [],
   "source": [
    "def chk_alphanumeric(input_str):\n",
    "    if input_str.isalnum():\n",
    "        return True\n",
    "    else :\n",
    "        return False"
   ]
  },
  {
   "cell_type": "code",
   "execution_count": 271,
   "metadata": {},
   "outputs": [
    {
     "name": "stdout",
     "output_type": "stream",
     "text": [
      "Please enter your string : iamabhishek\n"
     ]
    }
   ],
   "source": [
    "a23 = input(\"Please enter your string : \")"
   ]
  },
  {
   "cell_type": "code",
   "execution_count": 272,
   "metadata": {},
   "outputs": [],
   "source": [
    "b23 = chk_alphanumeric(a23)"
   ]
  },
  {
   "cell_type": "code",
   "execution_count": 273,
   "metadata": {},
   "outputs": [
    {
     "name": "stdout",
     "output_type": "stream",
     "text": [
      "Your string is alphanumeric\n"
     ]
    }
   ],
   "source": [
    "if b23:\n",
    "    print(\"Your string is alphanumeric\")\n",
    "else :\n",
    "    print(\"Your string is not alphanumeric\")"
   ]
  },
  {
   "cell_type": "markdown",
   "metadata": {},
   "source": [
    "# 24. Extract all digits from a string."
   ]
  },
  {
   "cell_type": "code",
   "execution_count": 8,
   "metadata": {},
   "outputs": [],
   "source": [
    "a24 = 'Aanya is in class 5 ,her roll number is 76. she born in year 2013'"
   ]
  },
  {
   "cell_type": "code",
   "execution_count": 9,
   "metadata": {},
   "outputs": [],
   "source": [
    "b24 = list(a24)   # converting it to list"
   ]
  },
  {
   "cell_type": "code",
   "execution_count": 10,
   "metadata": {},
   "outputs": [],
   "source": [
    "c24 = []   # empty list to store the digits"
   ]
  },
  {
   "cell_type": "code",
   "execution_count": 11,
   "metadata": {},
   "outputs": [],
   "source": [
    "for char in b24:   # for each character in list\n",
    "    if char.isnumeric():   # check for numeric char\n",
    "        c24.append(char)   # append the character"
   ]
  },
  {
   "cell_type": "code",
   "execution_count": 12,
   "metadata": {},
   "outputs": [
    {
     "data": {
      "text/plain": [
       "['5', '7', '6', '2', '0', '1', '3']"
      ]
     },
     "execution_count": 12,
     "metadata": {},
     "output_type": "execute_result"
    }
   ],
   "source": [
    "c24    # check the list"
   ]
  },
  {
   "cell_type": "markdown",
   "metadata": {},
   "source": [
    "We can write a function for the same"
   ]
  },
  {
   "cell_type": "code",
   "execution_count": 13,
   "metadata": {},
   "outputs": [],
   "source": [
    "def extract_digit(input_str):\n",
    "    \n",
    "    char_list = list(input_str)    # conversting string to list of character\n",
    "    digit_list = []                # empty list to store the digits\n",
    "    \n",
    "    for char in char_list:        # for each character in list\n",
    "        if char.isnumeric():      # check for numeric char\n",
    "            digit_list.append(char)     # append the character to list\n",
    "            \n",
    "    return digit_list    \n",
    "            \n",
    "        "
   ]
  },
  {
   "cell_type": "code",
   "execution_count": 14,
   "metadata": {},
   "outputs": [
    {
     "name": "stdout",
     "output_type": "stream",
     "text": [
      "Please enter your string with digits : The random 23 string 6generator creates  in year 2003 a series of numbers\n"
     ]
    }
   ],
   "source": [
    "d24 = input(\"Please enter your string with digits : \")"
   ]
  },
  {
   "cell_type": "code",
   "execution_count": 15,
   "metadata": {},
   "outputs": [],
   "source": [
    "e24 = extract_digit(d24)"
   ]
  },
  {
   "cell_type": "code",
   "execution_count": 16,
   "metadata": {},
   "outputs": [
    {
     "name": "stdout",
     "output_type": "stream",
     "text": [
      "List of digits in your given string is :  ['2', '3', '6', '2', '0', '0', '3']\n"
     ]
    }
   ],
   "source": [
    "print(\"List of digits in your given string is : \" , e24)"
   ]
  },
  {
   "cell_type": "markdown",
   "metadata": {},
   "source": [
    "# 25. Extract all alphabets from a string."
   ]
  },
  {
   "cell_type": "markdown",
   "metadata": {},
   "source": [
    "We can write a function for the same"
   ]
  },
  {
   "cell_type": "code",
   "execution_count": 18,
   "metadata": {},
   "outputs": [],
   "source": [
    "def extract_alphabets(input_str):\n",
    "    \n",
    "    char_list = list(input_str)    # conversting string to list of character\n",
    "    alpha_list = []                # empty list to store the alphabets\n",
    "    \n",
    "    for char in char_list:        # for each character in list\n",
    "        if char.isalpha():        # check for alphabet character\n",
    "            alpha_list.append(char)     # append the character to list\n",
    "            \n",
    "    return alpha_list    "
   ]
  },
  {
   "cell_type": "code",
   "execution_count": 19,
   "metadata": {},
   "outputs": [
    {
     "name": "stdout",
     "output_type": "stream",
     "text": [
      "Please enter your string with digits : The random 23 string 6generator creates  in year 2003 a series of numbers\n"
     ]
    }
   ],
   "source": [
    "a25 = input(\"Please enter your string with digits : \")"
   ]
  },
  {
   "cell_type": "code",
   "execution_count": 22,
   "metadata": {},
   "outputs": [],
   "source": [
    "b25 = extract_alphabets(a25)"
   ]
  },
  {
   "cell_type": "code",
   "execution_count": 23,
   "metadata": {},
   "outputs": [
    {
     "name": "stdout",
     "output_type": "stream",
     "text": [
      "List of alphabets in your given string is :  ['T', 'h', 'e', 'r', 'a', 'n', 'd', 'o', 'm', 's', 't', 'r', 'i', 'n', 'g', 'g', 'e', 'n', 'e', 'r', 'a', 't', 'o', 'r', 'c', 'r', 'e', 'a', 't', 'e', 's', 'i', 'n', 'y', 'e', 'a', 'r', 'a', 's', 'e', 'r', 'i', 'e', 's', 'o', 'f', 'n', 'u', 'm', 'b', 'e', 'r', 's']\n"
     ]
    }
   ],
   "source": [
    "print(\"List of alphabets in your given string is : \" , b25)"
   ]
  },
  {
   "cell_type": "markdown",
   "metadata": {},
   "source": [
    "# 26. Count the number of uppercase letters in a string."
   ]
  },
  {
   "cell_type": "code",
   "execution_count": 37,
   "metadata": {},
   "outputs": [],
   "source": [
    "def count_uppercase_letter(input_str):\n",
    "    \n",
    "    char_list = list(input_str)    # conversting string to list of character\n",
    "    count = 0  \n",
    "    for char in char_list:        # for each character in list\n",
    "        if char.isalpha() and char.isupper():        # check for alphabet character and upper case\n",
    "            count += 1\n",
    "    \n",
    "    return count           \n",
    "    "
   ]
  },
  {
   "cell_type": "code",
   "execution_count": 38,
   "metadata": {},
   "outputs": [
    {
     "name": "stdout",
     "output_type": "stream",
     "text": [
      "Please enter your string : I am Abhishek. My roll Number is 3.\n"
     ]
    }
   ],
   "source": [
    "a26 = input(\"Please enter your string : \")"
   ]
  },
  {
   "cell_type": "code",
   "execution_count": 39,
   "metadata": {},
   "outputs": [],
   "source": [
    "b26 = count_uppercase_letter(a26)"
   ]
  },
  {
   "cell_type": "code",
   "execution_count": 40,
   "metadata": {},
   "outputs": [
    {
     "name": "stdout",
     "output_type": "stream",
     "text": [
      "List of uppercase alphabets in your given string is :  4\n"
     ]
    }
   ],
   "source": [
    "print(\"List of uppercase alphabets in your given string is : \" , b26)"
   ]
  },
  {
   "cell_type": "markdown",
   "metadata": {},
   "source": [
    "# 27. Count the number of lowercase letters in a string."
   ]
  },
  {
   "cell_type": "code",
   "execution_count": 41,
   "metadata": {},
   "outputs": [],
   "source": [
    "def count_lowercase_letter(input_str):\n",
    "    \n",
    "    char_list = list(input_str)    # conversting string to list of character\n",
    "    count = 0  \n",
    "    for char in char_list:        # for each character in list\n",
    "        if char.islower():        # check for lower case\n",
    "            count += 1            # increment the count\n",
    "    \n",
    "    return count           \n",
    "    "
   ]
  },
  {
   "cell_type": "code",
   "execution_count": 42,
   "metadata": {},
   "outputs": [
    {
     "name": "stdout",
     "output_type": "stream",
     "text": [
      "Please enter your string : I am Abhishek. My roll Number is 3\n"
     ]
    }
   ],
   "source": [
    "a27 = input(\"Please enter your string : \")"
   ]
  },
  {
   "cell_type": "code",
   "execution_count": 45,
   "metadata": {},
   "outputs": [],
   "source": [
    "b27 = count_lowercase_letter(a27)"
   ]
  },
  {
   "cell_type": "code",
   "execution_count": 46,
   "metadata": {},
   "outputs": [
    {
     "name": "stdout",
     "output_type": "stream",
     "text": [
      "List of lowercase alphabets in your given string is :  21\n"
     ]
    }
   ],
   "source": [
    "print(\"List of lowercase alphabets in your given string is : \" , b27)"
   ]
  },
  {
   "cell_type": "markdown",
   "metadata": {},
   "source": [
    "# 28. Swap the case of each character in a string."
   ]
  },
  {
   "cell_type": "code",
   "execution_count": 48,
   "metadata": {},
   "outputs": [],
   "source": [
    "def swap_case(input_str):\n",
    "    \n",
    "    char_list = list(input_str)    # conversting string to list of character\n",
    "    output_str = ''\n",
    "    for char in char_list:        # for each character in list\n",
    "        if char.isalpha():\n",
    "            if char.isupper():\n",
    "                output_str += char.lower()\n",
    "            else :\n",
    "                output_str += char.upper()\n",
    "        else :\n",
    "            output_str += str(char)           \n",
    "                \n",
    "    return output_str            \n",
    "                "
   ]
  },
  {
   "cell_type": "code",
   "execution_count": 51,
   "metadata": {},
   "outputs": [
    {
     "name": "stdout",
     "output_type": "stream",
     "text": [
      "Please enter your stringI am Abhishek. My roll Number is 3\n"
     ]
    }
   ],
   "source": [
    "a28 = input(\"Please enter your string\")"
   ]
  },
  {
   "cell_type": "code",
   "execution_count": 52,
   "metadata": {},
   "outputs": [],
   "source": [
    "b28 = swap_case(a28)"
   ]
  },
  {
   "cell_type": "code",
   "execution_count": 54,
   "metadata": {},
   "outputs": [
    {
     "name": "stdout",
     "output_type": "stream",
     "text": [
      "Your updated string is:  i AM aBHISHEK. mY ROLL nUMBER IS 3\n"
     ]
    }
   ],
   "source": [
    "print(\"Your updated string is: \" , b28)"
   ]
  },
  {
   "cell_type": "markdown",
   "metadata": {},
   "source": [
    "Alternatevily, we can use string function swapcase directly"
   ]
  },
  {
   "cell_type": "code",
   "execution_count": 56,
   "metadata": {},
   "outputs": [],
   "source": [
    "c28 = a28.swapcase()"
   ]
  },
  {
   "cell_type": "code",
   "execution_count": 57,
   "metadata": {},
   "outputs": [
    {
     "data": {
      "text/plain": [
       "'i AM aBHISHEK. mY ROLL nUMBER IS 3'"
      ]
     },
     "execution_count": 57,
     "metadata": {},
     "output_type": "execute_result"
    }
   ],
   "source": [
    "c28"
   ]
  },
  {
   "cell_type": "markdown",
   "metadata": {},
   "source": [
    "# 29. Remove a specific word from a string."
   ]
  },
  {
   "cell_type": "code",
   "execution_count": 89,
   "metadata": {},
   "outputs": [],
   "source": [
    "def remove_word_from_string(input_str,target_word):\n",
    "    \n",
    "    word_length = len(target_word)           # length of target word\n",
    "    str_length = len(input_str)              # Length of string\n",
    "    \n",
    "    index_word = input_str.find(target_word) # find the index of the word\n",
    "    \n",
    "    if  index_word == -1:                    # If Target word not find in the given strings\n",
    "        input_str = input_str\n",
    "    elif index_word == 0 :                   # If Target word found at 1st place in the given strings\n",
    "        input_str = input_str[word_length :]\n",
    "    elif index_word == (str_length - word_length -1 ) :   # If Target word found as last word in the given strings\n",
    "        input_str = input_str[0 : (str_length - word_length -1)]\n",
    "    else :\n",
    "        input_str = input_str[0:index_word] + input_str[(index_word + word_length) :]\n",
    "        \n",
    "    return input_str    \n",
    "           \n",
    "     \n"
   ]
  },
  {
   "cell_type": "code",
   "execution_count": 107,
   "metadata": {},
   "outputs": [
    {
     "name": "stdout",
     "output_type": "stream",
     "text": [
      "Please enter your strings :I am abhishek who loves India\n"
     ]
    }
   ],
   "source": [
    "d29 = input(\"Please enter your strings :\")"
   ]
  },
  {
   "cell_type": "code",
   "execution_count": 108,
   "metadata": {},
   "outputs": [
    {
     "name": "stdout",
     "output_type": "stream",
     "text": [
      "Please enter your target word: abhishek\n"
     ]
    }
   ],
   "source": [
    "e29 = input(\"Please enter your target word: \")"
   ]
  },
  {
   "cell_type": "code",
   "execution_count": 109,
   "metadata": {},
   "outputs": [],
   "source": [
    "f29 = remove_word_from_string(d29,e29)"
   ]
  },
  {
   "cell_type": "code",
   "execution_count": 111,
   "metadata": {},
   "outputs": [
    {
     "name": "stdout",
     "output_type": "stream",
     "text": [
      "Your string after removal of target word is : I am  who loves India\n"
     ]
    }
   ],
   "source": [
    "print(\"Your string after removal of target word is :\" , f29)"
   ]
  },
  {
   "cell_type": "markdown",
   "metadata": {},
   "source": [
    "# 30. Check if a string is a valid email address."
   ]
  },
  {
   "cell_type": "markdown",
   "metadata": {},
   "source": [
    "let's take an example of email id : example@gmail.com\n",
    "\n",
    "1) @ and '.' should be there in any email id\n",
    "2) @ should come earlier than '.'\n",
    "3) apart from that domain could be anything , email_id before @ can be anything"
   ]
  },
  {
   "cell_type": "code",
   "execution_count": 112,
   "metadata": {},
   "outputs": [],
   "source": [
    "def check_basic_email(input_str):\n",
    "    isEmail = False        # Default indicatoris false\n",
    "    \n",
    "    if '@' in input_str and '.' in input_str :     # if @ and '.' present in string\n",
    "        if input_str.find('@') < input_str.find('.') :    # if @ comes prior to '.'\n",
    "            isEmail = True\n",
    "        else :\n",
    "            isEmail = False\n",
    "    else :\n",
    "        isEmail = False\n",
    "        \n",
    "    return isEmail"
   ]
  },
  {
   "cell_type": "code",
   "execution_count": 121,
   "metadata": {},
   "outputs": [
    {
     "name": "stdout",
     "output_type": "stream",
     "text": [
      "Please enter your string : abhishek@gmail.com\n"
     ]
    }
   ],
   "source": [
    "a30 = input(\"Please enter your string : \")"
   ]
  },
  {
   "cell_type": "code",
   "execution_count": 122,
   "metadata": {},
   "outputs": [],
   "source": [
    "b30 = check_basic_email(a30)"
   ]
  },
  {
   "cell_type": "code",
   "execution_count": 123,
   "metadata": {},
   "outputs": [
    {
     "name": "stdout",
     "output_type": "stream",
     "text": [
      "Your string is an email address\n"
     ]
    }
   ],
   "source": [
    "if b30 :\n",
    "    print(\"Your string is an email address\")\n",
    "else :\n",
    "    print(\"Your string is not an email address\")\n"
   ]
  },
  {
   "cell_type": "code",
   "execution_count": 124,
   "metadata": {},
   "outputs": [
    {
     "name": "stdout",
     "output_type": "stream",
     "text": [
      "Please enter your string : abhishek.com\n"
     ]
    }
   ],
   "source": [
    "c30 = input(\"Please enter your string : \")"
   ]
  },
  {
   "cell_type": "code",
   "execution_count": 125,
   "metadata": {},
   "outputs": [],
   "source": [
    "d30 = check_basic_email(c30)"
   ]
  },
  {
   "cell_type": "code",
   "execution_count": 126,
   "metadata": {},
   "outputs": [
    {
     "name": "stdout",
     "output_type": "stream",
     "text": [
      "Your string is not an email address\n"
     ]
    }
   ],
   "source": [
    "if d30 :\n",
    "    print(\"Your string is an email address\")\n",
    "else :\n",
    "    print(\"Your string is not an email address\")"
   ]
  },
  {
   "cell_type": "markdown",
   "metadata": {},
   "source": [
    "# 31. Extract the username from an email address string."
   ]
  },
  {
   "cell_type": "code",
   "execution_count": 128,
   "metadata": {},
   "outputs": [],
   "source": [
    "def extract_username(email_add):\n",
    "    \n",
    "    user_name = ''\n",
    "    isEmail = check_basic_email(email_add)   # check whether string is email address or not\n",
    "    \n",
    "    if isEmail :       # if given string is email \n",
    "        index = email_add.find('@')     # find the index of '@'\n",
    "        user_name = email_add[:index]   # substring the user_name\n",
    "\n",
    "    \n",
    "    return user_name\n",
    " \n",
    "        "
   ]
  },
  {
   "cell_type": "code",
   "execution_count": 131,
   "metadata": {},
   "outputs": [],
   "source": [
    "a31 = 'abhishekmintu@gmail.com'"
   ]
  },
  {
   "cell_type": "code",
   "execution_count": 132,
   "metadata": {},
   "outputs": [],
   "source": [
    "b31 = extract_username(a31)"
   ]
  },
  {
   "cell_type": "code",
   "execution_count": 133,
   "metadata": {},
   "outputs": [
    {
     "data": {
      "text/plain": [
       "'abhishekmintu'"
      ]
     },
     "execution_count": 133,
     "metadata": {},
     "output_type": "execute_result"
    }
   ],
   "source": [
    "b31"
   ]
  },
  {
   "cell_type": "markdown",
   "metadata": {},
   "source": [
    "# 32. Extract the domain name from an email address string."
   ]
  },
  {
   "cell_type": "code",
   "execution_count": 135,
   "metadata": {},
   "outputs": [],
   "source": [
    "def extract_domainname(email_add):\n",
    "    \n",
    "    domain_name = ''\n",
    "    isEmail = check_basic_email(email_add)   # check whether string is email address or not\n",
    "    \n",
    "    if isEmail :       # if given string is email \n",
    "        l_index = email_add.find('@')     # find the index of '@'\n",
    "        r_index = email_add.find('.')     # find the index of '.'\n",
    "        domain_name = email_add[l_index +1 : r_index]   # substring the user_name\n",
    "\n",
    "    \n",
    "    return domain_name"
   ]
  },
  {
   "cell_type": "code",
   "execution_count": 136,
   "metadata": {},
   "outputs": [],
   "source": [
    "b32 = extract_domainname(a31)"
   ]
  },
  {
   "cell_type": "code",
   "execution_count": 137,
   "metadata": {},
   "outputs": [
    {
     "data": {
      "text/plain": [
       "'gmail'"
      ]
     },
     "execution_count": 137,
     "metadata": {},
     "output_type": "execute_result"
    }
   ],
   "source": [
    "b32"
   ]
  },
  {
   "cell_type": "markdown",
   "metadata": {},
   "source": [
    "# 33. Replace multiple spaces in a string with a single space."
   ]
  },
  {
   "cell_type": "code",
   "execution_count": 12,
   "metadata": {},
   "outputs": [],
   "source": [
    "def repl_multiple_space(input_str):\n",
    "    \n",
    "    list_input = input_str.split(' ')     # Split the strings into words seperated by space\n",
    "    \n",
    "    list_word = [ ]                      # empty list\n",
    "    for word in list_input:              # for each word in the list\n",
    "        if word != '':                   # if not space\n",
    "            list_word.append(word)       # add the target word list\n",
    "     \n",
    "    output_str = ' '.join(list_word)     # join the word \n",
    "    \n",
    "    return output_str\n",
    "    "
   ]
  },
  {
   "cell_type": "code",
   "execution_count": 13,
   "metadata": {},
   "outputs": [],
   "source": [
    "d33 = 'I            am                abhishek             kumar'"
   ]
  },
  {
   "cell_type": "code",
   "execution_count": 14,
   "metadata": {},
   "outputs": [],
   "source": [
    "e33 = repl_multiple_space(d33)"
   ]
  },
  {
   "cell_type": "code",
   "execution_count": 15,
   "metadata": {},
   "outputs": [
    {
     "data": {
      "text/plain": [
       "'I am abhishek kumar'"
      ]
     },
     "execution_count": 15,
     "metadata": {},
     "output_type": "execute_result"
    }
   ],
   "source": [
    "e33"
   ]
  },
  {
   "cell_type": "markdown",
   "metadata": {},
   "source": [
    "# 34. Check if a string is a valid URL."
   ]
  },
  {
   "cell_type": "markdown",
   "metadata": {},
   "source": [
    "Let's take valid URL Example : https://www.google.com/    or http://localhost:8890/notebooks/\n",
    "\n",
    "Means,\n",
    "1) Every url starts with http or https \n",
    "2) followed by ':' \n",
    "3) and followed by \"//\""
   ]
  },
  {
   "cell_type": "code",
   "execution_count": 208,
   "metadata": {},
   "outputs": [],
   "source": [
    "def check_basic_url(input_str):\n",
    "    isUrl = False        # Default indicatoris false\n",
    "    \n",
    "    if ':' in input_str and '//' in input_str :     # if : and '//' present in string\n",
    "        \n",
    "        l_index = input_str.find(':')      # index of ':'\n",
    "        r_index = input_str.find('//')     # index of '//'\n",
    "        \n",
    "        # if ':' and '//' are adjacent and should start with http/https\n",
    "        if l_index + 1 == r_index :\n",
    "            if input_str[:l_index].lower() in ['http' , 'https'] :  \n",
    "                isUrl =True\n",
    "        \n",
    "    return isUrl"
   ]
  },
  {
   "cell_type": "code",
   "execution_count": 209,
   "metadata": {},
   "outputs": [],
   "source": [
    "a34 = 'https://www.google.com/'"
   ]
  },
  {
   "cell_type": "code",
   "execution_count": 210,
   "metadata": {},
   "outputs": [],
   "source": [
    "b34 = check_basic_url(a34)"
   ]
  },
  {
   "cell_type": "code",
   "execution_count": 211,
   "metadata": {},
   "outputs": [
    {
     "data": {
      "text/plain": [
       "True"
      ]
     },
     "execution_count": 211,
     "metadata": {},
     "output_type": "execute_result"
    }
   ],
   "source": [
    "b34"
   ]
  },
  {
   "cell_type": "markdown",
   "metadata": {},
   "source": [
    "# 35. Extract the protocol (http or https) from a URL string."
   ]
  },
  {
   "cell_type": "code",
   "execution_count": 212,
   "metadata": {},
   "outputs": [],
   "source": [
    "def extract_protocol(input_str):\n",
    "    \n",
    "    output_str = ''      #initialize the output string\n",
    "    \n",
    "    if check_basic_url(input_str):    # Check if given string is url or not\n",
    "        l_index = input_str.find(':')      # index of ':'\n",
    "        output_str = input_str[:l_index]   # slice the string from start to ':'\n",
    "        \n",
    "    return output_str\n",
    "        "
   ]
  },
  {
   "cell_type": "code",
   "execution_count": 213,
   "metadata": {},
   "outputs": [],
   "source": [
    "b35 = extract_protocol(a34)"
   ]
  },
  {
   "cell_type": "code",
   "execution_count": 214,
   "metadata": {},
   "outputs": [
    {
     "data": {
      "text/plain": [
       "'https'"
      ]
     },
     "execution_count": 214,
     "metadata": {},
     "output_type": "execute_result"
    }
   ],
   "source": [
    "b35"
   ]
  },
  {
   "cell_type": "markdown",
   "metadata": {},
   "source": [
    "# 36. Find the frequency of each character in a string."
   ]
  },
  {
   "cell_type": "markdown",
   "metadata": {},
   "source": [
    "Logic : output will have diffenet alphabets and respective frequency .\n",
    "    \n",
    "We can store alphabets as key and frequency as values of python dictonary\n",
    "\n",
    "Check each character of string , if that character is the keys of output dictionary then increase the count else insert the items"
   ]
  },
  {
   "cell_type": "code",
   "execution_count": 248,
   "metadata": {},
   "outputs": [],
   "source": [
    "def frequency_char(input_str):\n",
    "    \n",
    "    list_word = list(input_str)    # Converting string into list of character    \n",
    "    output_dict = {}               # initializing the dictionary\n",
    "    \n",
    "    for char in list_word:\n",
    "        if char.isalpha():\n",
    "            if char in output_dict.keys():\n",
    "                output_dict[char] = output_dict[char] + 1\n",
    "            else :\n",
    "                output_dict[char] = 1\n",
    "          \n",
    "    return output_dict\n",
    "            \n",
    "    "
   ]
  },
  {
   "cell_type": "code",
   "execution_count": 249,
   "metadata": {},
   "outputs": [],
   "source": [
    "a36 = 'I am abhishek'"
   ]
  },
  {
   "cell_type": "code",
   "execution_count": 250,
   "metadata": {},
   "outputs": [],
   "source": [
    "b36 = frequency_char(a36)"
   ]
  },
  {
   "cell_type": "code",
   "execution_count": 251,
   "metadata": {},
   "outputs": [
    {
     "data": {
      "text/plain": [
       "{'I': 1, 'a': 2, 'm': 1, 'b': 1, 'h': 2, 'i': 1, 's': 1, 'e': 1, 'k': 1}"
      ]
     },
     "execution_count": 251,
     "metadata": {},
     "output_type": "execute_result"
    }
   ],
   "source": [
    "b36"
   ]
  },
  {
   "cell_type": "markdown",
   "metadata": {},
   "source": [
    "now , print the dictionary "
   ]
  },
  {
   "cell_type": "code",
   "execution_count": 254,
   "metadata": {},
   "outputs": [
    {
     "name": "stdout",
     "output_type": "stream",
     "text": [
      "Character-I has frequency  :  1\n",
      "Character-a has frequency  :  2\n",
      "Character-m has frequency  :  1\n",
      "Character-b has frequency  :  1\n",
      "Character-h has frequency  :  2\n",
      "Character-i has frequency  :  1\n",
      "Character-s has frequency  :  1\n",
      "Character-e has frequency  :  1\n",
      "Character-k has frequency  :  1\n"
     ]
    }
   ],
   "source": [
    "for key, value in b36.items():\n",
    "    print('Character-'+ key + \" has frequency  : \" , value)"
   ]
  },
  {
   "cell_type": "markdown",
   "metadata": {},
   "source": [
    "# 37. Remove all punctuation from a string."
   ]
  },
  {
   "cell_type": "markdown",
   "metadata": {},
   "source": [
    "Logic :Check each character of string , if it is punctiation , remove this from output string"
   ]
  },
  {
   "cell_type": "code",
   "execution_count": 1,
   "metadata": {},
   "outputs": [],
   "source": [
    "import string"
   ]
  },
  {
   "cell_type": "code",
   "execution_count": 2,
   "metadata": {},
   "outputs": [],
   "source": [
    "list_punctuation =  list(string.punctuation)"
   ]
  },
  {
   "cell_type": "code",
   "execution_count": 3,
   "metadata": {},
   "outputs": [
    {
     "data": {
      "text/plain": [
       "['!',\n",
       " '\"',\n",
       " '#',\n",
       " '$',\n",
       " '%',\n",
       " '&',\n",
       " \"'\",\n",
       " '(',\n",
       " ')',\n",
       " '*',\n",
       " '+',\n",
       " ',',\n",
       " '-',\n",
       " '.',\n",
       " '/',\n",
       " ':',\n",
       " ';',\n",
       " '<',\n",
       " '=',\n",
       " '>',\n",
       " '?',\n",
       " '@',\n",
       " '[',\n",
       " '\\\\',\n",
       " ']',\n",
       " '^',\n",
       " '_',\n",
       " '`',\n",
       " '{',\n",
       " '|',\n",
       " '}',\n",
       " '~']"
      ]
     },
     "execution_count": 3,
     "metadata": {},
     "output_type": "execute_result"
    }
   ],
   "source": [
    "list_punctuation"
   ]
  },
  {
   "cell_type": "code",
   "execution_count": 4,
   "metadata": {},
   "outputs": [],
   "source": [
    "def remove_punctuation(input_str):\n",
    "    \n",
    "    list_word = list(input_str)   # Convert the string into list of character\n",
    "    output_str = ''\n",
    "    \n",
    "    for char in list_word:       # check each character\n",
    "        if char not in list_punctuation :   # if nort in puctuation list\n",
    "            output_str += char              # add the char to output string\n",
    "            \n",
    "    return output_str          \n",
    "\n",
    "            \n"
   ]
  },
  {
   "cell_type": "code",
   "execution_count": 5,
   "metadata": {},
   "outputs": [],
   "source": [
    "a37 = \"Hello Dear, How_ are you?\""
   ]
  },
  {
   "cell_type": "code",
   "execution_count": 6,
   "metadata": {},
   "outputs": [],
   "source": [
    "b37 = remove_punctuation(a37)"
   ]
  },
  {
   "cell_type": "code",
   "execution_count": 7,
   "metadata": {},
   "outputs": [
    {
     "data": {
      "text/plain": [
       "'Hello Dear How are you'"
      ]
     },
     "execution_count": 7,
     "metadata": {},
     "output_type": "execute_result"
    }
   ],
   "source": [
    "b37"
   ]
  },
  {
   "cell_type": "markdown",
   "metadata": {},
   "source": [
    "# 38. Check if a string contains only digits."
   ]
  },
  {
   "cell_type": "markdown",
   "metadata": {},
   "source": [
    "isdigit()\tReturns True if all characters in the string are digits"
   ]
  },
  {
   "cell_type": "code",
   "execution_count": 216,
   "metadata": {},
   "outputs": [],
   "source": [
    "a38 = \"123456\""
   ]
  },
  {
   "cell_type": "code",
   "execution_count": 218,
   "metadata": {},
   "outputs": [
    {
     "data": {
      "text/plain": [
       "True"
      ]
     },
     "execution_count": 218,
     "metadata": {},
     "output_type": "execute_result"
    }
   ],
   "source": [
    "a38.isdigit()"
   ]
  },
  {
   "cell_type": "code",
   "execution_count": 219,
   "metadata": {},
   "outputs": [
    {
     "data": {
      "text/plain": [
       "False"
      ]
     },
     "execution_count": 219,
     "metadata": {},
     "output_type": "execute_result"
    }
   ],
   "source": [
    "'1234567A'.isdigit()"
   ]
  },
  {
   "cell_type": "markdown",
   "metadata": {},
   "source": [
    "# 39. Check if a string contains only alphabets."
   ]
  },
  {
   "cell_type": "markdown",
   "metadata": {},
   "source": [
    "isalpha()\tReturns True if all characters in the string are in the alphabet"
   ]
  },
  {
   "cell_type": "code",
   "execution_count": 221,
   "metadata": {},
   "outputs": [],
   "source": [
    "a39 = 'abcdef'"
   ]
  },
  {
   "cell_type": "code",
   "execution_count": 222,
   "metadata": {},
   "outputs": [
    {
     "data": {
      "text/plain": [
       "True"
      ]
     },
     "execution_count": 222,
     "metadata": {},
     "output_type": "execute_result"
    }
   ],
   "source": [
    "a39.isalpha()"
   ]
  },
  {
   "cell_type": "code",
   "execution_count": 223,
   "metadata": {},
   "outputs": [
    {
     "data": {
      "text/plain": [
       "False"
      ]
     },
     "execution_count": 223,
     "metadata": {},
     "output_type": "execute_result"
    }
   ],
   "source": [
    "'abcdef45'.isalpha()"
   ]
  },
  {
   "cell_type": "markdown",
   "metadata": {},
   "source": [
    "# 40. Convert a string to a list of characters."
   ]
  },
  {
   "cell_type": "markdown",
   "metadata": {},
   "source": [
    "list constructor convertst the string into a list of characters"
   ]
  },
  {
   "cell_type": "code",
   "execution_count": 228,
   "metadata": {},
   "outputs": [],
   "source": [
    "a40 = 'i am abhishek'"
   ]
  },
  {
   "cell_type": "code",
   "execution_count": 229,
   "metadata": {},
   "outputs": [],
   "source": [
    "b40 = list(a40)"
   ]
  },
  {
   "cell_type": "code",
   "execution_count": 230,
   "metadata": {},
   "outputs": [
    {
     "data": {
      "text/plain": [
       "['i', ' ', 'a', 'm', ' ', 'a', 'b', 'h', 'i', 's', 'h', 'e', 'k']"
      ]
     },
     "execution_count": 230,
     "metadata": {},
     "output_type": "execute_result"
    }
   ],
   "source": [
    "b40"
   ]
  },
  {
   "cell_type": "markdown",
   "metadata": {},
   "source": [
    "# 41. Check if two strings are anagrams."
   ]
  },
  {
   "cell_type": "markdown",
   "metadata": {},
   "source": [
    "An anagram of a string is another string that contains the same characters, only the order of characters can be different.\n",
    "\n",
    "Example :“abcd” and “dabc” are an anagram of each other. \n",
    "Examples: Input: str1 = “listen” str2 = “silent”"
   ]
  },
  {
   "cell_type": "code",
   "execution_count": 1,
   "metadata": {},
   "outputs": [],
   "source": [
    "a41 = 'silent'"
   ]
  },
  {
   "cell_type": "code",
   "execution_count": 2,
   "metadata": {},
   "outputs": [],
   "source": [
    "b41 = 'listen'"
   ]
  },
  {
   "cell_type": "code",
   "execution_count": 3,
   "metadata": {},
   "outputs": [],
   "source": [
    "def chk_anagrams(input_str1 , input_str2):\n",
    "    \n",
    "    # Remove space from both strings\n",
    "    input_str1 = input_str1.replace(\" \", '')\n",
    "    input_str2 = input_str2.replace(\" \", '')\n",
    "    \n",
    "    # Convert the strings into list of character\n",
    "    list_word1 = list(input_str1)\n",
    "    list_word2 = list(input_str2)\n",
    "    \n",
    "    #sort both the list\n",
    "    if list_word1.sort() == list_word2.sort():\n",
    "        return True\n",
    "    else :\n",
    "        return False\n",
    "    \n",
    "    \n"
   ]
  },
  {
   "cell_type": "code",
   "execution_count": 6,
   "metadata": {},
   "outputs": [],
   "source": [
    "c41 = chk_anagrams(a41, b41)"
   ]
  },
  {
   "cell_type": "code",
   "execution_count": 9,
   "metadata": {},
   "outputs": [
    {
     "name": "stdout",
     "output_type": "stream",
     "text": [
      "Your two string silent and listen are anagrams\n"
     ]
    }
   ],
   "source": [
    "if c41:\n",
    "    print(f\"Your two string {a41} and {b41} are anagrams\")\n",
    "else :\n",
    "    print(f\"Your two string {a41} and {b41} are not anagrams\")"
   ]
  },
  {
   "cell_type": "markdown",
   "metadata": {},
   "source": [
    "# 42. Encode a string using a Caesar cipher."
   ]
  },
  {
   "cell_type": "markdown",
   "metadata": {},
   "source": [
    "The Caesar Cipher, used by Julius Caesar around 58 BC, is a substitution cipher that shifts letters in a message to make it unreadable if intercepted. To decrypt, the receiver reverses the shift.\n",
    "\n",
    "algorithm on high level\n",
    "-Choose a number between 1 and 25. ...\n",
    "-Write down the letters of the alphabet in order, from A to Z.\n",
    "-Shift each letter of the alphabet by the “shift” value. ...\n",
    "-Encrypt your message by replacing each letter with the corresponding shifted letter."
   ]
  },
  {
   "cell_type": "markdown",
   "metadata": {},
   "source": [
    "1) We already know the unicode of small alphabets a-z is 97-122 and unicode of capital letter A-Z is 65-90\n",
    "\n",
    "2) We are going to shift only alphabets in the encoding method and if string character is not alphabetic ,it will not be replaced.\n",
    "\n",
    "3) so , if we are going to shift by 3 means shift_amount = 3\n",
    "      - A(65) will be replaced by D(68) and Y(89) will be replaced by B(66)\n",
    "      - a(97) will be replaced by d(100) and Y(121) will be replaced by b(98)\n",
    "      \n",
    "      Note: bracket numerical is unicode decimal value\n",
    "      \n",
    "      For detail, refer :https://en.wikipedia.org/wiki/List_of_Unicode_characters\n",
    "      \n",
    " 4) so changed value after shift will be calculated \n",
    "     ord(A..Z) + shift_count - 65 ) % 26 + 65\n",
    "     \n",
    "     ord(a..z) + shift_count - 97 ) % 26 + 97\n",
    "     "
   ]
  },
  {
   "cell_type": "code",
   "execution_count": 21,
   "metadata": {},
   "outputs": [],
   "source": [
    "def encoding_string(input_str ,shift_count):  # encoing function assuming shift count is only integer\n",
    "    \n",
    "    output_str = ''             # initialize the encoding string\n",
    "    \n",
    "    for char in input_str:       # for each character\n",
    "        if char.isalpha():       # if character is alphabetic\n",
    "            if char.isupper():   # if character is capital letter\n",
    "                output_str += chr((ord(char) + shift_count  -65) %26 + 65)  # as per above algorithm\n",
    "            else :               # if character is small letter\n",
    "                output_str += chr((ord(char) + shift_count  -97) %26 + 97)\n",
    "        else :\n",
    "            output_str += char\n",
    "            \n",
    "    return output_str\n",
    "            \n",
    "    \n",
    "    "
   ]
  },
  {
   "cell_type": "code",
   "execution_count": 22,
   "metadata": {},
   "outputs": [],
   "source": [
    "a42 = 'I am Abhishek 25 year old'     # string to encode"
   ]
  },
  {
   "cell_type": "code",
   "execution_count": 25,
   "metadata": {},
   "outputs": [],
   "source": [
    "b42 = 4            # shift by"
   ]
  },
  {
   "cell_type": "code",
   "execution_count": 26,
   "metadata": {},
   "outputs": [],
   "source": [
    "c42 = encoding_string(a42 , b42)"
   ]
  },
  {
   "cell_type": "code",
   "execution_count": 30,
   "metadata": {},
   "outputs": [
    {
     "name": "stdout",
     "output_type": "stream",
     "text": [
      "The encoding of string 'I am Abhishek 25 year old' is : 'M eq Eflmwlio 25 ciev sph'\n"
     ]
    }
   ],
   "source": [
    "print(f\"The encoding of string \\'{a42}\\' is : \\'{c42}\\'\")"
   ]
  },
  {
   "cell_type": "markdown",
   "metadata": {},
   "source": [
    "# 43. Decode a Caesar cipher encoded string."
   ]
  },
  {
   "cell_type": "markdown",
   "metadata": {},
   "source": [
    "We can use the same encoding function which we had developed in q#43  for decoding with negatuve sign of shift_count.\n",
    "\n",
    "For above encoidng , we need to use shift_count = -4 for decoding. so, taking prior encoded value and shift count"
   ]
  },
  {
   "cell_type": "code",
   "execution_count": 33,
   "metadata": {},
   "outputs": [],
   "source": [
    "a43 = 'M eq Eflmwlio 25 ciev sph'        # secret string"
   ]
  },
  {
   "cell_type": "code",
   "execution_count": 34,
   "metadata": {},
   "outputs": [],
   "source": [
    "b43 = 4     # shift_count "
   ]
  },
  {
   "cell_type": "code",
   "execution_count": 35,
   "metadata": {},
   "outputs": [],
   "source": [
    "c43 = encoding_string(a43 , -b42)"
   ]
  },
  {
   "cell_type": "code",
   "execution_count": 37,
   "metadata": {},
   "outputs": [
    {
     "name": "stdout",
     "output_type": "stream",
     "text": [
      "The decoding of string 'M eq Eflmwlio 25 ciev sph' is : 'I am Abhishek 25 year old'\n"
     ]
    }
   ],
   "source": [
    "print(f\"The decoding of string \\'{a43}\\' is : \\'{c43}\\'\")"
   ]
  },
  {
   "cell_type": "markdown",
   "metadata": {},
   "source": [
    "# 44. Find the most frequent word in a string"
   ]
  },
  {
   "cell_type": "code",
   "execution_count": 60,
   "metadata": {},
   "outputs": [],
   "source": [
    "c44 = 'I     am           Abhishek? 65 ? kumar abhishek'    # sring"
   ]
  },
  {
   "cell_type": "code",
   "execution_count": 61,
   "metadata": {},
   "outputs": [],
   "source": [
    "input_str_without_punc  = remove_punctuation(c44)         # removing punctuation "
   ]
  },
  {
   "cell_type": "code",
   "execution_count": 62,
   "metadata": {},
   "outputs": [
    {
     "data": {
      "text/plain": [
       "'I     am           Abhishek 65  kumar abhishek'"
      ]
     },
     "execution_count": 62,
     "metadata": {},
     "output_type": "execute_result"
    }
   ],
   "source": [
    "input_str_without_punc                                    # checking string after removal"
   ]
  },
  {
   "cell_type": "code",
   "execution_count": 68,
   "metadata": {},
   "outputs": [],
   "source": [
    "input_str_clean = repl_multiple_space(input_str_without_punc)     # replacing multiple space by single space"
   ]
  },
  {
   "cell_type": "code",
   "execution_count": 69,
   "metadata": {},
   "outputs": [
    {
     "data": {
      "text/plain": [
       "'I am Abhishek 65 kumar abhishek'"
      ]
     },
     "execution_count": 69,
     "metadata": {},
     "output_type": "execute_result"
    }
   ],
   "source": [
    "input_str_clean"
   ]
  },
  {
   "cell_type": "code",
   "execution_count": 84,
   "metadata": {},
   "outputs": [],
   "source": [
    "input_str_clean_1 = input_str_clean.lower()"
   ]
  },
  {
   "cell_type": "code",
   "execution_count": 85,
   "metadata": {},
   "outputs": [
    {
     "data": {
      "text/plain": [
       "'i am abhishek 65 kumar abhishek'"
      ]
     },
     "execution_count": 85,
     "metadata": {},
     "output_type": "execute_result"
    }
   ],
   "source": [
    "input_str_clean_1"
   ]
  },
  {
   "cell_type": "code",
   "execution_count": 87,
   "metadata": {},
   "outputs": [],
   "source": [
    "list_words = input_str_clean_1.split(' ')              # converting into list of words , splitting at space"
   ]
  },
  {
   "cell_type": "code",
   "execution_count": 88,
   "metadata": {},
   "outputs": [
    {
     "data": {
      "text/plain": [
       "['i', 'am', 'abhishek', '65', 'kumar', 'abhishek']"
      ]
     },
     "execution_count": 88,
     "metadata": {},
     "output_type": "execute_result"
    }
   ],
   "source": [
    "list_words"
   ]
  },
  {
   "cell_type": "code",
   "execution_count": 94,
   "metadata": {},
   "outputs": [],
   "source": [
    "dict_word_freq = {}                       # creating a dictionary to store words are frequency"
   ]
  },
  {
   "cell_type": "code",
   "execution_count": 95,
   "metadata": {},
   "outputs": [],
   "source": [
    "for x in list_words:\n",
    "    if x in dict_word_freq.keys():\n",
    "        dict_word_freq[x] += 1\n",
    "    else :\n",
    "        dict_word_freq[x] = 1\n",
    "        "
   ]
  },
  {
   "cell_type": "code",
   "execution_count": 96,
   "metadata": {},
   "outputs": [
    {
     "data": {
      "text/plain": [
       "{'i': 1, 'am': 1, 'abhishek': 2, '65': 1, 'kumar': 1}"
      ]
     },
     "execution_count": 96,
     "metadata": {},
     "output_type": "execute_result"
    }
   ],
   "source": [
    "dict_word_freq                          # dictionary of words as key and value as frequency"
   ]
  },
  {
   "cell_type": "code",
   "execution_count": 97,
   "metadata": {},
   "outputs": [],
   "source": [
    "list_dict_sorted = sorted(dict_word_freq.items() , key=lambda x : x[1] , reverse=True)  # sort the dictionary as a list  by values"
   ]
  },
  {
   "cell_type": "code",
   "execution_count": 98,
   "metadata": {},
   "outputs": [
    {
     "data": {
      "text/plain": [
       "[('abhishek', 2), ('i', 1), ('am', 1), ('65', 1), ('kumar', 1)]"
      ]
     },
     "execution_count": 98,
     "metadata": {},
     "output_type": "execute_result"
    }
   ],
   "source": [
    "list_dict_sorted"
   ]
  },
  {
   "cell_type": "markdown",
   "metadata": {},
   "source": [
    "so word for highest frequency will be list_dict_sorted[0] and iits frequency will be list_dict_sorted[0][1]"
   ]
  },
  {
   "cell_type": "code",
   "execution_count": null,
   "metadata": {},
   "outputs": [],
   "source": [
    "This will be similar to character and respective frequency in given string.\n",
    "\n",
    "Basic algorithm:\n",
    "    a) First cleaningup the input string\n",
    "       - remove punctuation from strings\n",
    "       - replace multiple space by one space\n",
    "       - split the string into list of words ( splitting by space)\n",
    "    b) once we get the list of words , problem will be same like of character and respective frequency\n",
    "    - "
   ]
  },
  {
   "cell_type": "code",
   "execution_count": 100,
   "metadata": {},
   "outputs": [],
   "source": [
    "def most_frequent_word(input_str):\n",
    "    \n",
    "    # remove punctuation from input string ,have used the same function which i had written in Q#37\n",
    "    input_str_without_punc  = remove_punctuation(input_str)   \n",
    "    \n",
    "    # replace multiple space by single space, have used the function repl_multiple_space which i had written in Q#33\n",
    "    input_str_after_removal_space = repl_multiple_space(input_str_without_punc)\n",
    "    \n",
    "    #convert upper case to lower case for appropriate match\n",
    "    input_str_clean = input_str_after_removal_space.lower()\n",
    "    \n",
    "    #Convert the clean string into list of words by splitting at space\n",
    "    list_words = input_str_clean.split(' ')\n",
    "    \n",
    "    dict_words = {}            # creating a dictionary to store words and respective frequency\n",
    "    for word in list_words:\n",
    "        if word in dict_words.keys():\n",
    "            dict_words[word] += 1\n",
    "        else :\n",
    "            dict_words[word]  = 1\n",
    "     \n",
    "    # sort the dictionary by values , below sorted value will be list not the dictionary\n",
    "    dict_words_sorted = sorted(dict_words.items() , key=lambda x : x[1] , reverse=True)\n",
    "    \n",
    "    # first value of sorted dictionary will be our desired tuple ( word, frequencyt )\n",
    "    # (which stores the word and respective frequency)\n",
    "    return dict_words_sorted[0]      \n",
    "          \n",
    "    "
   ]
  },
  {
   "cell_type": "code",
   "execution_count": 101,
   "metadata": {},
   "outputs": [],
   "source": [
    "k44 = '''\n",
    "Jana-gana-mana-adhinayaka, jaya he\n",
    "\n",
    "Bharata-bhagya-vidhata.\n",
    "\n",
    "Punjab-Sindh-Gujarat-Maratha \n",
    "\n",
    "Dravida-Utkala-Banga\n",
    "\n",
    "Vindhya-Himachala-Yamuna-Ganga \n",
    "\n",
    "Uchchala-Jaladhi-taranga.\n",
    "\n",
    "Tava shubha name jage, \n",
    "\n",
    "Tava shubha asisa mage, \n",
    "\n",
    "Gahe tava jaya gatha, \n",
    "\n",
    "Jana-gana-mangala-dayaka jaya he \n",
    "\n",
    "Bharata-bhagya-vidhata.\n",
    "\n",
    "Jaya he, jaya he, jaya he, Jaya jaya jaya, jaya he! \n",
    "'''"
   ]
  },
  {
   "cell_type": "code",
   "execution_count": 105,
   "metadata": {},
   "outputs": [],
   "source": [
    "s44 = most_frequent_word(k44)"
   ]
  },
  {
   "cell_type": "code",
   "execution_count": 106,
   "metadata": {},
   "outputs": [
    {
     "data": {
      "text/plain": [
       "('jaya', 9)"
      ]
     },
     "execution_count": 106,
     "metadata": {},
     "output_type": "execute_result"
    }
   ],
   "source": [
    "l44"
   ]
  },
  {
   "cell_type": "code",
   "execution_count": 110,
   "metadata": {},
   "outputs": [
    {
     "name": "stdout",
     "output_type": "stream",
     "text": [
      "The most frequent word in your string is 'jaya' and whose frequency is 9\n"
     ]
    }
   ],
   "source": [
    "print(f\"The most frequent word in your string is \\'{s44[0]}\\' and whose frequency is {s44[1]}\")"
   ]
  },
  {
   "cell_type": "markdown",
   "metadata": {},
   "source": [
    "# 45. Find all unique words in a string."
   ]
  },
  {
   "cell_type": "markdown",
   "metadata": {},
   "source": [
    "Basic algorithm:\n",
    "    a) First cleaningup the input string\n",
    "       - remove punctuation from strings\n",
    "       - replace multiple space by one space\n",
    "       - split the string into list of words ( splitting by space)\n",
    "    b) once we get the list of words     \n",
    "    c) remove duplicates words from list of words\n",
    "       \n",
    "    - "
   ]
  },
  {
   "cell_type": "code",
   "execution_count": 22,
   "metadata": {},
   "outputs": [],
   "source": [
    "def unique_word(input_str):\n",
    "    \n",
    "    # remove punctuation from input string ,have used the same function which i had written in Q#37\n",
    "    input_str_without_punc  = remove_punctuation(input_str)   \n",
    "    \n",
    "    # replace multiple space by single space, have used the function repl_multiple_space which i had written in Q#33\n",
    "    input_str_after_removal_space = repl_multiple_space(input_str_without_punc)\n",
    "    \n",
    "    #convert upper case to lower case for appropriate match\n",
    "    input_str_clean = input_str_after_removal_space.lower()\n",
    "    \n",
    "    #Convert the clean string into list of words by splitting at space\n",
    "    list_words = input_str_clean.split(' ')\n",
    "    \n",
    "    #Removing duplicate words from list_words\n",
    "    #Create dictionary with keys from list_words so that duplicate is being eliminated and the convert back to list\n",
    "    unique_word_list = list(dict.fromkeys(list_words))\n",
    "    \n",
    "\n",
    "    return unique_word_list      "
   ]
  },
  {
   "cell_type": "code",
   "execution_count": 17,
   "metadata": {},
   "outputs": [],
   "source": [
    "a45 = 'I am Abhishek . Abhishek lives in delhi . Delhi has cold weather 45 degree'"
   ]
  },
  {
   "cell_type": "code",
   "execution_count": 18,
   "metadata": {},
   "outputs": [],
   "source": [
    "b45 = unique_word(a45)"
   ]
  },
  {
   "cell_type": "code",
   "execution_count": 21,
   "metadata": {},
   "outputs": [
    {
     "name": "stdout",
     "output_type": "stream",
     "text": [
      "Your string 'I am Abhishek . Abhishek lives in delhi . Delhi has cold weather 45 degree' has list of uniqie words : ['i', 'am', 'abhishek', 'lives', 'in', 'delhi', 'has', 'cold', 'weather', '45', 'degree']\n"
     ]
    }
   ],
   "source": [
    "print(f\"Your string \\'{a45}\\' has list of uniqie words : {b45}\")"
   ]
  },
  {
   "cell_type": "markdown",
   "metadata": {},
   "source": [
    "# 46. Count the number of syllables in a string."
   ]
  },
  {
   "cell_type": "markdown",
   "metadata": {},
   "source": [
    "Basic algorithm:\n",
    "\n",
    "- Iterate through each character in the lowercase version of the input word\n",
    "- For each character, check if it is a vowel.\n",
    "   If the character is a vowel and the previous character was not a vowel, increment the syllable count \n",
    "\n"
   ]
  },
  {
   "cell_type": "code",
   "execution_count": 27,
   "metadata": {},
   "outputs": [],
   "source": [
    "def count_syllables(word):\n",
    "    vowels = \"aeiouy\"\n",
    "    count = 0\n",
    "    prev_char_was_vowel = False\n",
    "\n",
    "    for char in word.lower():\n",
    "        if char in vowels:\n",
    "            if not prev_char_was_vowel:\n",
    "                count += 1\n",
    "            prev_char_was_vowel = True\n",
    "        else:\n",
    "            prev_char_was_vowel = False\n",
    "\n",
    "    return count\n"
   ]
  },
  {
   "cell_type": "code",
   "execution_count": 28,
   "metadata": {},
   "outputs": [],
   "source": [
    "a46 = 'listen'"
   ]
  },
  {
   "cell_type": "code",
   "execution_count": 29,
   "metadata": {},
   "outputs": [],
   "source": [
    "b46 = count_syllables(a46)"
   ]
  },
  {
   "cell_type": "code",
   "execution_count": 30,
   "metadata": {},
   "outputs": [
    {
     "name": "stdout",
     "output_type": "stream",
     "text": [
      "The word 'listen' has 2 syllables.\n"
     ]
    }
   ],
   "source": [
    "print(f\"The word '{a46}' has {b46} syllables.\")"
   ]
  },
  {
   "cell_type": "markdown",
   "metadata": {},
   "source": [
    "# 47. Check if a string contains any special characters."
   ]
  },
  {
   "cell_type": "markdown",
   "metadata": {},
   "source": [
    "Basic algorithm : if character is not alphanumeric(alphabet or digit) then it's special character"
   ]
  },
  {
   "cell_type": "code",
   "execution_count": 31,
   "metadata": {},
   "outputs": [],
   "source": [
    "def chck_special_character(input_str):    \n",
    "       \n",
    "    for ch in input_str:       # Check each character of input string\n",
    "        if not ch.isalnum():   # if not digit/alphabets\n",
    "            return True  \n",
    "        \n",
    "    return False               # return if not found           \n",
    "         \n",
    "    "
   ]
  },
  {
   "cell_type": "code",
   "execution_count": 32,
   "metadata": {},
   "outputs": [],
   "source": [
    "a47 = 'I am Abhishek Kumar!'"
   ]
  },
  {
   "cell_type": "code",
   "execution_count": 33,
   "metadata": {},
   "outputs": [],
   "source": [
    "b47 = chck_special_character(a47)"
   ]
  },
  {
   "cell_type": "code",
   "execution_count": 36,
   "metadata": {},
   "outputs": [
    {
     "name": "stdout",
     "output_type": "stream",
     "text": [
      "The string 'I am Abhishek Kumar!' contains special character\n"
     ]
    }
   ],
   "source": [
    "if b47:\n",
    "    print(f\"The string \\'{a47}\\' contains special character\")\n",
    "else :\n",
    "    print(f\"The string \\'{a47}\\' do not contains special character\")"
   ]
  },
  {
   "cell_type": "markdown",
   "metadata": {},
   "source": [
    "# 48. Remove the nth word from a string."
   ]
  },
  {
   "cell_type": "markdown",
   "metadata": {},
   "source": [
    "Basic algorithm:\n",
    "    - convert the input strings into list of words\n",
    "    - then remove the nth word from that list\n",
    "    - combine the remaining words from list of words for output string\n",
    "    "
   ]
  },
  {
   "cell_type": "code",
   "execution_count": 49,
   "metadata": {},
   "outputs": [],
   "source": [
    "def remove_nth_word(input_str , n):\n",
    "    \n",
    "\n",
    "    # replace multiple space by single space, have used the function repl_multiple_space which i had written in Q#33\n",
    "    input_str_after_removal_space = repl_multiple_space(input_str)\n",
    "    \n",
    "    #Convert the string into list of words by splitting at space\n",
    "    list_words = input_str_after_removal_space.split(' ')\n",
    "    \n",
    "    nth_word = ''\n",
    "    # if number of word in the list is greater than equal to n\n",
    "    if len(list_words) >= n:\n",
    "        #Remove the nth word means word at (n-1)th index\n",
    "        nth_word = list_words[n-1]\n",
    "        list_words.pop(n-1) \n",
    "    \n",
    "    # create a string by joining remaining words\n",
    "    output_str = ' '.join(list_words)    \n",
    "    \n",
    "    return [output_str , nth_word ] # returning list of output string and nth word\n",
    "    "
   ]
  },
  {
   "cell_type": "code",
   "execution_count": 50,
   "metadata": {},
   "outputs": [],
   "source": [
    "a48   = \"A syllable is a part of a word that contains a single vowel sound and that is pronounced as a unit.\""
   ]
  },
  {
   "cell_type": "markdown",
   "metadata": {},
   "source": [
    "Remove the 10th words from the above string and return the string as output"
   ]
  },
  {
   "cell_type": "code",
   "execution_count": 51,
   "metadata": {},
   "outputs": [],
   "source": [
    "n = 10"
   ]
  },
  {
   "cell_type": "code",
   "execution_count": 52,
   "metadata": {},
   "outputs": [],
   "source": [
    "b48 = remove_nth_word(a48 , n)"
   ]
  },
  {
   "cell_type": "code",
   "execution_count": 53,
   "metadata": {},
   "outputs": [
    {
     "name": "stdout",
     "output_type": "stream",
     "text": [
      "After removal of 10th word from your string 'A syllable is a part of a word that contains a single vowel sound and that is pronounced as a unit.' , your updated string is 'A syllable is a part of a word that a single vowel sound and that is pronounced as a unit.' and removed word is : contains\n"
     ]
    }
   ],
   "source": [
    "print(f\"After removal of {n}th word from your string \\'{a48}\\' , your updated string is \\'{b48[0]}\\' and removed word is : {b48[1]}\")"
   ]
  },
  {
   "cell_type": "markdown",
   "metadata": {},
   "source": [
    "# 49. Insert a word at the nth position in a string."
   ]
  },
  {
   "cell_type": "code",
   "execution_count": null,
   "metadata": {},
   "outputs": [],
   "source": [
    "Basic algorithm:\n",
    "    - convert the input strings into list of words\n",
    "    - then add the word at nth position \n",
    "    - combine the remaining words from list of words for output string"
   ]
  },
  {
   "cell_type": "code",
   "execution_count": 55,
   "metadata": {},
   "outputs": [],
   "source": [
    "\n",
    "def insert_nth_word(input_str , n , word_to_add):    \n",
    "\n",
    "    # replace multiple space by single space, have used the function repl_multiple_space which i had written in Q#33\n",
    "    input_str_after_removal_space = repl_multiple_space(input_str)\n",
    "    \n",
    "    #Convert the string into list of words by splitting at space\n",
    "    list_words = input_str_after_removal_space.split(' ')\n",
    "    \n",
    "    # if number of word in the list is greater than equal to n\n",
    "    if len(list_words) >= n:\n",
    "        #insert the nth word means word at (n-1)th index\n",
    "        list_words.insert((n-1) ,word_to_add )\n",
    "    else :\n",
    "        # insert at the last\n",
    "        list_words.insert(len(list_words) ,word_to_add )\n",
    "\n",
    "    \n",
    "    # create a string by joining remaining words\n",
    "    output_str = ' '.join(list_words)    \n",
    "    \n",
    "    return output_str # returning output string \n",
    "    "
   ]
  },
  {
   "cell_type": "code",
   "execution_count": 56,
   "metadata": {},
   "outputs": [],
   "source": [
    "a49   = \"A syllable is a part of a word that contains a single vowel sound and that is pronounced as a unit.\""
   ]
  },
  {
   "cell_type": "code",
   "execution_count": 57,
   "metadata": {},
   "outputs": [],
   "source": [
    "n = 10"
   ]
  },
  {
   "cell_type": "code",
   "execution_count": 58,
   "metadata": {},
   "outputs": [],
   "source": [
    "word_to_add = 'abhishek'"
   ]
  },
  {
   "cell_type": "code",
   "execution_count": 59,
   "metadata": {},
   "outputs": [],
   "source": [
    "b49 = insert_nth_word(a49 , n , word_to_add)"
   ]
  },
  {
   "cell_type": "code",
   "execution_count": 61,
   "metadata": {},
   "outputs": [
    {
     "name": "stdout",
     "output_type": "stream",
     "text": [
      "After inserting word 'abhishek' at 10th position in your string 'A syllable is a part of a word that contains a single vowel sound and that is pronounced as a unit.' , your updated string is 'A syllable is a part of a word that abhishek contains a single vowel sound and that is pronounced as a unit.' \n"
     ]
    }
   ],
   "source": [
    "print(f\"After inserting word \\'{word_to_add}\\' at {n}th position in your string \\'{a48}\\' , your updated string is \\'{b49}\\' \")"
   ]
  },
  {
   "cell_type": "markdown",
   "metadata": {},
   "source": [
    "# 50. Convert a CSV string to a list of lists."
   ]
  },
  {
   "cell_type": "code",
   "execution_count": 64,
   "metadata": {},
   "outputs": [],
   "source": [
    "#basic algorithm:\n",
    "    \n",
    "csv_string = '1,Abhishek,kumar,40\\n2,Avinash,kumar,35\\n3,nidhi,singh,36\\n4,amit,kumar,31'\n",
    "    "
   ]
  },
  {
   "cell_type": "code",
   "execution_count": 65,
   "metadata": {},
   "outputs": [],
   "source": [
    "row_list = csv_string.split('\\n')"
   ]
  },
  {
   "cell_type": "code",
   "execution_count": 66,
   "metadata": {},
   "outputs": [
    {
     "data": {
      "text/plain": [
       "['1,Abhishek,kumar,40',\n",
       " '2,Avinash,kumar,35',\n",
       " '3,nidhi,singh,36',\n",
       " '4,amit,kumar,31']"
      ]
     },
     "execution_count": 66,
     "metadata": {},
     "output_type": "execute_result"
    }
   ],
   "source": [
    "row_list"
   ]
  },
  {
   "cell_type": "code",
   "execution_count": 68,
   "metadata": {},
   "outputs": [],
   "source": [
    "csv_rows = [row.split(',') for row in csv_string.split('\\n') if row]"
   ]
  },
  {
   "cell_type": "code",
   "execution_count": 69,
   "metadata": {},
   "outputs": [
    {
     "data": {
      "text/plain": [
       "[['1', 'Abhishek', 'kumar', '40'],\n",
       " ['2', 'Avinash', 'kumar', '35'],\n",
       " ['3', 'nidhi', 'singh', '36'],\n",
       " ['4', 'amit', 'kumar', '31']]"
      ]
     },
     "execution_count": 69,
     "metadata": {},
     "output_type": "execute_result"
    }
   ],
   "source": [
    "csv_rows"
   ]
  },
  {
   "cell_type": "code",
   "execution_count": 72,
   "metadata": {},
   "outputs": [],
   "source": [
    "def convert_csv_into_list(csv_string):\n",
    "    \n",
    "    csv_rows = [row.split(',') for row in csv_string.split('\\n') if row]\n",
    "    \n",
    "    return csv_rows\n",
    "    \n",
    "    "
   ]
  },
  {
   "cell_type": "code",
   "execution_count": 73,
   "metadata": {},
   "outputs": [],
   "source": [
    "a50 = '1,Abhishek,kumar,40\\n2,Avinash,kumar,35\\n3,nidhi,singh,36\\n4,amit,kumar,31'"
   ]
  },
  {
   "cell_type": "code",
   "execution_count": 74,
   "metadata": {},
   "outputs": [],
   "source": [
    "b50 = convert_csv_into_list(a50)"
   ]
  },
  {
   "cell_type": "code",
   "execution_count": 75,
   "metadata": {},
   "outputs": [
    {
     "data": {
      "text/plain": [
       "[['1', 'Abhishek', 'kumar', '40'],\n",
       " ['2', 'Avinash', 'kumar', '35'],\n",
       " ['3', 'nidhi', 'singh', '36'],\n",
       " ['4', 'amit', 'kumar', '31']]"
      ]
     },
     "execution_count": 75,
     "metadata": {},
     "output_type": "execute_result"
    }
   ],
   "source": [
    "b50"
   ]
  },
  {
   "cell_type": "code",
   "execution_count": null,
   "metadata": {},
   "outputs": [],
   "source": []
  }
 ],
 "metadata": {
  "kernelspec": {
   "display_name": "Python 3",
   "language": "python",
   "name": "python3"
  },
  "language_info": {
   "codemirror_mode": {
    "name": "ipython",
    "version": 3
   },
   "file_extension": ".py",
   "mimetype": "text/x-python",
   "name": "python",
   "nbconvert_exporter": "python",
   "pygments_lexer": "ipython3",
   "version": "3.8.5"
  }
 },
 "nbformat": 4,
 "nbformat_minor": 4
}
