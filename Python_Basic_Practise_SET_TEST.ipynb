{
 "cells": [
  {
   "cell_type": "markdown",
   "metadata": {},
   "source": [
    "# TOPIC: SET Based Problem"
   ]
  },
  {
   "cell_type": "markdown",
   "metadata": {},
   "source": [
    "# 1. Create a set with integers from 1 to 5."
   ]
  },
  {
   "cell_type": "markdown",
   "metadata": {},
   "source": [
    "There are many way to create set"
   ]
  },
  {
   "cell_type": "code",
   "execution_count": 1,
   "metadata": {},
   "outputs": [],
   "source": [
    "a1 = { 1,2,3,4,5}         # by assigning value"
   ]
  },
  {
   "cell_type": "code",
   "execution_count": 2,
   "metadata": {},
   "outputs": [
    {
     "data": {
      "text/plain": [
       "set"
      ]
     },
     "execution_count": 2,
     "metadata": {},
     "output_type": "execute_result"
    }
   ],
   "source": [
    "type(a1)"
   ]
  },
  {
   "cell_type": "code",
   "execution_count": 3,
   "metadata": {},
   "outputs": [
    {
     "data": {
      "text/plain": [
       "{1, 2, 3, 4, 5}"
      ]
     },
     "execution_count": 3,
     "metadata": {},
     "output_type": "execute_result"
    }
   ],
   "source": [
    "a1"
   ]
  },
  {
   "cell_type": "code",
   "execution_count": 7,
   "metadata": {},
   "outputs": [],
   "source": [
    "b1 = set((x for x in range(1,6)))       # by set constructor "
   ]
  },
  {
   "cell_type": "code",
   "execution_count": 8,
   "metadata": {},
   "outputs": [
    {
     "data": {
      "text/plain": [
       "{1, 2, 3, 4, 5}"
      ]
     },
     "execution_count": 8,
     "metadata": {},
     "output_type": "execute_result"
    }
   ],
   "source": [
    "b1"
   ]
  },
  {
   "cell_type": "code",
   "execution_count": 6,
   "metadata": {},
   "outputs": [
    {
     "data": {
      "text/plain": [
       "set"
      ]
     },
     "execution_count": 6,
     "metadata": {},
     "output_type": "execute_result"
    }
   ],
   "source": [
    "type(b1)"
   ]
  },
  {
   "cell_type": "markdown",
   "metadata": {},
   "source": [
    "# 2. Add an element to a set."
   ]
  },
  {
   "cell_type": "markdown",
   "metadata": {},
   "source": [
    "We can use inbuild method add() on set to add an element to a set"
   ]
  },
  {
   "cell_type": "code",
   "execution_count": 10,
   "metadata": {},
   "outputs": [],
   "source": [
    "a2 = {1, 2, 3, 4, 5}"
   ]
  },
  {
   "cell_type": "code",
   "execution_count": 13,
   "metadata": {},
   "outputs": [],
   "source": [
    "a2.add(6)       # by add() method"
   ]
  },
  {
   "cell_type": "code",
   "execution_count": 14,
   "metadata": {},
   "outputs": [
    {
     "data": {
      "text/plain": [
       "{1, 2, 3, 4, 5, 6}"
      ]
     },
     "execution_count": 14,
     "metadata": {},
     "output_type": "execute_result"
    }
   ],
   "source": [
    "a2"
   ]
  },
  {
   "cell_type": "markdown",
   "metadata": {},
   "source": [
    "# 3. Remove an element from a set."
   ]
  },
  {
   "cell_type": "markdown",
   "metadata": {},
   "source": [
    "We can remove an element from set by inbuild method remove or discard"
   ]
  },
  {
   "cell_type": "code",
   "execution_count": 16,
   "metadata": {},
   "outputs": [],
   "source": [
    "a3 = {1, 2, 3, 4, 5, 6}"
   ]
  },
  {
   "cell_type": "code",
   "execution_count": 17,
   "metadata": {},
   "outputs": [],
   "source": [
    "a3.remove(3)          # by remove() method"
   ]
  },
  {
   "cell_type": "code",
   "execution_count": 18,
   "metadata": {},
   "outputs": [
    {
     "data": {
      "text/plain": [
       "{1, 2, 4, 5, 6}"
      ]
     },
     "execution_count": 18,
     "metadata": {},
     "output_type": "execute_result"
    }
   ],
   "source": [
    "a3"
   ]
  },
  {
   "cell_type": "code",
   "execution_count": 19,
   "metadata": {},
   "outputs": [],
   "source": [
    "a3.discard(5)         # by discard method"
   ]
  },
  {
   "cell_type": "code",
   "execution_count": 20,
   "metadata": {},
   "outputs": [
    {
     "data": {
      "text/plain": [
       "{1, 2, 4, 6}"
      ]
     },
     "execution_count": 20,
     "metadata": {},
     "output_type": "execute_result"
    }
   ],
   "source": [
    "a3"
   ]
  },
  {
   "cell_type": "markdown",
   "metadata": {},
   "source": [
    "Difference between remove and discard method: Both remove and discard method will remove an item from set. \n",
    "    \n",
    "If item (which you want to remove from set) not exist in that set,\n",
    "\n",
    "then remove method will give an erro which discard method will not give an error\n",
    "\n"
   ]
  },
  {
   "cell_type": "code",
   "execution_count": 21,
   "metadata": {},
   "outputs": [
    {
     "data": {
      "text/plain": [
       "{1, 2, 4, 6}"
      ]
     },
     "execution_count": 21,
     "metadata": {},
     "output_type": "execute_result"
    }
   ],
   "source": [
    "a3"
   ]
  },
  {
   "cell_type": "code",
   "execution_count": 22,
   "metadata": {},
   "outputs": [
    {
     "ename": "KeyError",
     "evalue": "5",
     "output_type": "error",
     "traceback": [
      "\u001b[1;31m---------------------------------------------------------------------------\u001b[0m",
      "\u001b[1;31mKeyError\u001b[0m                                  Traceback (most recent call last)",
      "\u001b[1;32m<ipython-input-22-c42d8130b7cf>\u001b[0m in \u001b[0;36m<module>\u001b[1;34m\u001b[0m\n\u001b[1;32m----> 1\u001b[1;33m \u001b[0ma3\u001b[0m\u001b[1;33m.\u001b[0m\u001b[0mremove\u001b[0m\u001b[1;33m(\u001b[0m\u001b[1;36m5\u001b[0m\u001b[1;33m)\u001b[0m          \u001b[1;31m# element 5 not in set, so remove method will give an error\u001b[0m\u001b[1;33m\u001b[0m\u001b[1;33m\u001b[0m\u001b[0m\n\u001b[0m",
      "\u001b[1;31mKeyError\u001b[0m: 5"
     ]
    }
   ],
   "source": [
    "a3.remove(5)          # element 5 not in set, so remove method will give an error"
   ]
  },
  {
   "cell_type": "code",
   "execution_count": 24,
   "metadata": {},
   "outputs": [],
   "source": [
    "a3.discard(5)        # element 5 not in set, so discard method will not give an error"
   ]
  },
  {
   "cell_type": "code",
   "execution_count": 25,
   "metadata": {},
   "outputs": [
    {
     "data": {
      "text/plain": [
       "{1, 2, 4, 6}"
      ]
     },
     "execution_count": 25,
     "metadata": {},
     "output_type": "execute_result"
    }
   ],
   "source": [
    "a3"
   ]
  },
  {
   "cell_type": "markdown",
   "metadata": {},
   "source": [
    "# 4. Check if an element exists in a set."
   ]
  },
  {
   "cell_type": "markdown",
   "metadata": {},
   "source": [
    "We ill simply used inbuild operator 'in' to check if an element exists in a set or not"
   ]
  },
  {
   "cell_type": "code",
   "execution_count": 28,
   "metadata": {},
   "outputs": [
    {
     "name": "stdout",
     "output_type": "stream",
     "text": [
      "The element 2 exist in set {1, 2, 4, 6}\n",
      "\n",
      "The element 5 do not exist in set {1, 2, 4, 6}\n"
     ]
    }
   ],
   "source": [
    "a4 = {1, 2, 4, 6}\n",
    "\n",
    "n = 2\n",
    "\n",
    "if n in a4:\n",
    "    print(f\"The element {n} exist in set {a4}\\n\")\n",
    "else :\n",
    "    print(f\"The element {n} do not exist in set {a4}\\n\")\n",
    "    \n",
    "n = 5\n",
    "\n",
    "if n in a4:\n",
    "    print(f\"The element {n} exist in set {a4}\")\n",
    "else :\n",
    "    print(f\"The element {n} do not exist in set {a4}\")\n",
    "    "
   ]
  },
  {
   "cell_type": "markdown",
   "metadata": {},
   "source": [
    "# 5. Find the length of a set without using the `len()` function."
   ]
  },
  {
   "cell_type": "markdown",
   "metadata": {},
   "source": [
    "There are multiple way to determine the length pf se without using the 'len()' function"
   ]
  },
  {
   "cell_type": "code",
   "execution_count": 33,
   "metadata": {},
   "outputs": [],
   "source": [
    "a5 = {1, 2, 4, 6 , 23, 12, 45 , 68 ,32}     # inout set"
   ]
  },
  {
   "cell_type": "code",
   "execution_count": 34,
   "metadata": {},
   "outputs": [
    {
     "name": "stdout",
     "output_type": "stream",
     "text": [
      "Length of set {32, 1, 2, 4, 68, 6, 12, 45, 23} is 9\n",
      "\n"
     ]
    }
   ],
   "source": [
    "#1st way : by comprehension method\n",
    "\n",
    "length_of_set = sum(1 for x in a5)\n",
    "\n",
    "print(f\"Length of set {a5} is {length_of_set}\\n\")\n"
   ]
  },
  {
   "cell_type": "code",
   "execution_count": 35,
   "metadata": {},
   "outputs": [
    {
     "name": "stdout",
     "output_type": "stream",
     "text": [
      "Length of set {32, 1, 2, 4, 68, 6, 12, 45, 23} is 9\n",
      "\n"
     ]
    }
   ],
   "source": [
    "#2nd way : by checking each element of set\n",
    "\n",
    "count = 0\n",
    "for x in a5:\n",
    "    count += 1\n",
    "\n",
    "print(f\"Length of set {a5} is {count}\\n\")    "
   ]
  },
  {
   "cell_type": "markdown",
   "metadata": {},
   "source": [
    "# 6. Clear all elements from a set."
   ]
  },
  {
   "cell_type": "markdown",
   "metadata": {},
   "source": [
    "we can use inbuild method clear to remove all elements from a set"
   ]
  },
  {
   "cell_type": "code",
   "execution_count": 36,
   "metadata": {},
   "outputs": [
    {
     "name": "stdout",
     "output_type": "stream",
     "text": [
      "Before clear : {32, 1, 2, 4, 68, 6, 12, 45, 23}\n",
      "afterclear : set()\n"
     ]
    }
   ],
   "source": [
    "a6 = {32, 1, 2, 4, 68, 6, 12, 45, 23}\n",
    "\n",
    "print(f\"Before clear : {a6}\")\n",
    "\n",
    "a6.clear()               # clear all elements of set\n",
    "\n",
    "print(f\"afterclear : {a6}\")"
   ]
  },
  {
   "cell_type": "markdown",
   "metadata": {},
   "source": [
    "# 7. Create a set of even numbers from 1 to 10."
   ]
  },
  {
   "cell_type": "markdown",
   "metadata": {},
   "source": [
    "We can  simply use set comprehension method"
   ]
  },
  {
   "cell_type": "code",
   "execution_count": 38,
   "metadata": {},
   "outputs": [
    {
     "name": "stdout",
     "output_type": "stream",
     "text": [
      "Set of even numbers from 1 to 10 is {2, 4, 6, 8, 10}\n"
     ]
    }
   ],
   "source": [
    "a7 = set(x for x in range(2,11,2))\n",
    "\n",
    "print(f\"Set of even numbers from 1 to 10 is {a7}\")"
   ]
  },
  {
   "cell_type": "markdown",
   "metadata": {},
   "source": [
    "# 8. Create a set of odd numbers from 1 to 10."
   ]
  },
  {
   "cell_type": "markdown",
   "metadata": {},
   "source": [
    "We can  simply use set comprehension method"
   ]
  },
  {
   "cell_type": "code",
   "execution_count": 39,
   "metadata": {},
   "outputs": [
    {
     "name": "stdout",
     "output_type": "stream",
     "text": [
      "Set of odd numbers from 1 to 10 is {1, 3, 5, 7, 9}\n"
     ]
    }
   ],
   "source": [
    "a8 = set(x for x in range(1,11,2))\n",
    "\n",
    "print(f\"Set of odd numbers from 1 to 10 is {a8}\")"
   ]
  },
  {
   "cell_type": "markdown",
   "metadata": {},
   "source": [
    "# 9. Find the union of two sets."
   ]
  },
  {
   "cell_type": "code",
   "execution_count": 41,
   "metadata": {},
   "outputs": [
    {
     "name": "stdout",
     "output_type": "stream",
     "text": [
      "The union of two sets {1, 2, 3, 4, 5} and {1, 3, 5, 7, 9} is :  {1, 2, 3, 4, 5, 7, 9}\n"
     ]
    }
   ],
   "source": [
    "#We will simply use inbuild method union on set\n",
    "\n",
    "a9 = { 1,2,3,4,5}      # first set\n",
    "\n",
    "b9 = {1, 3, 5, 7, 9}   # second set\n",
    "\n",
    "c9 = a9.union(b9)      # by union method on set\n",
    "\n",
    "print(f\"The union of two sets {a9} and {b9} is :  {c9}\")"
   ]
  },
  {
   "cell_type": "markdown",
   "metadata": {},
   "source": [
    "# 10. Find the intersection of two sets."
   ]
  },
  {
   "cell_type": "code",
   "execution_count": 42,
   "metadata": {},
   "outputs": [
    {
     "name": "stdout",
     "output_type": "stream",
     "text": [
      "The intersection of two sets {1, 2, 3, 4, 5} and {1, 3, 5, 7, 9} is :  {1, 3, 5}\n"
     ]
    }
   ],
   "source": [
    "#We will simply use inbuild method union on set\n",
    "\n",
    "a10 = { 1,2,3,4,5}      # first set\n",
    "\n",
    "b10 = {1, 3, 5, 7, 9}   # second set\n",
    "\n",
    "c10 = a10.intersection(b10)      # by intersection method on set ,thos will create another set\n",
    "\n",
    "print(f\"The intersection of two sets {a10} and {b10} is :  {c10}\")"
   ]
  },
  {
   "cell_type": "markdown",
   "metadata": {},
   "source": [
    "# 11. Find the difference between two sets."
   ]
  },
  {
   "cell_type": "code",
   "execution_count": 44,
   "metadata": {},
   "outputs": [
    {
     "name": "stdout",
     "output_type": "stream",
     "text": [
      "The difference of two sets {1, 2, 3, 4, 5} and {1, 3, 5, 7, 9} is :  {2, 4}\n",
      "\n",
      "The difference of two sets {1, 3, 5, 7, 9} and {1, 2, 3, 4, 5} is :  {9, 7}\n"
     ]
    }
   ],
   "source": [
    "#We will simply use inbuild method difference() on set\n",
    "\n",
    "a11 = { 1,2,3,4,5}      # first set\n",
    "\n",
    "b11 = {1, 3, 5, 7, 9}   # second set\n",
    "\n",
    "c11 = a11.difference(b11)      # by difference method on set ,thos will create another set ( difference of a11 from b11)\n",
    "\n",
    "print(f\"The difference of two sets {a11} and {b11} is :  {c11}\\n\")\n",
    "\n",
    "d11 = b11.difference(a11)      # by difference method on set ,thos will create another set( difference of b11 from a11)\n",
    "\n",
    "print(f\"The difference of two sets {b11} and {a11} is :  {d11}\")"
   ]
  },
  {
   "cell_type": "markdown",
   "metadata": {},
   "source": [
    "# 12. Check if a set is a subset of another set."
   ]
  },
  {
   "cell_type": "code",
   "execution_count": 45,
   "metadata": {},
   "outputs": [
    {
     "name": "stdout",
     "output_type": "stream",
     "text": [
      "set {1, 2, 3, 4, 5} is not subset of set {2, 4}\n",
      "\n",
      "set {2, 4} is subset of set {1, 2, 3, 4, 5}\n",
      "\n"
     ]
    }
   ],
   "source": [
    "#We will simply use inbuild method issubset() on set\n",
    "\n",
    "a12 = { 1,2,3,4,5}      # first set\n",
    "\n",
    "b12 = {2,4}             # second set\n",
    "\n",
    "if a12.issubset(b12):\n",
    "    print(f\"set {a12} is subset of set {b12}\\n\")\n",
    "else :\n",
    "    print(f\"set {a12} is not subset of set {b12}\\n\")\n",
    "    \n",
    "    \n",
    "if b12.issubset(a12):\n",
    "    print(f\"set {b12} is subset of set {a12}\\n\")\n",
    "else :\n",
    "    print(f\"set {b12} is not subset of set {a12}\\n\")    "
   ]
  },
  {
   "cell_type": "markdown",
   "metadata": {},
   "source": [
    "# 13. Check if a set is a superset of another set."
   ]
  },
  {
   "cell_type": "code",
   "execution_count": 46,
   "metadata": {},
   "outputs": [
    {
     "name": "stdout",
     "output_type": "stream",
     "text": [
      "set {1, 2, 3, 4, 5} is superset of set {2, 4}\n",
      "\n",
      "set {2, 4} is not superset of set {1, 2, 3, 4, 5}\n",
      "\n"
     ]
    }
   ],
   "source": [
    "#We will simply use inbuild method issuperset() on set\n",
    "\n",
    "a12 = { 1,2,3,4,5}      # first set\n",
    "\n",
    "b12 = {2,4}             # second set\n",
    "\n",
    "if a12.issuperset(b12):\n",
    "    print(f\"set {a12} is superset of set {b12}\\n\")\n",
    "else :\n",
    "    print(f\"set {a12} is not superset of set {b12}\\n\")\n",
    "    \n",
    "    \n",
    "if b12.issuperset(a12):\n",
    "    print(f\"set {b12} is superset of set {a12}\\n\")\n",
    "else :\n",
    "    print(f\"set {b12} is not superset of set {a12}\\n\")  "
   ]
  },
  {
   "cell_type": "markdown",
   "metadata": {},
   "source": [
    "# 14. Create a set from a list."
   ]
  },
  {
   "cell_type": "code",
   "execution_count": 50,
   "metadata": {},
   "outputs": [
    {
     "name": "stdout",
     "output_type": "stream",
     "text": [
      "Creating a set {1, 3, 5, 7} from list [1, 3, 5, 7]\n",
      "\n",
      "Creating a set {1, 3, 5, 7} from list [1, 3, 5, 7, 1, 3, 1, 3] having duplicate\n",
      "\n"
     ]
    }
   ],
   "source": [
    "a14 = [ 1,3,5,7]      # list without any duplicate value\n",
    "\n",
    "b14 = set(a14)         # using set constructor\n",
    "\n",
    "print(f\"Creating a set {b14} from list {a14}\\n\")\n",
    "\n",
    "c14 = [ 1,3,5,7,1,3,1,3]   # list having duplicate value\n",
    "\n",
    "d14 = set(c14)         # using set constructor , while creating set it will discard duplicate\n",
    "\n",
    "print(f\"Creating a set {d14} from list {c14} having duplicate\\n\")\n"
   ]
  },
  {
   "cell_type": "markdown",
   "metadata": {},
   "source": [
    "# 15. Convert a set to a list."
   ]
  },
  {
   "cell_type": "code",
   "execution_count": 51,
   "metadata": {},
   "outputs": [
    {
     "name": "stdout",
     "output_type": "stream",
     "text": [
      "Converting a set {1, 3, 5, 7} to a list [1, 3, 5, 7]\n"
     ]
    }
   ],
   "source": [
    "a15 = { 1,3,5,7 }     # input set\n",
    "\n",
    "b15 = list(a15)         # using list constructor\n",
    "\n",
    "print(f\"Converting a set {a15} to a list {b15}\")"
   ]
  },
  {
   "cell_type": "markdown",
   "metadata": {},
   "source": [
    "# 16. Remove a random element from a set."
   ]
  },
  {
   "cell_type": "markdown",
   "metadata": {},
   "source": [
    "We can remove a random element from a set by inbuild method pop()"
   ]
  },
  {
   "cell_type": "code",
   "execution_count": 53,
   "metadata": {},
   "outputs": [
    {
     "name": "stdout",
     "output_type": "stream",
     "text": [
      "set Bedore removing random element : {1, 3, 5, 7, 9, 11, 13, 15, 17, 19, 21, 23, 25}\n",
      "\n",
      "set Aftere removing random element : {3, 5, 7, 9, 11, 13, 15, 17, 19, 21, 23, 25}\n"
     ]
    }
   ],
   "source": [
    "a16 = { 1,3,5,7,9,11,13,15,17,19,21,23,25 }     # input set\n",
    "\n",
    "# removing a random element from a set\n",
    "\n",
    "print(f\"set Bedore removing random element : {a16}\\n\")\n",
    "\n",
    "a16.pop()     # Remove a random element from a set\n",
    "\n",
    "print(f\"set Aftere removing random element : {a16}\")\n"
   ]
  },
  {
   "cell_type": "markdown",
   "metadata": {},
   "source": [
    "# 17. Pop an element from a set."
   ]
  },
  {
   "cell_type": "code",
   "execution_count": 55,
   "metadata": {},
   "outputs": [
    {
     "name": "stdout",
     "output_type": "stream",
     "text": [
      "set Bedore pop an element : {1, 3, 5, 7, 9, 11, 13, 15, 17, 19, 21, 23, 25}\n",
      "\n",
      "set Aftere pop an element : {3, 5, 7, 9, 11, 13, 15, 17, 19, 21, 23, 25}\n"
     ]
    }
   ],
   "source": [
    "a16 = { 1,3,5,7,9,11,13,15,17,19,21,23,25 }     # input set\n",
    "\n",
    "# removing a random element from a set\n",
    "\n",
    "print(f\"set Bedore pop an element : {a16}\\n\")\n",
    "\n",
    "a16.pop()     # Pop an element from a set\n",
    "\n",
    "print(f\"set Aftere pop an element : {a16}\")\n"
   ]
  },
  {
   "cell_type": "markdown",
   "metadata": {},
   "source": [
    "# 18. Check if two sets have no elements in common."
   ]
  },
  {
   "cell_type": "code",
   "execution_count": 57,
   "metadata": {},
   "outputs": [
    {
     "name": "stdout",
     "output_type": "stream",
     "text": [
      "set {1, 2, 3, 4, 5} and {8, 9, 10, 13, 16} have no elements in common : set()\n"
     ]
    }
   ],
   "source": [
    "#We will simply use inbuild method intersection() on set\n",
    "\n",
    "a18 = { 1,2,3,4,5}               # first set\n",
    "\n",
    "b18 = {8,9,10,13,16}             # second set\n",
    "\n",
    "c18 = a18.intersection(b18)      # intersection of two sets\n",
    "\n",
    "if len(c18) > 0 :\n",
    "    print(f\"set {a18} and {b18} have elements in common : {c18}\")\n",
    "else :\n",
    "    print(f\"set {a18} and {b18} have no elements in common : {c18}\")"
   ]
  },
  {
   "cell_type": "markdown",
   "metadata": {},
   "source": [
    "# 19. Find the symmetric difference between two sets"
   ]
  },
  {
   "cell_type": "code",
   "execution_count": 58,
   "metadata": {},
   "outputs": [
    {
     "name": "stdout",
     "output_type": "stream",
     "text": [
      "The symmetric difference between two set {1, 2, 3, 4, 5, 10, 16} and {2, 8, 9, 10, 13, 16} is: {1, 3, 4, 5, 8, 9, 13}\n"
     ]
    }
   ],
   "source": [
    "#We will simply use inbuild method symmetric_difference() on set\n",
    "\n",
    "a19 = { 1,2,3,4,5,10,16}         # first set\n",
    "\n",
    "b19 = {8,9,10,2,13,16}           # second set\n",
    "\n",
    "c19 = a19.symmetric_difference(b19)      # symmetric difference between two sets\n",
    "\n",
    "print(f\"The symmetric difference between two set {a19} and {b19} is: {c19}\")\n",
    "\n"
   ]
  },
  {
   "cell_type": "markdown",
   "metadata": {},
   "source": [
    "# 20. Update a set with elements from another set"
   ]
  },
  {
   "cell_type": "code",
   "execution_count": 60,
   "metadata": {},
   "outputs": [
    {
     "name": "stdout",
     "output_type": "stream",
     "text": [
      "Before update two set {1, 2, 3, 4, 5, 10, 16} and {2, 8, 9, 10, 13, 16}\n",
      " \n",
      "After update set {1, 2, 3, 4, 5, 8, 9, 10, 13, 16} from set {2, 8, 9, 10, 13, 16} \n"
     ]
    }
   ],
   "source": [
    "#We will simply use inbuild method update() on set\n",
    "\n",
    "a20 = { 1,2,3,4,5,10,16}         # first set\n",
    "\n",
    "b20 = {8,9,10,2,13,16}           # second set\n",
    "\n",
    "print(f\"Before update two set {a19} and {b19}\\n \")\n",
    "\n",
    "a20.update(b20)                  # update set a20 with elements from set b20 , duplicate element will be discarded\n",
    "\n",
    "print(f\"After update set {a20} from set {b20} \")\n"
   ]
  },
  {
   "cell_type": "markdown",
   "metadata": {},
   "source": [
    "# 21. Create a set of the first 5 prime numbers."
   ]
  },
  {
   "cell_type": "markdown",
   "metadata": {},
   "source": [
    "prime number:a whole number greater than 1 that cannot be exactly divided by any whole number other than itself.\n",
    "\n",
    "so, to check 20 is prime number or not, we will check whether 20 is divisible by any number starting from 2 to 11\n",
    "\n",
    "similarly to check 50 is prime number or not, we will check whether 50 is divisible by any number starting from 2 to 26\n",
    "\n",
    "so to check n is prime number or not, we will check whether n is divisible by any number starting from 2 to (n/2) + 1"
   ]
  },
  {
   "cell_type": "code",
   "execution_count": 65,
   "metadata": {},
   "outputs": [],
   "source": [
    "# Function to check whether given number n is prime or not\n",
    "def chk_prime(n):\n",
    "    \n",
    "    if n < 2:\n",
    "        return False\n",
    "    \n",
    "    for i in range(int(n/2) + 1 ):\n",
    "        if i > 1:\n",
    "            if n % i == 0 :\n",
    "                return False\n",
    "        \n",
    "    return True\n",
    "\n",
    "def create_set_of_first_n_prime(n):\n",
    "    \n",
    "    prime_list = []\n",
    "    num = 2\n",
    "    \n",
    "    while len(prime_list) < n :    #Have to create n prime number \n",
    "        if chk_prime(num):\n",
    "            prime_list.append(num)\n",
    "            \n",
    "        num += 1\n",
    "                \n",
    "    return set(prime_list)"
   ]
  },
  {
   "cell_type": "code",
   "execution_count": 66,
   "metadata": {},
   "outputs": [
    {
     "name": "stdout",
     "output_type": "stream",
     "text": [
      "Creating a set of the first 5 prime numbers is {2, 3, 5, 7, 11}\n",
      "\n",
      "Creating a set of the first 10 prime numbers is {2, 3, 5, 7, 11, 13, 17, 19, 23, 29}\n"
     ]
    }
   ],
   "source": [
    "# Test the abive function\n",
    "\n",
    "n = 5\n",
    "\n",
    "print(f\"Creating a set of the first {n} prime numbers is {create_set_of_first_n_prime(n)}\\n\")\n",
    "\n",
    "n = 10\n",
    "\n",
    "print(f\"Creating a set of the first {n} prime numbers is {create_set_of_first_n_prime(n)}\")"
   ]
  },
  {
   "cell_type": "markdown",
   "metadata": {},
   "source": [
    "# 22. Check if two sets are identical."
   ]
  },
  {
   "cell_type": "markdown",
   "metadata": {},
   "source": [
    "We can check if two sets are identical by using the == operator."
   ]
  },
  {
   "cell_type": "code",
   "execution_count": 68,
   "metadata": {},
   "outputs": [
    {
     "name": "stdout",
     "output_type": "stream",
     "text": [
      "Two sets {1, 2, 3} and {1, 2, 3} are identical \n",
      "\n",
      "Two sets {1, 2, 3} and {2, 3, 4} are not identical \n",
      "\n"
     ]
    }
   ],
   "source": [
    "def chk_identical_sets(input_set1 , input_set2):\n",
    "    \n",
    "    if input_set1 == input_set2 :  \n",
    "        return True\n",
    "    else :\n",
    "        return False\n",
    "    \n",
    "\n",
    "#Testing of above function\n",
    "\n",
    "a22 = { 1, 2, 3 }\n",
    "\n",
    "b22 = { 1, 2, 3 }\n",
    "\n",
    "c22 = { 2, 3, 4 }\n",
    "\n",
    "if chk_identical_sets(a22 , b22):\n",
    "    print(f\"Two sets {a22} and {b22} are identical \\n\")\n",
    "else :\n",
    "    print(f\"Two sets {a22} and {b22} are not identical \\n\")\n",
    "    \n",
    "\n",
    "if chk_identical_sets(a22 , c22):\n",
    "    print(f\"Two sets {a22} and {c22} are identical \\n\")\n",
    "else :\n",
    "    print(f\"Two sets {a22} and {c22} are not identical \\n\")"
   ]
  },
  {
   "cell_type": "markdown",
   "metadata": {},
   "source": [
    "# 23. Create a frozen set."
   ]
  },
  {
   "cell_type": "markdown",
   "metadata": {},
   "source": [
    "Frozen set is just an immutable version of a Python set object. While elements of a set can be modified at any time, elements of the frozen set remain the same after creation. Due to this, frozen sets can be used as keys in Dictionary or as elements of another set"
   ]
  },
  {
   "cell_type": "markdown",
   "metadata": {},
   "source": [
    "to create Frozen set , we can use the frozenset() constructor."
   ]
  },
  {
   "cell_type": "code",
   "execution_count": 78,
   "metadata": {},
   "outputs": [],
   "source": [
    "a24 = { 1, 2, 3 }\n",
    "\n",
    "b24 = frozenset(a24)     # Creating a frozen set\n",
    "\n"
   ]
  },
  {
   "cell_type": "code",
   "execution_count": 79,
   "metadata": {},
   "outputs": [
    {
     "data": {
      "text/plain": [
       "frozenset({1, 2, 3})"
      ]
     },
     "execution_count": 79,
     "metadata": {},
     "output_type": "execute_result"
    }
   ],
   "source": [
    "b24"
   ]
  },
  {
   "cell_type": "code",
   "execution_count": 80,
   "metadata": {},
   "outputs": [
    {
     "ename": "AttributeError",
     "evalue": "'frozenset' object has no attribute 'add'",
     "output_type": "error",
     "traceback": [
      "\u001b[1;31m---------------------------------------------------------------------------\u001b[0m",
      "\u001b[1;31mAttributeError\u001b[0m                            Traceback (most recent call last)",
      "\u001b[1;32m<ipython-input-80-8ad13018bae5>\u001b[0m in \u001b[0;36m<module>\u001b[1;34m\u001b[0m\n\u001b[1;32m----> 1\u001b[1;33m \u001b[0mb24\u001b[0m\u001b[1;33m.\u001b[0m\u001b[0madd\u001b[0m\u001b[1;33m(\u001b[0m\u001b[1;33m{\u001b[0m\u001b[1;36m5\u001b[0m\u001b[1;33m}\u001b[0m\u001b[1;33m)\u001b[0m              \u001b[1;31m# trying  to add element to frozenset\u001b[0m\u001b[1;33m\u001b[0m\u001b[1;33m\u001b[0m\u001b[0m\n\u001b[0m",
      "\u001b[1;31mAttributeError\u001b[0m: 'frozenset' object has no attribute 'add'"
     ]
    }
   ],
   "source": [
    "b24.add({5})              # trying  to add element to frozenset"
   ]
  },
  {
   "cell_type": "markdown",
   "metadata": {},
   "source": [
    "# 24. Check if a set is disjoint with another set."
   ]
  },
  {
   "cell_type": "code",
   "execution_count": 69,
   "metadata": {},
   "outputs": [
    {
     "name": "stdout",
     "output_type": "stream",
     "text": [
      "set {1, 2, 3, 4, 5} and {8, 9, 10, 13, 16} are disjoint sets\n",
      "\n",
      "set {1, 2, 3, 4, 5} and {25, 2, 27, 23} are not disjoint sets\n",
      "\n"
     ]
    }
   ],
   "source": [
    "#We will simply use inbuild method isdisjoint() on set\n",
    "\n",
    "a24 = { 1,2,3,4,5}               # first set\n",
    "\n",
    "b24 = {8,9,10,13,16}             # second set\n",
    "\n",
    "c24 = { 23 , 25 , 2, 27 }        # third set \n",
    "\n",
    "if a24.isdisjoint(b24) :\n",
    "    print(f\"set {a24} and {b18} are disjoint sets\\n\")\n",
    "else :\n",
    "    print(f\"set {a24} and {b18} are not disjoint sets\\n\")\n",
    "    \n",
    "\n",
    "if a24.isdisjoint(c24) :\n",
    "    print(f\"set {a24} and {c24} are disjoint sets\\n\")\n",
    "else :\n",
    "    print(f\"set {a24} and {c24} are not disjoint sets\\n\")"
   ]
  },
  {
   "cell_type": "markdown",
   "metadata": {},
   "source": [
    "# 25. Create a set of squares of numbers from 1 to 5."
   ]
  },
  {
   "cell_type": "markdown",
   "metadata": {},
   "source": [
    "We will simply use set comprehension method"
   ]
  },
  {
   "cell_type": "code",
   "execution_count": 72,
   "metadata": {},
   "outputs": [],
   "source": [
    "a25 = set(x*x for x in range(1,6))"
   ]
  },
  {
   "cell_type": "code",
   "execution_count": 73,
   "metadata": {},
   "outputs": [
    {
     "name": "stdout",
     "output_type": "stream",
     "text": [
      "Create a set of squares of numbers from 1 to 5 is {1, 4, 9, 16, 25}\n"
     ]
    }
   ],
   "source": [
    "print(f\"Create a set of squares of numbers from 1 to 5 is {a25}\")"
   ]
  },
  {
   "cell_type": "markdown",
   "metadata": {},
   "source": [
    "# 26.  Filter out all even numbers from a set."
   ]
  },
  {
   "cell_type": "code",
   "execution_count": 81,
   "metadata": {},
   "outputs": [
    {
     "name": "stdout",
     "output_type": "stream",
     "text": [
      "Filtering out all even numbers from a set {32, 1, 2, 3, 4, 5, 6, 7, 8, 9, 44, 13, 18, 21, 23, 56} , new set is {32, 2, 4, 6, 8, 44, 18, 56}\n"
     ]
    }
   ],
   "source": [
    "# we can use set comprehension method to filter out even numbers\n",
    "\n",
    "a26 = { 1, 2,3,4,5,6,7,8,9,13,18,21,44,32,56,23 }    # input set\n",
    "\n",
    "even_num_set = set(x for x in a26 if x % 2 == 0)\n",
    "\n",
    "print(f\"Filtering out all even numbers from a set {a26} , new set is {even_num_set}\")"
   ]
  },
  {
   "cell_type": "markdown",
   "metadata": {},
   "source": [
    "# 27. Multiply all elements in a set by 2."
   ]
  },
  {
   "cell_type": "code",
   "execution_count": 82,
   "metadata": {},
   "outputs": [
    {
     "name": "stdout",
     "output_type": "stream",
     "text": [
      "Multiplying all elements in a set {32, 1, 2, 3, 4, 5, 6, 7, 8, 9, 44, 13, 18, 21, 23, 56} by 2 , new set is {64, 2, 4, 36, 6, 8, 10, 42, 12, 14, 46, 16, 112, 18, 88, 26}\n"
     ]
    }
   ],
   "source": [
    "# we can use set comprehension method to Multiply all elements in a set by 2\n",
    "\n",
    "a27 = { 1, 2,3,4,5,6,7,8,9,13,18,21,44,32,56,23 }    # input set\n",
    "\n",
    "output_set = set(x * 2 for x in a27 )\n",
    "\n",
    "print(f\"Multiplying all elements in a set {a27} by 2 , new set is {output_set}\")"
   ]
  },
  {
   "cell_type": "markdown",
   "metadata": {},
   "source": [
    "# 28. Create a set of random numbers."
   ]
  },
  {
   "cell_type": "code",
   "execution_count": 83,
   "metadata": {},
   "outputs": [
    {
     "name": "stdout",
     "output_type": "stream",
     "text": [
      "{32, 98, 34, 100, 7, 73, 41, 11, 14, 15, 81, 52, 85, 53, 88, 61, 95}\n"
     ]
    }
   ],
   "source": [
    "# we can use random module to generate random number\n",
    "\n",
    "import random\n",
    "\n",
    "a28 = set(random.randint(1,100) for _ in range(1,20))     # creating set with random numbers\n",
    "\n",
    "print(a28)"
   ]
  },
  {
   "cell_type": "markdown",
   "metadata": {},
   "source": [
    "# 29. Check if a set is empty."
   ]
  },
  {
   "cell_type": "code",
   "execution_count": 89,
   "metadata": {},
   "outputs": [
    {
     "data": {
      "text/plain": [
       "set"
      ]
     },
     "execution_count": 89,
     "metadata": {},
     "output_type": "execute_result"
    }
   ],
   "source": [
    "a29 = set(())     # creating an empty set\n",
    "\n",
    "type(a29)         # check the type of empty set\n"
   ]
  },
  {
   "cell_type": "code",
   "execution_count": 90,
   "metadata": {},
   "outputs": [
    {
     "data": {
      "text/plain": [
       "True"
      ]
     },
     "execution_count": 90,
     "metadata": {},
     "output_type": "execute_result"
    }
   ],
   "source": [
    "isinstance(a29,set)     # check whether it is instance of set"
   ]
  },
  {
   "cell_type": "code",
   "execution_count": 91,
   "metadata": {},
   "outputs": [
    {
     "data": {
      "text/plain": [
       "set()"
      ]
     },
     "execution_count": 91,
     "metadata": {},
     "output_type": "execute_result"
    }
   ],
   "source": [
    "a29              # check the value of empty set"
   ]
  },
  {
   "cell_type": "code",
   "execution_count": 92,
   "metadata": {},
   "outputs": [
    {
     "data": {
      "text/plain": [
       "0"
      ]
     },
     "execution_count": 92,
     "metadata": {},
     "output_type": "execute_result"
    }
   ],
   "source": [
    "len(a29)         # check the length of empty st"
   ]
  },
  {
   "cell_type": "code",
   "execution_count": 93,
   "metadata": {},
   "outputs": [],
   "source": [
    "# let's suppose we have set\n",
    "\n",
    "b29 = { 1,3,5}          # non empty set\n",
    "\n",
    "b29.clear()             # remove all element of set\n"
   ]
  },
  {
   "cell_type": "code",
   "execution_count": 94,
   "metadata": {},
   "outputs": [
    {
     "data": {
      "text/plain": [
       "set()"
      ]
     },
     "execution_count": 94,
     "metadata": {},
     "output_type": "execute_result"
    }
   ],
   "source": [
    "b29    # check the set"
   ]
  },
  {
   "cell_type": "code",
   "execution_count": 95,
   "metadata": {},
   "outputs": [
    {
     "data": {
      "text/plain": [
       "set"
      ]
     },
     "execution_count": 95,
     "metadata": {},
     "output_type": "execute_result"
    }
   ],
   "source": [
    "type(b29)"
   ]
  },
  {
   "cell_type": "code",
   "execution_count": 97,
   "metadata": {},
   "outputs": [
    {
     "name": "stdout",
     "output_type": "stream",
     "text": [
      "Set set() is empty\n"
     ]
    }
   ],
   "source": [
    "# so, to check empty set\n",
    "\n",
    "if isinstance(b29,set) and len(b29) == 0 :\n",
    "    print(f\"Set {b29} is empty\")\n",
    "else :\n",
    "    print(f\"Set {b29} is not empty\")\n",
    "    "
   ]
  },
  {
   "cell_type": "markdown",
   "metadata": {},
   "source": [
    "# 30. Create a nested set (hint: use frozenset)."
   ]
  },
  {
   "cell_type": "code",
   "execution_count": 142,
   "metadata": {},
   "outputs": [
    {
     "name": "stdout",
     "output_type": "stream",
     "text": [
      "Nested Set: frozenset({frozenset({6, 7}), 1, 2, frozenset({3, 4, 5})})\n"
     ]
    }
   ],
   "source": [
    "# Creating a nested set using frozenset\n",
    "nested_set = frozenset([\n",
    "    1,\n",
    "    2,\n",
    "    frozenset({3, 4, 5}),\n",
    "    frozenset({6, 7}),\n",
    "])\n",
    "\n",
    "# Displaying the nested set\n",
    "print(\"Nested Set:\", nested_set)\n",
    "\n"
   ]
  },
  {
   "cell_type": "markdown",
   "metadata": {},
   "source": [
    "# 31. Remove an element from a set using the discard method."
   ]
  },
  {
   "cell_type": "code",
   "execution_count": 98,
   "metadata": {},
   "outputs": [
    {
     "name": "stdout",
     "output_type": "stream",
     "text": [
      "{32, 1, 3, 4, 5, 6, 7, 8, 9, 44, 13, 18, 21, 23, 56}\n"
     ]
    }
   ],
   "source": [
    "a31 = { 1, 2,3,4,5,6,7,8,9,13,18,21,44,32,56,23 }  # \n",
    "\n",
    "a31.discard(2)   #Remove an element 2 from a set using the discard method\n",
    "\n",
    "print(a31)       # after discard"
   ]
  },
  {
   "cell_type": "markdown",
   "metadata": {},
   "source": [
    "# 32. Compare two sets."
   ]
  },
  {
   "cell_type": "code",
   "execution_count": 99,
   "metadata": {},
   "outputs": [
    {
     "name": "stdout",
     "output_type": "stream",
     "text": [
      "set {1, 2, 3} and {1, 2, 3} are equal\n",
      "\n",
      "set {1, 2, 3} and {2, 3, 4} are not equal\n",
      "\n"
     ]
    }
   ],
   "source": [
    "# we can simply use '==' operator to compare \n",
    "\n",
    "a32 = {1,2,3}        # first set\n",
    "\n",
    "b32 = {1,2,3}         # second set\n",
    "\n",
    "c32 = {2,3,4}         # third set\n",
    "\n",
    "if a32 == b32 :\n",
    "    print(f\"set {a32} and {b32} are equal\\n\")\n",
    "else :\n",
    "    print(f\"set {a32} and {b32} are not equal\\m\")\n",
    "    \n",
    "\n",
    "if a18 == c32 :\n",
    "    print(f\"set {a32} and {c32} are equal\\n\")\n",
    "else :\n",
    "    print(f\"set {a32} and {c32} are not equal\\n\")"
   ]
  },
  {
   "cell_type": "markdown",
   "metadata": {},
   "source": [
    "# 33. Create a set from a string."
   ]
  },
  {
   "cell_type": "code",
   "execution_count": 102,
   "metadata": {},
   "outputs": [
    {
     "name": "stdout",
     "output_type": "stream",
     "text": [
      "Creating a set {'e', 'i', 's', 'k', 'a', 'h', 'b'} from a string 'abhishek' \n"
     ]
    }
   ],
   "source": [
    "# we can simply use set constructor to create a set from a string\n",
    "\n",
    "a33_str    = 'abhishek'\n",
    "\n",
    "b33 = set(a33_str)        # creating set from string\n",
    "\n",
    "print(f\"Creating a set {b33} from a string \\'{a33_str}\\' \")\n"
   ]
  },
  {
   "cell_type": "markdown",
   "metadata": {},
   "source": [
    "# 34. Convert a set of strings to a set of integers."
   ]
  },
  {
   "cell_type": "code",
   "execution_count": 107,
   "metadata": {},
   "outputs": [
    {
     "name": "stdout",
     "output_type": "stream",
     "text": [
      "Converting a set of strings {'2', '5', '1', '4', '3'} to a set of integers : {1, 2, 3, 4, 5}\n"
     ]
    }
   ],
   "source": [
    "# we can simply use str constructor to create a string from a set or join the elemnt of sets\n",
    "\n",
    "c34     = {'1' , '2' , '3' , '4' , '5'}     # set of strings\n",
    "\n",
    "d34 = set(int(x) for x in c34 )             # Converting a set of strings to a set of integers.\n",
    "\n",
    "print(f\"Converting a set of strings {c34} to a set of integers : {d34}\")\n"
   ]
  },
  {
   "cell_type": "markdown",
   "metadata": {},
   "source": [
    "# 35. Convert a set of integers to a set of strings."
   ]
  },
  {
   "cell_type": "code",
   "execution_count": 108,
   "metadata": {},
   "outputs": [
    {
     "name": "stdout",
     "output_type": "stream",
     "text": [
      "Converting a set of integers {1, 2, 3, 4, 5} to a set of strings : {'2', '5', '1', '4', '3'}\n"
     ]
    }
   ],
   "source": [
    "# we can simply use str constructor to create a string from a set or join the elemnt of sets\n",
    "\n",
    "a35     = {1, 2, 3, 4, 5}             # set of integers\n",
    "\n",
    "b35 = set(str(x) for x in a35 )       # Converting a set of integers to a set of strings\n",
    "\n",
    "print(f\"Converting a set of integers {a35} to a set of strings : {b35}\")"
   ]
  },
  {
   "cell_type": "markdown",
   "metadata": {},
   "source": [
    "# 36. Create a set from a tuple."
   ]
  },
  {
   "cell_type": "code",
   "execution_count": 109,
   "metadata": {},
   "outputs": [
    {
     "name": "stdout",
     "output_type": "stream",
     "text": [
      "Create a set {1, 2, 3, 4, 5} from a tuple (1, 2, 3, 4, 5)\n"
     ]
    }
   ],
   "source": [
    "# we will simply use set constructor to create set from a tuple\n",
    "\n",
    "a36 = ( 1,2,3,4,5)     # input tuple\n",
    "\n",
    "b36 = set(a36)         # creating set from tuple\n",
    "\n",
    "print(f\"Create a set {b36} from a tuple {a36}\")"
   ]
  },
  {
   "cell_type": "markdown",
   "metadata": {},
   "source": [
    "# 37. Convert a set to a tuple."
   ]
  },
  {
   "cell_type": "code",
   "execution_count": 110,
   "metadata": {},
   "outputs": [
    {
     "name": "stdout",
     "output_type": "stream",
     "text": [
      "Converting a set {1, 2, 3, 4, 5} to a tuple (1, 2, 3, 4, 5)\n"
     ]
    }
   ],
   "source": [
    "# we will simply use tuple constructor to create tuple from a set\n",
    "\n",
    "a37 = {1, 2, 3, 4, 5}     # input set\n",
    "\n",
    "b37 = tuple(a37)         # Convert a set to a tuple\n",
    "\n",
    "print(f\"Converting a set {a37} to a tuple {b37}\")"
   ]
  },
  {
   "cell_type": "markdown",
   "metadata": {},
   "source": [
    "# 38. Find the maximum value in a set."
   ]
  },
  {
   "cell_type": "code",
   "execution_count": 111,
   "metadata": {},
   "outputs": [
    {
     "name": "stdout",
     "output_type": "stream",
     "text": [
      "maximum value in a set {1, 2, 3, 4, 5} is 5\n"
     ]
    }
   ],
   "source": [
    "# we will simply use inbuild max function to find the maxmium value in a set\n",
    "\n",
    "a38 = {1, 2, 3, 4, 5}     # input set\n",
    "\n",
    "b38 = max(a38)\n",
    "\n",
    "print(f\"maximum value in a set {a38} is {b38}\")"
   ]
  },
  {
   "cell_type": "markdown",
   "metadata": {},
   "source": [
    "# 39. Find the minimum value in a set."
   ]
  },
  {
   "cell_type": "code",
   "execution_count": 112,
   "metadata": {},
   "outputs": [
    {
     "name": "stdout",
     "output_type": "stream",
     "text": [
      "Minimum value in a set {1, 2, 3, 4, 5} is 1\n"
     ]
    }
   ],
   "source": [
    "# we will simply use inbuild min function to find the minimum value in a set\n",
    "\n",
    "a39 = {1, 2, 3, 4, 5}     # input set\n",
    "\n",
    "b39 = min(a38)\n",
    "\n",
    "print(f\"Minimum value in a set {a39} is {b39}\")"
   ]
  },
  {
   "cell_type": "markdown",
   "metadata": {},
   "source": [
    "# 40. Create a set from user input."
   ]
  },
  {
   "cell_type": "code",
   "execution_count": 113,
   "metadata": {},
   "outputs": [
    {
     "name": "stdout",
     "output_type": "stream",
     "text": [
      "Enter values separated by commas(,): abhishek,nidhi,amit,avinash\n",
      "User input set: {'nidhi', 'amit', 'avinash', 'abhishek'}\n"
     ]
    }
   ],
   "source": [
    "# Get input from the user\n",
    "input_values = input(\"Enter values separated by commas(,): \")\n",
    "\n",
    "# Split the input string into a list of values\n",
    "values_list = input_values.split(',')\n",
    "\n",
    "# Convert the list of values to a set\n",
    "user_set = set(values_list)\n",
    "\n",
    "# Display the resulting tuple\n",
    "print(\"User input set:\",user_set)"
   ]
  },
  {
   "cell_type": "markdown",
   "metadata": {},
   "source": [
    "# 41. Check if the intersection of two sets is empty."
   ]
  },
  {
   "cell_type": "code",
   "execution_count": 116,
   "metadata": {},
   "outputs": [
    {
     "name": "stdout",
     "output_type": "stream",
     "text": [
      "The intersection of two sets {1, 2, 3, 4, 5} and {8, 9, 10, 13, 16} is empty and intersection set is set()\n",
      "\n",
      "The intersection of two sets {1, 2, 3, 4, 5} and {2, 20, 4, 15} is not empty and intersection set is {2, 4}\n"
     ]
    }
   ],
   "source": [
    "#We will simply use inbuild method intersection() on set. \n",
    "# we will check first isinstance() method to check whether it is set or not and then length of set\n",
    "\n",
    "a41 = { 1,2,3,4,5}               # first set\n",
    "\n",
    "b41 = {8,9,10,13,16}             # second set\n",
    "\n",
    "d41 = { 15, 20, 2,4}\n",
    "\n",
    "c41 = a41.intersection(b41)      # intersection of two sets\n",
    "\n",
    "if isinstance(c41,set) and len(c41) == 0 :\n",
    "    print(f\"The intersection of two sets {a41} and {b41} is empty and intersection set is {c41}\\n\")\n",
    "else :\n",
    "    print(f\"The intersection of two sets {a41} and {b41} is not empty and intersection set is {c41}\\n\")\n",
    "    \n",
    "e41 = a41.intersection(d41)      # intersection of two sets\n",
    "\n",
    "if isinstance(e41,set) and len(e41) == 0 :\n",
    "    print(f\"The intersection of two sets {a41} and {d41} is empty and intersection set is {e41}\")\n",
    "else :\n",
    "    print(f\"The intersection of two sets {a41} and {d41} is not empty and intersection set is {e41}\")"
   ]
  },
  {
   "cell_type": "markdown",
   "metadata": {},
   "source": [
    "# 42. Create a set of the first 5 Fibonacci numbers."
   ]
  },
  {
   "cell_type": "markdown",
   "metadata": {},
   "source": [
    "Fibonacci numbers, is defined as the sequence of numbers in which each number in the sequence is equal to the sum of two numbers before it. The Fibonacci Sequence is given as: 0, 1, 1, 2, 3, 5, 8, 13, 21, 34"
   ]
  },
  {
   "cell_type": "code",
   "execution_count": 117,
   "metadata": {},
   "outputs": [],
   "source": [
    "# Function to return fibonacci number\n",
    "def create_fibonacci(n):        \n",
    "          \n",
    "    if n <= 1:         \n",
    "        return n\n",
    "    else :\n",
    "        return (create_fibonacci(n-1) + create_fibonacci(n-2) )\n",
    "    \n",
    "# Function to return set of first n  fibonacci number\n",
    "\n",
    "def create_fibonacci_set(n):\n",
    "    \n",
    "    output_list = []         # create output list\n",
    "    \n",
    "    for i in range(n+1):     # for iterate through 0 to n\n",
    "        output_list.append(create_fibonacci(i))        # call create_fibonacci function for each occurance and append to list\n",
    "        \n",
    "    return set(output_list)       #set disgard the duplicate value"
   ]
  },
  {
   "cell_type": "code",
   "execution_count": 119,
   "metadata": {},
   "outputs": [
    {
     "name": "stdout",
     "output_type": "stream",
     "text": [
      "{0, 1, 2, 3, 5}\n"
     ]
    }
   ],
   "source": [
    "# Test the above function \n",
    "\n",
    "# Create a set of the first 5 Fibonacci numbers\n",
    "result = create_fibonacci_set(5)          # set discard the duplicate value so 1 will not be repeated\n",
    "\n",
    "print(result)    #set discard the duplicate value so 1 will not be repeated"
   ]
  },
  {
   "cell_type": "markdown",
   "metadata": {},
   "source": [
    "# 43. Remove duplicates from a list using sets."
   ]
  },
  {
   "cell_type": "code",
   "execution_count": 121,
   "metadata": {},
   "outputs": [
    {
     "name": "stdout",
     "output_type": "stream",
     "text": [
      "Remove duplicates from a list [1, 2, 3, 2, 4, 5, 3, 6, 7] using sets and updated list is [1, 2, 3, 4, 5, 6, 7]\n"
     ]
    }
   ],
   "source": [
    "a43 = [ 1,2,3,2,4,5,3,6,7]     # list having duplicate value\n",
    "\n",
    "def remove_duplicate_from_list(input_list):\n",
    "    \n",
    "    return list(set(input_list))      # converting list to set and then converting back to list\n",
    "\n",
    "b43 = remove_duplicate_from_list(a43)\n",
    "\n",
    "print(f\"Remove duplicates from a list {a43} using sets and updated list is {b43}\")\n"
   ]
  },
  {
   "cell_type": "markdown",
   "metadata": {},
   "source": [
    "# 44. Check if two sets have the same elements, regardless of their count."
   ]
  },
  {
   "cell_type": "code",
   "execution_count": null,
   "metadata": {},
   "outputs": [],
   "source": [
    "We can check if two sets have the same elements means identical by using the == operator."
   ]
  },
  {
   "cell_type": "code",
   "execution_count": 122,
   "metadata": {},
   "outputs": [
    {
     "name": "stdout",
     "output_type": "stream",
     "text": [
      "Two sets {1, 2, 3, 4} and {1, 2, 3, 4} have same elements \n",
      "\n",
      "Two sets {1, 2, 3, 4} and {2, 3, 4, 5} do not have same elements  \n",
      "\n"
     ]
    }
   ],
   "source": [
    "def chk_identical_sets(input_set1 , input_set2):\n",
    "    \n",
    "    if input_set1 == input_set2 :  \n",
    "        return True\n",
    "    else :\n",
    "        return False\n",
    "    \n",
    "\n",
    "#Testing of above function\n",
    "\n",
    "a44 = { 1, 2, 3 , 4}\n",
    "\n",
    "b44 = { 1, 2, 3 , 4}\n",
    "\n",
    "c44 = { 2, 3, 4 , 5}\n",
    "\n",
    "if chk_identical_sets(a44 , b44):\n",
    "    print(f\"Two sets {a44} and {b44} have same elements \\n\")\n",
    "else :\n",
    "    print(f\"Two sets {a44} and {b44} do not have same elements  \\n\")\n",
    "    \n",
    "\n",
    "if chk_identical_sets(a44 , c44):\n",
    "    print(f\"Two sets {a44} and {c44} have same elements  \\n\")\n",
    "else :\n",
    "    print(f\"Two sets {a44} and {c44} do not have same elements  \\n\")"
   ]
  },
  {
   "cell_type": "markdown",
   "metadata": {},
   "source": [
    "# 45. Create a set of the first `n` powers of 2."
   ]
  },
  {
   "cell_type": "markdown",
   "metadata": {},
   "source": [
    "We can use list comprehension method and then convert back to set"
   ]
  },
  {
   "cell_type": "code",
   "execution_count": 123,
   "metadata": {},
   "outputs": [
    {
     "name": "stdout",
     "output_type": "stream",
     "text": [
      "a set of the first 10 powers of 2 is {32, 1, 2, 64, 4, 128, 256, 512, 8, 16}\n",
      "\n",
      "a set of the first 15 powers of 2 is {32, 1, 2, 64, 4, 128, 256, 512, 8, 1024, 2048, 4096, 8192, 16, 16384}\n",
      "\n"
     ]
    }
   ],
   "source": [
    "#Create a set of the first `n` powers of 2\n",
    "\n",
    "n = 10\n",
    "\n",
    "output_set = set([ 2**i for i in range(n)])\n",
    "\n",
    "print(f\"a set of the first {n} powers of 2 is {output_set}\\n\")\n",
    "\n",
    "n = 15\n",
    "\n",
    "output_set1 = set([ 2**i for i in range(n)])\n",
    "\n",
    "print(f\"a set of the first {n} powers of 2 is {output_set1}\\n\")"
   ]
  },
  {
   "cell_type": "markdown",
   "metadata": {},
   "source": [
    "# 46. Find the common elements between a set and a list."
   ]
  },
  {
   "cell_type": "code",
   "execution_count": 126,
   "metadata": {},
   "outputs": [
    {
     "name": "stdout",
     "output_type": "stream",
     "text": [
      "the set of common elements between a set {1, 3, 5, 7, 9, 11, 13, 15}and a list [1, 2, 3, 4, 5, 6, 7] is {1, 3, 5, 7}\n"
     ]
    }
   ],
   "source": [
    "a46 = [ 1,2,3,4,5,6,7]          # list\n",
    "\n",
    "b46 = { 1,3,5,7,9,11,13,15}     # set\n",
    "\n",
    "common_elements = b46.intersection(set(a46))\n",
    "\n",
    "print(f\"the set of common elements between a set {b46 }and a list {a46} is {common_elements}\")"
   ]
  },
  {
   "cell_type": "markdown",
   "metadata": {},
   "source": [
    "# 47. Create a set of the first `n` triangular numbers."
   ]
  },
  {
   "cell_type": "markdown",
   "metadata": {},
   "source": [
    "Triangular numbers are numbers that make up the sequence 1, 3, 6, 10, . . .. The nth triangular number in the sequence is the number of dots it would take to make an equilateral triangle with n dots on each side. The formula for the nth triangular number is (n)(n + 1) / 2\n",
    "\n",
    "There are 13 triangular numbers in the first 100 numbers. These are 1, 3, 6, 10, 15, 21, 28, 36, 45, 55, 66, 78, 91."
   ]
  },
  {
   "cell_type": "code",
   "execution_count": 127,
   "metadata": {},
   "outputs": [
    {
     "name": "stdout",
     "output_type": "stream",
     "text": [
      "a set of the first 10 triangular numbers is : {1, 3, 36, 6, 10, 45, 15, 21, 55, 28}\n",
      "\n",
      "a set of the first 13 triangular numbers is : {1, 66, 3, 36, 6, 10, 45, 78, 15, 21, 55, 91, 28}\n"
     ]
    }
   ],
   "source": [
    "# function to find nth triangular number\n",
    "def nth_triangular_num(n):\n",
    "    \n",
    "    triangular_num = int(( n * ( n +1 ) ) / 2 )\n",
    "    \n",
    "    return  triangular_num     # nth triangular number\n",
    "\n",
    "def first_n_triangular_num(n):\n",
    "    \n",
    "    output_list = []           # initualize the output list\n",
    "    \n",
    "    for i in range( 1, n+1):\n",
    "        if i > 0 :\n",
    "            triangular_num = nth_triangular_num(i)\n",
    "            output_list.append(triangular_num)\n",
    "            \n",
    "    return set(output_list)\n",
    "   \n",
    "#Test the above function\n",
    "\n",
    "n = 10 \n",
    "\n",
    "print(f\"a set of the first {n} triangular numbers is : {first_n_triangular_num(n)}\\n\")\n",
    "\n",
    "\n",
    "n = 13 \n",
    "\n",
    "print(f\"a set of the first {n} triangular numbers is : {first_n_triangular_num(n)}\")"
   ]
  },
  {
   "cell_type": "markdown",
   "metadata": {},
   "source": [
    "# 48. Check if a set contains another set as a subset."
   ]
  },
  {
   "cell_type": "code",
   "execution_count": 132,
   "metadata": {},
   "outputs": [
    {
     "name": "stdout",
     "output_type": "stream",
     "text": [
      "set {1, 2, 3, 4, 5} contains another set {2, 4} as a subset\n",
      "\n",
      "set {2, 4} do not contains another set {1, 2, 3, 4, 5} as a subset\n",
      "\n"
     ]
    }
   ],
   "source": [
    "#We will simply use inbuild method issuperset() on set\n",
    "\n",
    "a12 = { 1,2,3,4,5}      # first set\n",
    "\n",
    "b12 = {2,4}             # second set\n",
    "\n",
    "if a12.issuperset(b12):\n",
    "    print(f\"set {a12} contains another set {b12} as a subset\\n\")\n",
    "else :\n",
    "    print(f\"set {a12} do not contains another set {b12} as a subset\\n\")\n",
    "    \n",
    "    \n",
    "if b12.issuperset(a12):\n",
    "    print(f\"set {b12} contains another set {a12} as a subset\\n\")\n",
    "else :\n",
    "    print(f\"set {b12} do not contains another set {a12} as a subset\\n\")  "
   ]
  },
  {
   "cell_type": "markdown",
   "metadata": {},
   "source": [
    "# 49. Create a set of alternating 1s and 0s of length `n`."
   ]
  },
  {
   "cell_type": "code",
   "execution_count": 133,
   "metadata": {},
   "outputs": [
    {
     "name": "stdout",
     "output_type": "stream",
     "text": [
      "{0, 1}\n"
     ]
    }
   ],
   "source": [
    "# We can use simply set comprehension method \n",
    "n = 10\n",
    "\n",
    "result_set = set(1 if x %2 == 0 else 0 for x in range(n))   # set do not containsduplicate \n",
    "\n",
    "print(result_set)         # set do not containsduplicate so only set will be {0, 1}"
   ]
  },
  {
   "cell_type": "markdown",
   "metadata": {},
   "source": [
    "# 50. Merge multiple sets into one."
   ]
  },
  {
   "cell_type": "code",
   "execution_count": null,
   "metadata": {},
   "outputs": [],
   "source": [
    "We can Merge multiple sets into one by applying union chain methods"
   ]
  },
  {
   "cell_type": "code",
   "execution_count": 139,
   "metadata": {},
   "outputs": [
    {
     "name": "stdout",
     "output_type": "stream",
     "text": [
      "Merging multiple set {1, 3, 5, 7, 9} , {2, 4, 6, 8, 10} , {3, 6, 9, 12, 15} and {4, 8, 12, 16, 20} into one set : {1, 2, 3, 4, 5, 6, 7, 8, 9, 10, 12, 15, 16, 20}\n"
     ]
    }
   ],
   "source": [
    "a50 = {1,3,5,7,9}            # set-1\n",
    "\n",
    "b50 = {2,4,6,8,10}           # set-2\n",
    "\n",
    "c50 = {3,6,9,12,15}          # set-3\n",
    "\n",
    "d50 = {4,8,12,16,20}         # set-4\n",
    "\n",
    "# Merge multiple sets into one.\n",
    "\n",
    "result_set = a50.union(b50).union(c50).union(d50)\n",
    "\n",
    "print(f\"Merging multiple set {a50} , {b50} , {c50} and {d50} into one set : {result_set}\")"
   ]
  },
  {
   "cell_type": "code",
   "execution_count": null,
   "metadata": {},
   "outputs": [],
   "source": []
  }
 ],
 "metadata": {
  "kernelspec": {
   "display_name": "Python 3",
   "language": "python",
   "name": "python3"
  },
  "language_info": {
   "codemirror_mode": {
    "name": "ipython",
    "version": 3
   },
   "file_extension": ".py",
   "mimetype": "text/x-python",
   "name": "python",
   "nbconvert_exporter": "python",
   "pygments_lexer": "ipython3",
   "version": "3.8.5"
  }
 },
 "nbformat": 4,
 "nbformat_minor": 4
}
