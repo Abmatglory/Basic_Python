{
 "cells": [
  {
   "cell_type": "markdown",
   "metadata": {},
   "source": [
    "# TOPIC: List Based Problem"
   ]
  },
  {
   "cell_type": "markdown",
   "metadata": {},
   "source": [
    "# 1. Create a list with integers from 1 to 10."
   ]
  },
  {
   "cell_type": "markdown",
   "metadata": {},
   "source": [
    "There are multiple way to do that"
   ]
  },
  {
   "cell_type": "code",
   "execution_count": 1,
   "metadata": {},
   "outputs": [],
   "source": [
    "a1 = [1,2,3,4,5,6,7,8,9,10]    "
   ]
  },
  {
   "cell_type": "code",
   "execution_count": 2,
   "metadata": {},
   "outputs": [],
   "source": [
    "b1 = list(range(1,11))      # by providing range function and using list constructor"
   ]
  },
  {
   "cell_type": "code",
   "execution_count": 3,
   "metadata": {},
   "outputs": [
    {
     "data": {
      "text/plain": [
       "[1, 2, 3, 4, 5, 6, 7, 8, 9, 10]"
      ]
     },
     "execution_count": 3,
     "metadata": {},
     "output_type": "execute_result"
    }
   ],
   "source": [
    "a1"
   ]
  },
  {
   "cell_type": "code",
   "execution_count": 4,
   "metadata": {},
   "outputs": [
    {
     "data": {
      "text/plain": [
       "[1, 2, 3, 4, 5, 6, 7, 8, 9, 10]"
      ]
     },
     "execution_count": 4,
     "metadata": {},
     "output_type": "execute_result"
    }
   ],
   "source": [
    "b1"
   ]
  },
  {
   "cell_type": "markdown",
   "metadata": {},
   "source": [
    "# 2. Find the length of a list without using the `len()` function."
   ]
  },
  {
   "cell_type": "markdown",
   "metadata": {},
   "source": [
    "1st way : simple for loop"
   ]
  },
  {
   "cell_type": "code",
   "execution_count": 6,
   "metadata": {},
   "outputs": [],
   "source": [
    "a2_list = [1,2,3,11,12,27,28,30]     # let's suppose our list is"
   ]
  },
  {
   "cell_type": "code",
   "execution_count": 9,
   "metadata": {},
   "outputs": [
    {
     "name": "stdout",
     "output_type": "stream",
     "text": [
      "The length os list [1, 2, 3, 11, 12, 27, 28, 30] is : 8\n"
     ]
    }
   ],
   "source": [
    "list_length = 0                 # initialize the counter\n",
    "\n",
    "for i in a2_list:               # for each item in list\n",
    "    list_length += 1           # increment the counter\n",
    "    \n",
    "print(f\"The length os list {a2_list} is : {list_length}\")    # print the statement\n",
    "    "
   ]
  },
  {
   "cell_type": "markdown",
   "metadata": {},
   "source": [
    "2nd way : With same piece of code , we can write the function as well to return the length of input list without using 'len()'"
   ]
  },
  {
   "cell_type": "code",
   "execution_count": 15,
   "metadata": {},
   "outputs": [],
   "source": [
    "def length_of_list(input_list):\n",
    "    \n",
    "    length_of_list = 0    # initialize the counter\n",
    "    \n",
    "    for i in input_list:        # for each item in list\n",
    "        length_of_list += 1      # increment the counter\n",
    "        \n",
    "    return length_of_list        # return the counter\n",
    "        "
   ]
  },
  {
   "cell_type": "code",
   "execution_count": 18,
   "metadata": {},
   "outputs": [],
   "source": [
    "c2 = [1,2,3,11,12,27,28,30 ,45, 70 ,78 ,56 ]"
   ]
  },
  {
   "cell_type": "code",
   "execution_count": 19,
   "metadata": {},
   "outputs": [
    {
     "name": "stdout",
     "output_type": "stream",
     "text": [
      "The length os list [1, 2, 3, 11, 12, 27, 28, 30, 45, 70, 78, 56] is : 12\n"
     ]
    }
   ],
   "source": [
    "print(f\"The length os list {c2} is : {length_of_list(c2)}\")    # print the statement"
   ]
  },
  {
   "cell_type": "code",
   "execution_count": null,
   "metadata": {},
   "outputs": [],
   "source": [
    "3rd way : using list comprehension"
   ]
  },
  {
   "cell_type": "code",
   "execution_count": 22,
   "metadata": {},
   "outputs": [],
   "source": [
    "list_length = sum(1 for i in c2 ) "
   ]
  },
  {
   "cell_type": "code",
   "execution_count": 23,
   "metadata": {},
   "outputs": [
    {
     "data": {
      "text/plain": [
       "12"
      ]
     },
     "execution_count": 23,
     "metadata": {},
     "output_type": "execute_result"
    }
   ],
   "source": [
    "list_length"
   ]
  },
  {
   "cell_type": "markdown",
   "metadata": {},
   "source": [
    "# 3. Append an element to the end of a list."
   ]
  },
  {
   "cell_type": "code",
   "execution_count": 40,
   "metadata": {},
   "outputs": [],
   "source": [
    "a3_list = [1,3,5,7,9,11]"
   ]
  },
  {
   "cell_type": "code",
   "execution_count": 41,
   "metadata": {},
   "outputs": [],
   "source": [
    "a3_list.append(12)   # append an element to the list using in-built append() method "
   ]
  },
  {
   "cell_type": "code",
   "execution_count": 42,
   "metadata": {},
   "outputs": [
    {
     "data": {
      "text/plain": [
       "[1, 3, 5, 7, 9, 11, 12]"
      ]
     },
     "execution_count": 42,
     "metadata": {},
     "output_type": "execute_result"
    }
   ],
   "source": [
    "a3_list"
   ]
  },
  {
   "cell_type": "markdown",
   "metadata": {},
   "source": [
    "# 4. Insert an element at a specific index in a list."
   ]
  },
  {
   "cell_type": "markdown",
   "metadata": {},
   "source": [
    "let's suppose we want to insert any elemt at 3rd index of the list"
   ]
  },
  {
   "cell_type": "code",
   "execution_count": 43,
   "metadata": {},
   "outputs": [
    {
     "data": {
      "text/plain": [
       "[1, 3, 5, 7, 9, 11, 12]"
      ]
     },
     "execution_count": 43,
     "metadata": {},
     "output_type": "execute_result"
    }
   ],
   "source": [
    "a3_list"
   ]
  },
  {
   "cell_type": "code",
   "execution_count": 44,
   "metadata": {},
   "outputs": [],
   "source": [
    "a3_list.insert(3,50)        # insert 50 at 3rd index using inbuilt insert() function"
   ]
  },
  {
   "cell_type": "code",
   "execution_count": 45,
   "metadata": {},
   "outputs": [
    {
     "data": {
      "text/plain": [
       "[1, 3, 5, 50, 7, 9, 11, 12]"
      ]
     },
     "execution_count": 45,
     "metadata": {},
     "output_type": "execute_result"
    }
   ],
   "source": [
    "a3_list"
   ]
  },
  {
   "cell_type": "markdown",
   "metadata": {},
   "source": [
    "# 5. Remove an element from a list by its value."
   ]
  },
  {
   "cell_type": "code",
   "execution_count": 46,
   "metadata": {},
   "outputs": [
    {
     "data": {
      "text/plain": [
       "[1, 3, 5, 50, 7, 9, 11, 12]"
      ]
     },
     "execution_count": 46,
     "metadata": {},
     "output_type": "execute_result"
    }
   ],
   "source": [
    "a3_list"
   ]
  },
  {
   "cell_type": "code",
   "execution_count": 47,
   "metadata": {},
   "outputs": [],
   "source": [
    "a3_list.remove(50)        # remove element 12 using inbuilt remove() function"
   ]
  },
  {
   "cell_type": "code",
   "execution_count": 48,
   "metadata": {},
   "outputs": [
    {
     "data": {
      "text/plain": [
       "[1, 3, 5, 7, 9, 11, 12]"
      ]
     },
     "execution_count": 48,
     "metadata": {},
     "output_type": "execute_result"
    }
   ],
   "source": [
    "a3_list"
   ]
  },
  {
   "cell_type": "markdown",
   "metadata": {},
   "source": [
    "# 6. Remove an element from a list by its index."
   ]
  },
  {
   "cell_type": "code",
   "execution_count": 49,
   "metadata": {},
   "outputs": [
    {
     "data": {
      "text/plain": [
       "[1, 3, 5, 7, 9, 11, 12]"
      ]
     },
     "execution_count": 49,
     "metadata": {},
     "output_type": "execute_result"
    }
   ],
   "source": [
    "a3_list "
   ]
  },
  {
   "cell_type": "markdown",
   "metadata": {},
   "source": [
    "let's suppose we want to remove the elemnt at 3rd index"
   ]
  },
  {
   "cell_type": "code",
   "execution_count": 50,
   "metadata": {},
   "outputs": [
    {
     "data": {
      "text/plain": [
       "7"
      ]
     },
     "execution_count": 50,
     "metadata": {},
     "output_type": "execute_result"
    }
   ],
   "source": [
    "a3_list.pop(3)            # removing element at specific index by inbuilt function pop()"
   ]
  },
  {
   "cell_type": "code",
   "execution_count": 51,
   "metadata": {},
   "outputs": [
    {
     "data": {
      "text/plain": [
       "[1, 3, 5, 9, 11, 12]"
      ]
     },
     "execution_count": 51,
     "metadata": {},
     "output_type": "execute_result"
    }
   ],
   "source": [
    "a3_list"
   ]
  },
  {
   "cell_type": "markdown",
   "metadata": {},
   "source": [
    "# 7. Check if an element exists in a list"
   ]
  },
  {
   "cell_type": "code",
   "execution_count": 52,
   "metadata": {},
   "outputs": [],
   "source": [
    "#let's suppose we want to check in above list\n",
    "\n",
    "a7 = 9"
   ]
  },
  {
   "cell_type": "code",
   "execution_count": 53,
   "metadata": {},
   "outputs": [
    {
     "name": "stdout",
     "output_type": "stream",
     "text": [
      "The element 9 exist in your list [1, 3, 5, 9, 11, 12]\n"
     ]
    }
   ],
   "source": [
    "if a7 in a3_list:                 # using inbuilt in function\n",
    "    print(f\"The element {a7} exist in your list {a3_list}\")\n",
    "else :\n",
    "    print(f\"The element {a7} do not exist in your list {a3_list}\")"
   ]
  },
  {
   "cell_type": "markdown",
   "metadata": {},
   "source": [
    "2nd way : We can write a function to check whether any element exist in list or not"
   ]
  },
  {
   "cell_type": "code",
   "execution_count": 55,
   "metadata": {},
   "outputs": [],
   "source": [
    "def chk_element_exist_in_list(my_list,target_element):\n",
    "    \n",
    "    if target_element in my_list:\n",
    "        return True\n",
    "    else :\n",
    "        return False"
   ]
  },
  {
   "cell_type": "code",
   "execution_count": 57,
   "metadata": {},
   "outputs": [
    {
     "name": "stdout",
     "output_type": "stream",
     "text": [
      "The element 9 exist in your list [1, 3, 5, 9, 11, 12]\n"
     ]
    }
   ],
   "source": [
    "#Check the function\n",
    "\n",
    "if chk_element_exist_in_list(a3_list , a7):                 # using custom function\n",
    "    print(f\"The element {a7} exist in your list {a3_list}\")\n",
    "else :\n",
    "    print(f\"The element {a7} do not exist in your list {a3_list}\")\n"
   ]
  },
  {
   "cell_type": "markdown",
   "metadata": {},
   "source": [
    "# 8. Find the index of the first occurrence of an element in a list."
   ]
  },
  {
   "cell_type": "markdown",
   "metadata": {},
   "source": [
    "We can use inbuilt index function to get the index of first occurance of an element in the list"
   ]
  },
  {
   "cell_type": "code",
   "execution_count": 61,
   "metadata": {},
   "outputs": [
    {
     "data": {
      "text/plain": [
       "[1, 3, 5, 9, 11, 12]"
      ]
     },
     "execution_count": 61,
     "metadata": {},
     "output_type": "execute_result"
    }
   ],
   "source": [
    "a3_list"
   ]
  },
  {
   "cell_type": "code",
   "execution_count": 63,
   "metadata": {},
   "outputs": [
    {
     "data": {
      "text/plain": [
       "2"
      ]
     },
     "execution_count": 63,
     "metadata": {},
     "output_type": "execute_result"
    }
   ],
   "source": [
    "a3_list.index(5)"
   ]
  },
  {
   "cell_type": "code",
   "execution_count": 64,
   "metadata": {},
   "outputs": [],
   "source": [
    "def find_index(input_list , target_element):\n",
    "    \n",
    "    index_of_element = input_list.index(target_element)  # using inbuilt index function\n",
    "    \n",
    "    return index_of_element   # return index of first occurance , this will be -1 if element not found"
   ]
  },
  {
   "cell_type": "code",
   "execution_count": 65,
   "metadata": {},
   "outputs": [
    {
     "name": "stdout",
     "output_type": "stream",
     "text": [
      "The element 11 found at index 4 in your list [1, 3, 5, 9, 11, 12]\n"
     ]
    }
   ],
   "source": [
    "b8 =  11\n",
    "\n",
    "#Check the function\n",
    "\n",
    "if find_index(a3_list , b8) == -1 :                 # using custom function\n",
    "    print(f\"The element {b8} not exist in your list {a3_list}\")\n",
    "else :\n",
    "    print(f\"The element {b8} found at index {find_index(a3_list , b8) } in your list {a3_list}\")"
   ]
  },
  {
   "cell_type": "markdown",
   "metadata": {},
   "source": [
    "# 9 Count the occurrences of an element in a list."
   ]
  },
  {
   "cell_type": "code",
   "execution_count": null,
   "metadata": {},
   "outputs": [],
   "source": [
    "1st way : By own function"
   ]
  },
  {
   "cell_type": "code",
   "execution_count": 66,
   "metadata": {},
   "outputs": [],
   "source": [
    "def count_occurance(my_list , target_element):\n",
    "    \n",
    "    count = 0\n",
    "    \n",
    "    for i in my_list:\n",
    "        if i == target_element:\n",
    "            count += 1\n",
    "    \n",
    "    return count"
   ]
  },
  {
   "cell_type": "code",
   "execution_count": 129,
   "metadata": {},
   "outputs": [],
   "source": [
    "a9 = [1, 3, 11, 5, 9, 11, 12 ,11]        # input list"
   ]
  },
  {
   "cell_type": "code",
   "execution_count": 130,
   "metadata": {},
   "outputs": [],
   "source": [
    "b9 = 11"
   ]
  },
  {
   "cell_type": "code",
   "execution_count": 131,
   "metadata": {},
   "outputs": [
    {
     "name": "stdout",
     "output_type": "stream",
     "text": [
      "The number of occurance of element 11 in your list [1, 3, 11, 5, 9, 11, 12, 11] is : 3\n"
     ]
    }
   ],
   "source": [
    "print(f\"The number of occurance of element {b9} in your list {a9} is : {count_occurance(a9 , b9)}\")"
   ]
  },
  {
   "cell_type": "markdown",
   "metadata": {},
   "source": [
    "2nd way : We can use simple list comprehension method too get the number of occurance of any element in the list"
   ]
  },
  {
   "cell_type": "code",
   "execution_count": 132,
   "metadata": {},
   "outputs": [
    {
     "data": {
      "text/plain": [
       "[1, 3, 11, 5, 9, 11, 12, 11]"
      ]
     },
     "execution_count": 132,
     "metadata": {},
     "output_type": "execute_result"
    }
   ],
   "source": [
    "a9             # our list"
   ]
  },
  {
   "cell_type": "code",
   "execution_count": 133,
   "metadata": {},
   "outputs": [],
   "source": [
    "b9  = 11        # target element"
   ]
  },
  {
   "cell_type": "code",
   "execution_count": 134,
   "metadata": {},
   "outputs": [],
   "source": [
    "count = sum ( 1 for i in a9 if i == b9)       # number of occurance"
   ]
  },
  {
   "cell_type": "code",
   "execution_count": 135,
   "metadata": {},
   "outputs": [
    {
     "data": {
      "text/plain": [
       "3"
      ]
     },
     "execution_count": 135,
     "metadata": {},
     "output_type": "execute_result"
    }
   ],
   "source": [
    "count"
   ]
  },
  {
   "cell_type": "markdown",
   "metadata": {},
   "source": [
    "# 10. Reverse the order of elements in a list."
   ]
  },
  {
   "cell_type": "markdown",
   "metadata": {},
   "source": [
    "To reverse the list , we can use inbuilt reverse function"
   ]
  },
  {
   "cell_type": "code",
   "execution_count": 136,
   "metadata": {},
   "outputs": [
    {
     "data": {
      "text/plain": [
       "[1, 3, 11, 5, 9, 11, 12, 11]"
      ]
     },
     "execution_count": 136,
     "metadata": {},
     "output_type": "execute_result"
    }
   ],
   "source": [
    "a9"
   ]
  },
  {
   "cell_type": "code",
   "execution_count": 137,
   "metadata": {},
   "outputs": [],
   "source": [
    "a9.reverse()              # using inbuilt reverse() function"
   ]
  },
  {
   "cell_type": "code",
   "execution_count": 138,
   "metadata": {},
   "outputs": [
    {
     "data": {
      "text/plain": [
       "[11, 12, 11, 9, 5, 11, 3, 1]"
      ]
     },
     "execution_count": 138,
     "metadata": {},
     "output_type": "execute_result"
    }
   ],
   "source": [
    "a9"
   ]
  },
  {
   "cell_type": "markdown",
   "metadata": {},
   "source": [
    "# 11. Sort a list in ascending order."
   ]
  },
  {
   "cell_type": "code",
   "execution_count": 139,
   "metadata": {},
   "outputs": [
    {
     "data": {
      "text/plain": [
       "[11, 12, 11, 9, 5, 11, 3, 1]"
      ]
     },
     "execution_count": 139,
     "metadata": {},
     "output_type": "execute_result"
    }
   ],
   "source": [
    "a9"
   ]
  },
  {
   "cell_type": "code",
   "execution_count": 140,
   "metadata": {},
   "outputs": [],
   "source": [
    "a9.sort()           # using inbuilt sort() function"
   ]
  },
  {
   "cell_type": "code",
   "execution_count": 141,
   "metadata": {},
   "outputs": [
    {
     "data": {
      "text/plain": [
       "[1, 3, 5, 9, 11, 11, 11, 12]"
      ]
     },
     "execution_count": 141,
     "metadata": {},
     "output_type": "execute_result"
    }
   ],
   "source": [
    "a9"
   ]
  },
  {
   "cell_type": "markdown",
   "metadata": {},
   "source": [
    "# 12. Sort a list in descending order."
   ]
  },
  {
   "cell_type": "code",
   "execution_count": 142,
   "metadata": {},
   "outputs": [
    {
     "data": {
      "text/plain": [
       "[1, 3, 5, 9, 11, 11, 11, 12]"
      ]
     },
     "execution_count": 142,
     "metadata": {},
     "output_type": "execute_result"
    }
   ],
   "source": [
    "a9"
   ]
  },
  {
   "cell_type": "code",
   "execution_count": 143,
   "metadata": {},
   "outputs": [],
   "source": [
    "a9.sort(reverse=True)       # using inbuilt sort() function and reverse = True parameter for descending order"
   ]
  },
  {
   "cell_type": "code",
   "execution_count": 144,
   "metadata": {},
   "outputs": [
    {
     "data": {
      "text/plain": [
       "[12, 11, 11, 11, 9, 5, 3, 1]"
      ]
     },
     "execution_count": 144,
     "metadata": {},
     "output_type": "execute_result"
    }
   ],
   "source": [
    "a9"
   ]
  },
  {
   "cell_type": "markdown",
   "metadata": {},
   "source": [
    "# 13. Create a list of even numbers from 1 to 20."
   ]
  },
  {
   "cell_type": "code",
   "execution_count": null,
   "metadata": {},
   "outputs": [],
   "source": [
    "1st way : We can write a function to get the list of even numbers between 2 given number"
   ]
  },
  {
   "cell_type": "code",
   "execution_count": 152,
   "metadata": {},
   "outputs": [],
   "source": [
    "def create_list_of_even(i,j):\n",
    "    \n",
    "    output_list = []            # create empty list\n",
    "    \n",
    "    for x in range(i , j+1 , 1):          # iterate from 1st integer to last integer with step 1\n",
    "        if x % 2 == 0 :                   # even number - if it is divisible by 2\n",
    "            output_list.append(x)         # append the element to output list\n",
    "            \n",
    "    return output_list                    # return the output list\n",
    "            \n",
    "    "
   ]
  },
  {
   "cell_type": "code",
   "execution_count": 153,
   "metadata": {},
   "outputs": [],
   "source": [
    "a13_list = create_list_of_even(1,20)      # check the function with number 1 to 20"
   ]
  },
  {
   "cell_type": "code",
   "execution_count": 154,
   "metadata": {},
   "outputs": [
    {
     "data": {
      "text/plain": [
       "[2, 4, 6, 8, 10, 12, 14, 16, 18, 20]"
      ]
     },
     "execution_count": 154,
     "metadata": {},
     "output_type": "execute_result"
    }
   ],
   "source": [
    "a13_list"
   ]
  },
  {
   "cell_type": "markdown",
   "metadata": {},
   "source": [
    "2nd way : we can find the list of even number using list comprehension method as well"
   ]
  },
  {
   "cell_type": "code",
   "execution_count": 158,
   "metadata": {},
   "outputs": [],
   "source": [
    "# using list comprehension method and check the element if it is divisible by 2\n",
    "\n",
    "b13_list = [x for x in range(1,21,1) if x%2 == 0]    "
   ]
  },
  {
   "cell_type": "code",
   "execution_count": 159,
   "metadata": {},
   "outputs": [
    {
     "data": {
      "text/plain": [
       "[2, 4, 6, 8, 10, 12, 14, 16, 18, 20]"
      ]
     },
     "execution_count": 159,
     "metadata": {},
     "output_type": "execute_result"
    }
   ],
   "source": [
    "b13_list"
   ]
  },
  {
   "cell_type": "code",
   "execution_count": 162,
   "metadata": {},
   "outputs": [],
   "source": [
    "# using list comprehension method and start with first even number in range with step 2\n",
    "\n",
    "b13_list = [x for x in range(2,21,2) ]    "
   ]
  },
  {
   "cell_type": "code",
   "execution_count": 163,
   "metadata": {},
   "outputs": [
    {
     "data": {
      "text/plain": [
       "[2, 4, 6, 8, 10, 12, 14, 16, 18, 20]"
      ]
     },
     "execution_count": 163,
     "metadata": {},
     "output_type": "execute_result"
    }
   ],
   "source": [
    "b13_list"
   ]
  },
  {
   "cell_type": "markdown",
   "metadata": {},
   "source": [
    "# 14. Create a list of odd numbers from 1 to 20."
   ]
  },
  {
   "cell_type": "markdown",
   "metadata": {},
   "source": [
    "1st way : We can write a function to get the list of odd numbers between 2 given number"
   ]
  },
  {
   "cell_type": "code",
   "execution_count": 164,
   "metadata": {},
   "outputs": [],
   "source": [
    "def create_list_of_odd(i,j):\n",
    "    \n",
    "    output_list = []            # create empty list\n",
    "    \n",
    "    for x in range(i , j+1 , 1):          # iterate from 1st integer to last integer with step 1\n",
    "        if x % 2 != 0 :                   # odd number - if it is not divisible by 2\n",
    "            output_list.append(x)         # append the element to output list\n",
    "            \n",
    "    return output_list  "
   ]
  },
  {
   "cell_type": "code",
   "execution_count": 165,
   "metadata": {},
   "outputs": [],
   "source": [
    "a14_list = create_list_of_odd(1,20)      # check the function with number 1 to 20"
   ]
  },
  {
   "cell_type": "code",
   "execution_count": 166,
   "metadata": {},
   "outputs": [
    {
     "data": {
      "text/plain": [
       "[1, 3, 5, 7, 9, 11, 13, 15, 17, 19]"
      ]
     },
     "execution_count": 166,
     "metadata": {},
     "output_type": "execute_result"
    }
   ],
   "source": [
    "a14_list"
   ]
  },
  {
   "cell_type": "markdown",
   "metadata": {},
   "source": [
    "2nd way : we can find the list of odd number using list comprehension method as well"
   ]
  },
  {
   "cell_type": "code",
   "execution_count": 167,
   "metadata": {},
   "outputs": [],
   "source": [
    "# using list comprehension method and check the element if it is not divisible by 2\n",
    "\n",
    "b14_list = [x for x in range(1,21,1) if x%2 != 0]    "
   ]
  },
  {
   "cell_type": "code",
   "execution_count": 169,
   "metadata": {},
   "outputs": [
    {
     "data": {
      "text/plain": [
       "[1, 3, 5, 7, 9, 11, 13, 15, 17, 19]"
      ]
     },
     "execution_count": 169,
     "metadata": {},
     "output_type": "execute_result"
    }
   ],
   "source": [
    "b14_list           # check the list"
   ]
  },
  {
   "cell_type": "code",
   "execution_count": 170,
   "metadata": {},
   "outputs": [],
   "source": [
    "# using list comprehension method and start with first odd number in range with step 2\n",
    "\n",
    "b14_list = [x for x in range(1,20,2) ]    "
   ]
  },
  {
   "cell_type": "code",
   "execution_count": 171,
   "metadata": {},
   "outputs": [
    {
     "data": {
      "text/plain": [
       "[1, 3, 5, 7, 9, 11, 13, 15, 17, 19]"
      ]
     },
     "execution_count": 171,
     "metadata": {},
     "output_type": "execute_result"
    }
   ],
   "source": [
    "b14_list           # check the list"
   ]
  },
  {
   "cell_type": "markdown",
   "metadata": {},
   "source": [
    "# 15. Find the sum of all elements in a list."
   ]
  },
  {
   "cell_type": "code",
   "execution_count": 172,
   "metadata": {},
   "outputs": [
    {
     "data": {
      "text/plain": [
       "[1, 3, 5, 7, 9, 11, 13, 15, 17, 19]"
      ]
     },
     "execution_count": 172,
     "metadata": {},
     "output_type": "execute_result"
    }
   ],
   "source": [
    "a14_list           # let's suppose our list is"
   ]
  },
  {
   "cell_type": "markdown",
   "metadata": {},
   "source": [
    "There are multiple way to get the sum of list of integers"
   ]
  },
  {
   "cell_type": "code",
   "execution_count": 175,
   "metadata": {},
   "outputs": [
    {
     "data": {
      "text/plain": [
       "100"
      ]
     },
     "execution_count": 175,
     "metadata": {},
     "output_type": "execute_result"
    }
   ],
   "source": [
    "# 1st way , using inbuilt function sum()\n",
    "\n",
    "sum(a14_list)    "
   ]
  },
  {
   "cell_type": "code",
   "execution_count": 176,
   "metadata": {},
   "outputs": [],
   "source": [
    "#2nd way : using list comprehension method\n",
    "\n",
    "a15 = sum( x for x in a14_list)       # assuming a14_list is list of integers/float"
   ]
  },
  {
   "cell_type": "code",
   "execution_count": 177,
   "metadata": {},
   "outputs": [
    {
     "data": {
      "text/plain": [
       "100"
      ]
     },
     "execution_count": 177,
     "metadata": {},
     "output_type": "execute_result"
    }
   ],
   "source": [
    "a15"
   ]
  },
  {
   "cell_type": "code",
   "execution_count": 190,
   "metadata": {},
   "outputs": [],
   "source": [
    "#3rd way : we wan write own function to get the sum\n",
    "\n",
    "import string\n",
    "\n",
    "def sum_of_list(input_list):\n",
    "    \n",
    "    sum = 0        # initializing sum to 0\n",
    "    \n",
    "    for i in input_list:        # check each element in the list        \n",
    "        if str(i).isnumeric():    # check the element for numeric data\n",
    "            sum += i\n",
    "            \n",
    "    return sum\n",
    "        "
   ]
  },
  {
   "cell_type": "code",
   "execution_count": 191,
   "metadata": {},
   "outputs": [
    {
     "data": {
      "text/plain": [
       "[1, 3, 5, 7, 9, 11, 13, 15, 17, 19]"
      ]
     },
     "execution_count": 191,
     "metadata": {},
     "output_type": "execute_result"
    }
   ],
   "source": [
    "a14_list"
   ]
  },
  {
   "cell_type": "code",
   "execution_count": 192,
   "metadata": {},
   "outputs": [],
   "source": [
    "sum_of_num = sum_of_list(a14_list)"
   ]
  },
  {
   "cell_type": "code",
   "execution_count": 193,
   "metadata": {},
   "outputs": [
    {
     "data": {
      "text/plain": [
       "100"
      ]
     },
     "execution_count": 193,
     "metadata": {},
     "output_type": "execute_result"
    }
   ],
   "source": [
    "sum_of_num"
   ]
  },
  {
   "cell_type": "markdown",
   "metadata": {},
   "source": [
    "# 16. Find the maximum value in a list."
   ]
  },
  {
   "cell_type": "code",
   "execution_count": 194,
   "metadata": {},
   "outputs": [
    {
     "data": {
      "text/plain": [
       "[1, 3, 5, 7, 9, 11, 13, 15, 17, 19]"
      ]
     },
     "execution_count": 194,
     "metadata": {},
     "output_type": "execute_result"
    }
   ],
   "source": [
    "a14_list"
   ]
  },
  {
   "cell_type": "markdown",
   "metadata": {},
   "source": [
    "1st way : We can get max value of list easily with inbuilt function max"
   ]
  },
  {
   "cell_type": "code",
   "execution_count": 196,
   "metadata": {},
   "outputs": [
    {
     "data": {
      "text/plain": [
       "19"
      ]
     },
     "execution_count": 196,
     "metadata": {},
     "output_type": "execute_result"
    }
   ],
   "source": [
    "max(a14_list)"
   ]
  },
  {
   "cell_type": "markdown",
   "metadata": {},
   "source": [
    "2nd way : we can write our won function to get the max value of list"
   ]
  },
  {
   "cell_type": "code",
   "execution_count": 209,
   "metadata": {},
   "outputs": [],
   "source": [
    "def max_value_from_list(input_list):         # own function to get the max value, assuming input_list is list of numeric\n",
    "    \n",
    "    max_value = input_list[0]            # initialize the max value with 1st occurance\n",
    "    \n",
    "    for i in input_list:      # iteretae through each element of list\n",
    "        if i >= max_value:     # if element is greater than max value\n",
    "            max_value = i     # change the max value to element\n",
    "            \n",
    "    return max_value          # return max value\n",
    "         \n",
    "    "
   ]
  },
  {
   "cell_type": "code",
   "execution_count": 210,
   "metadata": {},
   "outputs": [
    {
     "name": "stdout",
     "output_type": "stream",
     "text": [
      "The maximum value of your list [1, 3, 5, 7, 9, 11, 13, 15, 17, 19] is : 19\n"
     ]
    }
   ],
   "source": [
    "print(f\"The maximum value of your list {a14_list} is : {max_value_from_list(a14_list)}\")"
   ]
  },
  {
   "cell_type": "markdown",
   "metadata": {},
   "source": [
    "# 17. Find the minimum value in a list."
   ]
  },
  {
   "cell_type": "markdown",
   "metadata": {},
   "source": [
    "Like above ,we can find the minimum value of the list as well"
   ]
  },
  {
   "cell_type": "code",
   "execution_count": 205,
   "metadata": {},
   "outputs": [
    {
     "data": {
      "text/plain": [
       "[1, 3, 5, 7, 9, 11, 13, 15, 17, 19]"
      ]
     },
     "execution_count": 205,
     "metadata": {},
     "output_type": "execute_result"
    }
   ],
   "source": [
    "a14_list"
   ]
  },
  {
   "cell_type": "markdown",
   "metadata": {},
   "source": [
    "1st way : We can get minimum value of list easily with inbuilt function min"
   ]
  },
  {
   "cell_type": "code",
   "execution_count": 206,
   "metadata": {},
   "outputs": [
    {
     "data": {
      "text/plain": [
       "1"
      ]
     },
     "execution_count": 206,
     "metadata": {},
     "output_type": "execute_result"
    }
   ],
   "source": [
    "min(a14_list)"
   ]
  },
  {
   "cell_type": "markdown",
   "metadata": {},
   "source": [
    "2nd way : we can write our won function to get the minimum value of list"
   ]
  },
  {
   "cell_type": "code",
   "execution_count": 215,
   "metadata": {},
   "outputs": [],
   "source": [
    "def min_value_from_list(input_list):         # own function to get the minimum value, assuming input_list is list of numeric\n",
    "    \n",
    "    min_value =   input_list[0]          # initialize the min value with 1st occurance\n",
    "    \n",
    "    for i in input_list:      # iteretae through each element of list\n",
    "        if i <= min_value:     # if element is less than min value\n",
    "            min_value = i     # change the min value to element\n",
    "            \n",
    "    return min_value          # return min value"
   ]
  },
  {
   "cell_type": "code",
   "execution_count": 216,
   "metadata": {},
   "outputs": [
    {
     "name": "stdout",
     "output_type": "stream",
     "text": [
      "The minimum value of your list [1, 3, 5, 7, 9, 11, 13, 15, 17, 19] is : 1\n"
     ]
    }
   ],
   "source": [
    "print(f\"The minimum value of your list {a14_list} is : {min_value_from_list(a14_list)}\")"
   ]
  },
  {
   "cell_type": "code",
   "execution_count": 217,
   "metadata": {},
   "outputs": [],
   "source": [
    "# taking another example\n",
    "\n",
    "a17_list = [ 1, 0 , -3 , -9 , 11 ,16, 2, 45]"
   ]
  },
  {
   "cell_type": "code",
   "execution_count": 219,
   "metadata": {},
   "outputs": [
    {
     "name": "stdout",
     "output_type": "stream",
     "text": [
      "The minimum value of your list [1, 0, -3, -9, 11, 16, 2, 45] is : -9\n"
     ]
    }
   ],
   "source": [
    "print(f\"The minimum value of your list {a17_list} is : {min_value_from_list(a17_list)}\")"
   ]
  },
  {
   "cell_type": "markdown",
   "metadata": {},
   "source": [
    "# 18. Create a list of squares of numbers from 1 to 10.\n"
   ]
  },
  {
   "cell_type": "code",
   "execution_count": 222,
   "metadata": {},
   "outputs": [
    {
     "data": {
      "text/plain": [
       "[1, 3, 5, 7, 9, 11, 13, 15, 17, 19]"
      ]
     },
     "execution_count": 222,
     "metadata": {},
     "output_type": "execute_result"
    }
   ],
   "source": [
    "a14_list            # let's suppose we have list of integers"
   ]
  },
  {
   "cell_type": "code",
   "execution_count": 223,
   "metadata": {},
   "outputs": [],
   "source": [
    "list_square = [ x * x for x in a14_list ]     # we can find the list of square for elements in the list"
   ]
  },
  {
   "cell_type": "code",
   "execution_count": 224,
   "metadata": {},
   "outputs": [
    {
     "data": {
      "text/plain": [
       "[1, 9, 25, 49, 81, 121, 169, 225, 289, 361]"
      ]
     },
     "execution_count": 224,
     "metadata": {},
     "output_type": "execute_result"
    }
   ],
   "source": [
    "list_square"
   ]
  },
  {
   "cell_type": "markdown",
   "metadata": {},
   "source": [
    "1st way : Simply use list comprehension method"
   ]
  },
  {
   "cell_type": "code",
   "execution_count": 227,
   "metadata": {},
   "outputs": [],
   "source": [
    "# to create a list of squares of numbers from 1 to 10\n",
    "\n",
    "a18_list = [x * x for x in range(1,11) ]"
   ]
  },
  {
   "cell_type": "code",
   "execution_count": 228,
   "metadata": {},
   "outputs": [
    {
     "data": {
      "text/plain": [
       "[1, 4, 9, 16, 25, 36, 49, 64, 81, 100]"
      ]
     },
     "execution_count": 228,
     "metadata": {},
     "output_type": "execute_result"
    }
   ],
   "source": [
    "a18_list"
   ]
  },
  {
   "cell_type": "markdown",
   "metadata": {},
   "source": [
    "2nd way : We can write own function to return the square of numeric element"
   ]
  },
  {
   "cell_type": "code",
   "execution_count": 230,
   "metadata": {},
   "outputs": [],
   "source": [
    "def square_list(i , j ):\n",
    "    \n",
    "    output_list = []              # initialize the output list\n",
    "    \n",
    "    for k in range(i , j+1):          # iterate through each element of range of elements, assuming each element is numeric\n",
    "        output_list.append(k * k )\n",
    "        \n",
    "    return output_list       \n",
    "\n",
    "        "
   ]
  },
  {
   "cell_type": "code",
   "execution_count": 231,
   "metadata": {},
   "outputs": [],
   "source": [
    "i = 1\n",
    "\n",
    "j = 10"
   ]
  },
  {
   "cell_type": "code",
   "execution_count": 233,
   "metadata": {},
   "outputs": [
    {
     "name": "stdout",
     "output_type": "stream",
     "text": [
      "a list of squares of numbers from 1 to 10 is [1, 4, 9, 16, 25, 36, 49, 64, 81, 100] \n"
     ]
    }
   ],
   "source": [
    "# check the function\n",
    "\n",
    "print(f\"a list of squares of numbers from {i} to {j} is {square_list(i,j)} \")"
   ]
  },
  {
   "cell_type": "code",
   "execution_count": 234,
   "metadata": {},
   "outputs": [
    {
     "name": "stdout",
     "output_type": "stream",
     "text": [
      "a list of squares of numbers from 4 to 15 is [16, 25, 36, 49, 64, 81, 100, 121, 144, 169, 196, 225] \n"
     ]
    }
   ],
   "source": [
    "# check the function with differentinput\n",
    "\n",
    "print(f\"a list of squares of numbers from 4 to 15 is {square_list(4,15)} \")"
   ]
  },
  {
   "cell_type": "markdown",
   "metadata": {},
   "source": [
    "# 19. Create a list of random numbers."
   ]
  },
  {
   "cell_type": "markdown",
   "metadata": {},
   "source": [
    "We have to import random module to play random number generation"
   ]
  },
  {
   "cell_type": "code",
   "execution_count": 235,
   "metadata": {},
   "outputs": [],
   "source": [
    "import random"
   ]
  },
  {
   "cell_type": "code",
   "execution_count": 238,
   "metadata": {},
   "outputs": [
    {
     "data": {
      "text/plain": [
       "7"
      ]
     },
     "execution_count": 238,
     "metadata": {},
     "output_type": "execute_result"
    }
   ],
   "source": [
    "random.randint(1,10)    # this random.randint(a,b) gives any random integer between a and b ( including)"
   ]
  },
  {
   "cell_type": "markdown",
   "metadata": {},
   "source": [
    "1st way : write own function to create list"
   ]
  },
  {
   "cell_type": "code",
   "execution_count": 244,
   "metadata": {},
   "outputs": [],
   "source": [
    "def create_list(n , k , l):     # writing function to create list of n random number between k and l\n",
    "    \n",
    "    output_list = []    # initialize the output list\n",
    "    \n",
    "    for i in range(n+1):       # for n iteration\n",
    "        random_num = random.randint(k , l)     # get the random number between k and l\n",
    "        output_list.append(random_num)\n",
    "        \n",
    "    return output_list      \n",
    "        \n",
    "        "
   ]
  },
  {
   "cell_type": "code",
   "execution_count": 245,
   "metadata": {},
   "outputs": [],
   "source": [
    "a19_list = create_list( 10 , 1, 25)"
   ]
  },
  {
   "cell_type": "code",
   "execution_count": 246,
   "metadata": {},
   "outputs": [
    {
     "data": {
      "text/plain": [
       "[6, 25, 9, 15, 1, 7, 8, 16, 25, 3, 14]"
      ]
     },
     "execution_count": 246,
     "metadata": {},
     "output_type": "execute_result"
    }
   ],
   "source": [
    "a19_list"
   ]
  },
  {
   "cell_type": "code",
   "execution_count": 250,
   "metadata": {},
   "outputs": [
    {
     "name": "stdout",
     "output_type": "stream",
     "text": [
      "The list of 5 random number between 10 and 50 is : [26, 39, 16, 21, 23, 30] \n"
     ]
    }
   ],
   "source": [
    "n = 5        # get list of 5 numbers\n",
    "\n",
    "i = 10       # starting from 10\n",
    "j = 50       # and between 50\n",
    "\n",
    "# get the list of 5 random numbers between 10 and 50\n",
    "\n",
    "print(f\"The list of {n} random number between {i} and {j} is : {create_list ( n , i , j)} \")"
   ]
  },
  {
   "cell_type": "markdown",
   "metadata": {},
   "source": [
    "2nd way : We can use list comprehension method"
   ]
  },
  {
   "cell_type": "code",
   "execution_count": 251,
   "metadata": {},
   "outputs": [
    {
     "name": "stdout",
     "output_type": "stream",
     "text": [
      "[48, 36, 16, 38, 49]\n"
     ]
    }
   ],
   "source": [
    "n = 5        # get list of 5 numbers\n",
    "\n",
    "i = 10       # starting from 10\n",
    "j = 50       # and between 50\n",
    "\n",
    "b19_list = [ random.randint(i , j) for _ in range(n)]   # '_' is placeholder for loop variable \n",
    "\n",
    "print(b19_list)"
   ]
  },
  {
   "cell_type": "markdown",
   "metadata": {},
   "source": [
    "# 20. Remove duplicates from a list."
   ]
  },
  {
   "cell_type": "markdown",
   "metadata": {},
   "source": [
    "We can remove duplicate from list by many different way"
   ]
  },
  {
   "cell_type": "code",
   "execution_count": null,
   "metadata": {},
   "outputs": [],
   "source": [
    "1st way :  Write your own function to remove duplicate"
   ]
  },
  {
   "cell_type": "code",
   "execution_count": 252,
   "metadata": {},
   "outputs": [],
   "source": [
    "def remove_duplicate(input_list):\n",
    "    \n",
    "    output_list = []                   # initialize the output list\n",
    "    \n",
    "    for i in input_list:               # iterate through each element of list\n",
    "        if i not in output_list:       # check if list element exist in output list or not\n",
    "            output_list.append(i)      # add the element to output list if not exist\n",
    "            \n",
    "    return output_list                 # return output list\n",
    "            "
   ]
  },
  {
   "cell_type": "code",
   "execution_count": 256,
   "metadata": {},
   "outputs": [
    {
     "name": "stdout",
     "output_type": "stream",
     "text": [
      "After removal duplicate from list ['abhi', 1, 2, 3, 1, 4, 1, 5, 'avi', 'abhi'] , your new list is : ['abhi', 1, 2, 3, 4, 5, 'avi']\n"
     ]
    }
   ],
   "source": [
    "a20 = ['abhi' , 1 , 2, 3, 1, 4 , 1, 5 , 'avi' , 'abhi']    # suppose we have input list\n",
    "\n",
    "print(f\"After removal duplicate from list {a20} , your new list is : {remove_duplicate(a20)}\")"
   ]
  },
  {
   "cell_type": "markdown",
   "metadata": {},
   "source": [
    "2nd way : by list comprehension way"
   ]
  },
  {
   "cell_type": "code",
   "execution_count": 257,
   "metadata": {},
   "outputs": [
    {
     "name": "stdout",
     "output_type": "stream",
     "text": [
      "['abhi', 1, 2, 3, 4, 5, 'avi']\n"
     ]
    }
   ],
   "source": [
    "a20 = ['abhi' , 1 , 2, 3, 1, 4 , 1, 5 , 'avi' , 'abhi']    # suppose we have input list\n",
    "\n",
    "unique_list = []     # initializing uniqe list\n",
    "\n",
    "[unique_list.append(i) for i in a20 if i not in unique_list]\n",
    "\n",
    "print(unique_list)"
   ]
  },
  {
   "cell_type": "markdown",
   "metadata": {},
   "source": [
    "3rd way :  we know thay keys of dictionary are unique so if we can create dictionary with keys from list of elements , duplicate will be removed and then convert back to list to get unique list"
   ]
  },
  {
   "cell_type": "code",
   "execution_count": 259,
   "metadata": {},
   "outputs": [
    {
     "name": "stdout",
     "output_type": "stream",
     "text": [
      "['abhi', 1, 2, 3, 4, 5, 'avi']\n"
     ]
    }
   ],
   "source": [
    "a20 = ['abhi' , 1 , 2, 3, 1, 4 , 1, 5 , 'avi' , 'abhi']    # suppose we have input list\n",
    "\n",
    "unique_list = list(dict.fromkeys(a20))\n",
    "\n",
    "print(unique_list)"
   ]
  },
  {
   "cell_type": "markdown",
   "metadata": {},
   "source": [
    "# 21. Find the common elements between two lists."
   ]
  },
  {
   "cell_type": "code",
   "execution_count": 274,
   "metadata": {},
   "outputs": [],
   "source": [
    "a21 = [ 1,2,3,4,5,6]"
   ]
  },
  {
   "cell_type": "code",
   "execution_count": 275,
   "metadata": {},
   "outputs": [],
   "source": [
    "b21 = set(a21)"
   ]
  },
  {
   "cell_type": "code",
   "execution_count": 276,
   "metadata": {},
   "outputs": [
    {
     "data": {
      "text/plain": [
       "{1, 2, 3, 4, 5, 6}"
      ]
     },
     "execution_count": 276,
     "metadata": {},
     "output_type": "execute_result"
    }
   ],
   "source": [
    "b21"
   ]
  },
  {
   "cell_type": "code",
   "execution_count": 277,
   "metadata": {},
   "outputs": [],
   "source": [
    "c21 = [ 2,3,11,14,17]"
   ]
  },
  {
   "cell_type": "code",
   "execution_count": 278,
   "metadata": {},
   "outputs": [],
   "source": [
    "d21 = set(c21)"
   ]
  },
  {
   "cell_type": "code",
   "execution_count": 280,
   "metadata": {},
   "outputs": [],
   "source": [
    "d21.intersection_update(b21)"
   ]
  },
  {
   "cell_type": "code",
   "execution_count": 282,
   "metadata": {},
   "outputs": [
    {
     "data": {
      "text/plain": [
       "[2, 3]"
      ]
     },
     "execution_count": 282,
     "metadata": {},
     "output_type": "execute_result"
    }
   ],
   "source": [
    "list(set(d21))"
   ]
  },
  {
   "cell_type": "markdown",
   "metadata": {},
   "source": [
    "1st way : with own function to find common elements"
   ]
  },
  {
   "cell_type": "code",
   "execution_count": 290,
   "metadata": {},
   "outputs": [],
   "source": [
    "def common_element_from_2_list(input_list1, input_list2):\n",
    "    \n",
    "    output_list = []      # initializing output list\n",
    "    \n",
    "    for i in input_list1:                   # iterate through 1st list\n",
    "        if i in input_list2:                # check the element of 1st list in 2nd list\n",
    "          output_list.append(i)           # if found , append the common element to output list\n",
    "        \n",
    "    return output_list\n",
    "            \n",
    "    "
   ]
  },
  {
   "cell_type": "code",
   "execution_count": 294,
   "metadata": {},
   "outputs": [
    {
     "name": "stdout",
     "output_type": "stream",
     "text": [
      "The common element of two list [1, 3, 2, 4, 5, 6, 'abhi', 'avi']  and [11, 12, 2, 3, 'abhi', 35] is : [3, 2, 'abhi']\n"
     ]
    }
   ],
   "source": [
    "# Test the function\n",
    "\n",
    "list1 = [ 1, 3, 2, 4, 5, 6 , 'abhi' , 'avi']\n",
    "\n",
    "list2 = [ 11, 12, 2, 3, 'abhi' , 35]\n",
    "\n",
    "print(f\"The common element of two list {list1}  and {list2} is : {common_element_from_2_list(list1 ,list2)}\")\n",
    "\n"
   ]
  },
  {
   "cell_type": "code",
   "execution_count": null,
   "metadata": {},
   "outputs": [],
   "source": [
    "2nd way : using set method as we know intersection of 2 sets give common elemment( assuming both the list have unique element)"
   ]
  },
  {
   "cell_type": "code",
   "execution_count": 303,
   "metadata": {},
   "outputs": [],
   "source": [
    "def common_element_from_2_list_using_set_method(input_list1, input_list2):\n",
    "    \n",
    "    set1 = set(input_list1)      # converting list1 to set\n",
    "    \n",
    "    set2 = set(input_list2)      # converting list2 to set\n",
    "    \n",
    "    # update the set2 with common elements of set1    \n",
    "    output_set = set2.intersection(set1)      # find the intersection of two set\n",
    "    \n",
    "    return list(output_set)            # convert it to list and return list of common elements\n",
    "    \n"
   ]
  },
  {
   "cell_type": "code",
   "execution_count": 305,
   "metadata": {},
   "outputs": [
    {
     "name": "stdout",
     "output_type": "stream",
     "text": [
      "The common element of two list [1, 3, 2, 4, 5, 6, 'abhi', 'avi']  and [11, 12, 2, 3, 'abhi', 35] is : ['abhi', 2, 3]\n"
     ]
    }
   ],
   "source": [
    "# Test the function\n",
    "\n",
    "list1 = [ 1, 3, 2, 4, 5, 6 , 'abhi' , 'avi']\n",
    "\n",
    "list2 = [ 11, 12, 2, 3, 'abhi' , 35]\n",
    "\n",
    "print(f\"The common element of two list {list1}  and {list2} is : {common_element_from_2_list_using_set_method(list1 ,list2)}\")\n"
   ]
  },
  {
   "cell_type": "code",
   "execution_count": null,
   "metadata": {},
   "outputs": [],
   "source": [
    "3rd way : using list comprehension method"
   ]
  },
  {
   "cell_type": "code",
   "execution_count": 311,
   "metadata": {},
   "outputs": [
    {
     "name": "stdout",
     "output_type": "stream",
     "text": [
      "The common element of two list [1, 3, 2, 4, 5, 6, 'abhi', 'avi']  and [11, 12, 2, 3, 'abhi', 35] is : ['abhi', 2, 3]\n"
     ]
    }
   ],
   "source": [
    "# Test the function\n",
    "\n",
    "list1 = [ 1, 3, 2, 4, 5, 6 , 'abhi' , 'avi']\n",
    "\n",
    "list2 = [ 11, 12, 2, 3, 'abhi' , 35]\n",
    "\n",
    "common_list = list(set(list1).intersection(set(list2)))\n",
    "\n",
    "\n",
    "print(f\"The common element of two list {list1}  and {list2} is : {common_list}\")"
   ]
  },
  {
   "cell_type": "markdown",
   "metadata": {},
   "source": [
    "# 22. Find the difference between two lists."
   ]
  },
  {
   "cell_type": "markdown",
   "metadata": {},
   "source": [
    "1st way : using set difference method"
   ]
  },
  {
   "cell_type": "code",
   "execution_count": 316,
   "metadata": {},
   "outputs": [
    {
     "name": "stdout",
     "output_type": "stream",
     "text": [
      "The difference between two list [1, 3, 2, 4, 5, 6, 'abhi', 'avi']  and [11, 12, 2, 3, 'abhi', 35] is : [1, 4, 5, 6, 'avi']\n",
      "The difference between two list [11, 12, 2, 3, 'abhi', 35]  and [1, 3, 2, 4, 5, 6, 'abhi', 'avi'] is : [11, 35, 12]\n"
     ]
    }
   ],
   "source": [
    "list1 = [ 1, 3, 2, 4, 5, 6 , 'abhi' , 'avi']\n",
    "\n",
    "list2 = [ 11, 12, 2, 3, 'abhi' , 35]\n",
    "\n",
    "# difference of list1 and list2\n",
    "\n",
    "def difference_list_function(list1 , list2):\n",
    "    difference_list = list( set(list1).difference(set(list2)) )\n",
    "    \n",
    "    return difference_list\n",
    "\n",
    "\n",
    "print(f\"The difference between two list {list1}  and {list2} is : {difference_list_function(list1 , list2)}\")\n",
    "\n",
    "print(f\"The difference between two list {list2}  and {list1} is : {difference_list_function(list2 , list1)}\")\n",
    "\n"
   ]
  },
  {
   "cell_type": "markdown",
   "metadata": {},
   "source": [
    "2nd way : list comprehension method"
   ]
  },
  {
   "cell_type": "code",
   "execution_count": 321,
   "metadata": {},
   "outputs": [
    {
     "name": "stdout",
     "output_type": "stream",
     "text": [
      "The difference between two list [1, 3, 2, 4, 5, 6, 'abhi', 'avi']  and [11, 12, 2, 3, 'abhi', 35] is : [1, 4, 5, 6, 'avi']\n",
      "The difference between two list [11, 12, 2, 3, 'abhi', 35]  and [1, 3, 2, 4, 5, 6, 'abhi', 'avi'] is : [11, 12, 35]\n"
     ]
    }
   ],
   "source": [
    "list1 = [ 1, 3, 2, 4, 5, 6 , 'abhi' , 'avi']\n",
    "\n",
    "list2 = [ 11, 12, 2, 3, 'abhi' , 35]\n",
    "\n",
    "# difference of list1 and list2\n",
    "\n",
    "difference_list = [ items for items in list1 if items not in list2]\n",
    "\n",
    "# difference of list2 and list1\n",
    "\n",
    "difference_list1 = [ items for items in list2 if items not in list1]\n",
    "\n",
    "\n",
    "print(f\"The difference between two list {list1}  and {list2} is : {difference_list}\")\n",
    "\n",
    "print(f\"The difference between two list {list2}  and {list1} is : {difference_list1}\")"
   ]
  },
  {
   "cell_type": "markdown",
   "metadata": {},
   "source": [
    "# 23. Merge two lists."
   ]
  },
  {
   "cell_type": "markdown",
   "metadata": {},
   "source": [
    "We can just append the two list or use + operator to merge two list"
   ]
  },
  {
   "cell_type": "code",
   "execution_count": 322,
   "metadata": {},
   "outputs": [
    {
     "name": "stdout",
     "output_type": "stream",
     "text": [
      "[1, 3, 2, 4, 5, 6, 'abhi', 'avi', 11, 12, 2, 3, 'abhi', 35]\n"
     ]
    }
   ],
   "source": [
    "# 1st way\n",
    "\n",
    "list1 = [ 1, 3, 2, 4, 5, 6 , 'abhi' , 'avi']\n",
    "\n",
    "list2 = [ 11, 12, 2, 3, 'abhi' , 35]\n",
    "\n",
    "merge_list = list1 + list2\n",
    "\n",
    "print(merge_list)\n"
   ]
  },
  {
   "cell_type": "code",
   "execution_count": 324,
   "metadata": {},
   "outputs": [
    {
     "name": "stdout",
     "output_type": "stream",
     "text": [
      "[1, 3, 2, 4, 5, 6, 'abhi', 'avi', [11, 12, 2, 3, 'abhi', 35]]\n"
     ]
    }
   ],
   "source": [
    "# 2nd way\n",
    "\n",
    "list1 = [ 1, 3, 2, 4, 5, 6 , 'abhi' , 'avi']\n",
    "\n",
    "list2 = [ 11, 12, 2, 3, 'abhi' , 35]\n",
    "\n",
    "list1.append(list2)     # use inbuilt append method . here list1 will get appended with elements of list2\n",
    "\n",
    "print(list1)"
   ]
  },
  {
   "cell_type": "markdown",
   "metadata": {},
   "source": [
    "# 24. Multiply all elements in a list by 2."
   ]
  },
  {
   "cell_type": "markdown",
   "metadata": {},
   "source": [
    "1st way : with list comprehension way"
   ]
  },
  {
   "cell_type": "code",
   "execution_count": 327,
   "metadata": {},
   "outputs": [
    {
     "name": "stdout",
     "output_type": "stream",
     "text": [
      "[2, 6, 4, 8, 10, 12]\n"
     ]
    }
   ],
   "source": [
    "#1st way\n",
    "\n",
    "list_input = [ 1, 3, 2, 4, 5, 6 ]\n",
    "\n",
    "result = [ 2 * x for x in list_input]\n",
    "\n",
    "print(result)"
   ]
  },
  {
   "cell_type": "markdown",
   "metadata": {},
   "source": [
    "2nd way : writting your own function and multiple each element by n(2) and append to list"
   ]
  },
  {
   "cell_type": "code",
   "execution_count": 331,
   "metadata": {},
   "outputs": [],
   "source": [
    "def multiply_list(input_list , n):             #Create a function with input list and multiple by n and return the list\n",
    "    \n",
    "    output_list = []          # initialize the output list\n",
    "    \n",
    "    for i in input_list:             # iterate through each element of the list , assuming each elements are numeric\n",
    "        output_list.append(i*n)      # multiply the element by 2 and append to outout list\n",
    "        \n",
    "    return output_list       \n",
    "  \n",
    "        "
   ]
  },
  {
   "cell_type": "code",
   "execution_count": 332,
   "metadata": {},
   "outputs": [
    {
     "name": "stdout",
     "output_type": "stream",
     "text": [
      "When you multiple all the elements in list [1, 3, 2, 4, 5, 6] by 4 ,your list will be [4, 12, 8, 16, 20, 24]\n"
     ]
    }
   ],
   "source": [
    "# test the above function \n",
    "\n",
    "list_input = [ 1, 3, 2, 4, 5, 6 ]\n",
    "\n",
    "n = 4\n",
    "\n",
    "print (f\"When you multiple all the elements in list {list_input} by {n} ,your list will be {multiply_list(list_input , n)}\")"
   ]
  },
  {
   "cell_type": "markdown",
   "metadata": {},
   "source": [
    "3rd way : using python map method\n",
    "    \n",
    "map() function returns a map object(which is an iterator) of the results after applying the given function to each item of a given iterable (list, tuple etc.)\n",
    "\n",
    "Syntax: map(fun, iter)"
   ]
  },
  {
   "cell_type": "code",
   "execution_count": 333,
   "metadata": {},
   "outputs": [
    {
     "name": "stdout",
     "output_type": "stream",
     "text": [
      "When you multiple all the elements in list [1, 3, 2, 4, 5, 6] by 4 ,your list will be [4, 12, 8, 16, 20, 24]\n"
     ]
    }
   ],
   "source": [
    "list_input = [ 1, 3, 2, 4, 5, 6 ]\n",
    "\n",
    "n = 4\n",
    "\n",
    "output_list = list(map((lambda x : x * n) , list_input ))\n",
    "\n",
    "print (f\"When you multiple all the elements in list {list_input} by {n} ,your list will be {output_list}\")"
   ]
  },
  {
   "cell_type": "markdown",
   "metadata": {},
   "source": [
    "# 25. Filter out all even numbers from a list."
   ]
  },
  {
   "cell_type": "markdown",
   "metadata": {},
   "source": [
    "#1st way : using own method"
   ]
  },
  {
   "cell_type": "code",
   "execution_count": 334,
   "metadata": {},
   "outputs": [],
   "source": [
    "# Writting a function to find the element from input list if element is divisible by n\n",
    "\n",
    "def find_multiple_of_n_from_list(input_list, n):       \n",
    "    \n",
    "    output_list = []              # initializing the output list\n",
    "    \n",
    "    for i in input_list:              # Iterate through each element of list\n",
    "        if i != 0 and i % n == 0:     # if element is divisible by n\n",
    "            output_list.append(i)     # add the element to output list\n",
    "            \n",
    "    return output_list\n",
    "            \n",
    "        "
   ]
  },
  {
   "cell_type": "code",
   "execution_count": 337,
   "metadata": {},
   "outputs": [
    {
     "name": "stdout",
     "output_type": "stream",
     "text": [
      "The filter out all even numbers from a list [1, 2, 3, 4, 5, 6, 7, 8, 9, 10] is : [2, 4, 6, 8, 10]\n"
     ]
    }
   ],
   "source": [
    "# test the above function\n",
    "\n",
    "input_list = [ 1,2,3,4,5,6,7,8,9,10]\n",
    "\n",
    "n = 2\n",
    "\n",
    "print(f\"The filter out all even numbers from a list {input_list} is : {find_multiple_of_n_from_list(input_list , n)}\")"
   ]
  },
  {
   "cell_type": "markdown",
   "metadata": {},
   "source": [
    "2nd way : list comprehension method"
   ]
  },
  {
   "cell_type": "code",
   "execution_count": 339,
   "metadata": {},
   "outputs": [
    {
     "name": "stdout",
     "output_type": "stream",
     "text": [
      "The filter out all even numbers from a list [1, 2, 3, 4, 5, 6, 7, 8, 9, 10] is : [2, 4, 6, 8, 10]\n"
     ]
    }
   ],
   "source": [
    "input_list = [ 1,2,3,4,5,6,7,8,9,10]\n",
    "\n",
    "n = 2\n",
    "\n",
    "output_list = [ x for x in input_list if x % n == 0]\n",
    "\n",
    "print(f\"The filter out all even numbers from a list {input_list} is : {output_list}\")"
   ]
  },
  {
   "cell_type": "code",
   "execution_count": 340,
   "metadata": {},
   "outputs": [
    {
     "name": "stdout",
     "output_type": "stream",
     "text": [
      "The filter out all even numbers from a list [1, 2, 3, 4, 5, 6, 7, 8, 9, 10] is : [3, 6, 9]\n"
     ]
    }
   ],
   "source": [
    "# Test the above function to get multiple of 3\n",
    "\n",
    "input_list = [ 1,2,3,4,5,6,7,8,9,10]\n",
    "\n",
    "n = 3\n",
    "\n",
    "output_list = [ x for x in input_list if x % n == 0]\n",
    "\n",
    "print(f\"The filter out all even numbers from a list {input_list} is : {output_list}\")"
   ]
  },
  {
   "cell_type": "markdown",
   "metadata": {},
   "source": [
    "# 26. Convert a list of strings to a list of integers."
   ]
  },
  {
   "cell_type": "code",
   "execution_count": 343,
   "metadata": {},
   "outputs": [
    {
     "name": "stdout",
     "output_type": "stream",
     "text": [
      "After converting list of strings ['1', '2', '3', '4', '5'] to a list of integers : [1, 2, 3, 4, 5]\n"
     ]
    }
   ],
   "source": [
    "# we can convert string to int by type casting method\n",
    "\n",
    "input_list = [ '1' , '2' , '3' , '4' , '5']\n",
    "\n",
    "output_list = [int(x) for x in input_list ]\n",
    "\n",
    "print(f\"After converting list of strings {input_list} to a list of integers : {output_list}\")\n"
   ]
  },
  {
   "cell_type": "markdown",
   "metadata": {},
   "source": [
    "# 27. Convert a list of integers to a list of strings."
   ]
  },
  {
   "cell_type": "code",
   "execution_count": 344,
   "metadata": {},
   "outputs": [
    {
     "name": "stdout",
     "output_type": "stream",
     "text": [
      "After converting list of integers [11, 12, 13, 14, 15] to a list of strings : ['11', '12', '13', '14', '15']\n"
     ]
    }
   ],
   "source": [
    "# we can convert int to string by type casting method\n",
    "\n",
    "input_list = [ 11, 12, 13, 14, 15]\n",
    "\n",
    "output_list = [str(x) for x in input_list ]\n",
    "\n",
    "print(f\"After converting list of integers {input_list} to a list of strings : {output_list}\")\n"
   ]
  },
  {
   "cell_type": "markdown",
   "metadata": {},
   "source": [
    "# 28. Flatten a nested list."
   ]
  },
  {
   "cell_type": "markdown",
   "metadata": {},
   "source": [
    "1st way : by writting your own method for 2 level of nested list"
   ]
  },
  {
   "cell_type": "code",
   "execution_count": null,
   "metadata": {},
   "outputs": [],
   "source": [
    "Basic algorithm:\n",
    "    \n",
    "1. Create a new empty list to store the flattened data\n",
    "2. Iterate over each nested list or sublist in the original list.\n",
    "3. Add every item from the current sublist to the list of flattened data.\n",
    "4. Return the resulting list with the flattened data.\n",
    "    \n",
    "    "
   ]
  },
  {
   "cell_type": "code",
   "execution_count": 362,
   "metadata": {},
   "outputs": [],
   "source": [
    "def flatten_list(input_list):        # this function will flatten nested list for 1 level of nested list\n",
    "    \n",
    "    output_list = []       # initializing output list\n",
    "    \n",
    "    for i in input_list:\n",
    "        output_list.extend(i)       # extend the list by elements of i\n",
    "\n",
    "    return output_list"
   ]
  },
  {
   "cell_type": "code",
   "execution_count": 363,
   "metadata": {},
   "outputs": [
    {
     "name": "stdout",
     "output_type": "stream",
     "text": [
      "[11, 12, 13, 14, 15, 17, 45, 46, 23, 12]\n"
     ]
    }
   ],
   "source": [
    "input_list = [  [ 11, 12, ] , [13 , 14] , [15 , 17] ,  [45 , 46 ] , [23, 12] ]\n",
    "\n",
    "output_list = flatten_list(input_list)\n",
    "\n",
    "print(output_list)\n",
    "\n",
    "\n",
    "\n"
   ]
  },
  {
   "cell_type": "markdown",
   "metadata": {},
   "source": [
    "2nd way :\n",
    "\n",
    "Python isinstance() Function : The isinstance() function returns True if the specified object is of the specified type, otherwise False.    \n"
   ]
  },
  {
   "cell_type": "code",
   "execution_count": 366,
   "metadata": {},
   "outputs": [
    {
     "data": {
      "text/plain": [
       "True"
      ]
     },
     "execution_count": 366,
     "metadata": {},
     "output_type": "execute_result"
    }
   ],
   "source": [
    "isinstance([2,3] , list)"
   ]
  },
  {
   "cell_type": "code",
   "execution_count": 367,
   "metadata": {},
   "outputs": [
    {
     "data": {
      "text/plain": [
       "True"
      ]
     },
     "execution_count": 367,
     "metadata": {},
     "output_type": "execute_result"
    }
   ],
   "source": [
    "isinstance(2,int)"
   ]
  },
  {
   "cell_type": "code",
   "execution_count": 370,
   "metadata": {},
   "outputs": [
    {
     "data": {
      "text/plain": [
       "False"
      ]
     },
     "execution_count": 370,
     "metadata": {},
     "output_type": "execute_result"
    }
   ],
   "source": [
    "isinstance(2 , list)"
   ]
  },
  {
   "cell_type": "markdown",
   "metadata": {},
   "source": [
    "so , basic algorithm for 2nd way \n",
    "\n",
    "algorithm:\n",
    "    \n",
    "1. Create a new empty list to store the flattened data\n",
    "2. Iterate over each nested list \n",
    "3. if element is not instance of list - Add the item from the current sublist to the list of output list.\n",
    "4. else call the recursive function to extend the output list\n",
    "\n",
    "Return the resulting list with the flattened data.\n",
    "    \n"
   ]
  },
  {
   "cell_type": "code",
   "execution_count": 375,
   "metadata": {},
   "outputs": [],
   "source": [
    "def flatten_list_recursively(input_list):        # this function will flatten nested list for 1 level of nested list\n",
    "    \n",
    "    output_list = []       # initializing output list\n",
    "    \n",
    "    for i in input_list:               # iterate through each element in the nested list\n",
    "        if isinstance(i , list):       # if element is still list\n",
    "            output_list.extend(flatten_list_recursively(i))        # call the function recursively\n",
    "        else : \n",
    "            output_list.append(i)      # append the item  to output list ( if it is not the list )    \n",
    "        \n",
    "\n",
    "    return output_list"
   ]
  },
  {
   "cell_type": "code",
   "execution_count": 376,
   "metadata": {},
   "outputs": [
    {
     "name": "stdout",
     "output_type": "stream",
     "text": [
      "[11, 12, 13, 14, 15, 17, 45, 46, 23, 12, 12, 21, 78, 67]\n"
     ]
    }
   ],
   "source": [
    "# test the above function\n",
    "\n",
    "input_list = [ [ [ 11, 12, ] , [13 , 14] ], [15 , 17] , [ [45 , 46 ] , [23, 12] , [12,21 ] ] , [78 , 67] ]\n",
    "\n",
    "output_list = flatten_list_recursively(input_list)\n",
    "\n",
    "print(output_list)\n"
   ]
  },
  {
   "cell_type": "markdown",
   "metadata": {},
   "source": [
    "# 29. Create a list of the first 10 Fibonacci numbers."
   ]
  },
  {
   "cell_type": "markdown",
   "metadata": {},
   "source": [
    "Fibonacci numbers, is defined as the sequence of numbers in which each number in the sequence is equal to the sum of two numbers before it. The Fibonacci Sequence is given as: Fibonacci Sequence = 0, 1, 1, 2, 3, 5, 8, 13, 21, 34"
   ]
  },
  {
   "cell_type": "markdown",
   "metadata": {},
   "source": [
    "This is again , we can call recursively to get Fibonacci numbers"
   ]
  },
  {
   "cell_type": "code",
   "execution_count": 390,
   "metadata": {},
   "outputs": [],
   "source": [
    "# Function to return fibonacci number\n",
    "def create_fibonacci(n):        \n",
    "          \n",
    "    if n <= 1:         \n",
    "        return n\n",
    "    else :\n",
    "        return (create_fibonacci(n-1) + create_fibonacci(n-2) )\n",
    "    \n",
    "# Function to return list of first n  fibonacci number\n",
    "\n",
    "def create_fibonacci_list(n):\n",
    "    \n",
    "    output_list = []         # create output list\n",
    "    \n",
    "    for i in range(n+1):     # for iterate through 0 to n\n",
    "        output_list.append(create_fibonacci(i))        # call create_fibonacci function for each occurance and append to list\n",
    "        \n",
    "    return output_list\n",
    "        \n",
    "        "
   ]
  },
  {
   "cell_type": "code",
   "execution_count": 392,
   "metadata": {},
   "outputs": [
    {
     "name": "stdout",
     "output_type": "stream",
     "text": [
      "[0, 1, 1, 2, 3, 5, 8, 13, 21, 34, 55]\n"
     ]
    }
   ],
   "source": [
    "# Test the above function \n",
    "\n",
    "# Create a list of the first 10 Fibonacci numbers\n",
    "result = create_fibonacci_list(10)\n",
    "\n",
    "print(result)"
   ]
  },
  {
   "cell_type": "markdown",
   "metadata": {},
   "source": [
    "# 30. Check if a list is sorted."
   ]
  },
  {
   "cell_type": "code",
   "execution_count": 408,
   "metadata": {},
   "outputs": [],
   "source": [
    "# Write own function to return True/False for checking sorted order. \n",
    "# list can be in ascending order or descending order and we call it as sorted list\n",
    "\n",
    "def chk_sorted_list(input_list):\n",
    "    \n",
    "    if len(input_list) <= 2:\n",
    "        return True\n",
    "    \n",
    "    if input_list[1] < input_list[2]:       # check for ascending order of the list\n",
    "        for i in range(len(input_list)-1):    \n",
    "            if input_list[i] > input_list[i + 1] :\n",
    "                return False\n",
    "            \n",
    "        return True\n",
    "    else :                                 # check for descending order of the list\n",
    "        for i in range(len(input_list)-1):\n",
    "            if input_list[i] < input_list[i + 1] :\n",
    "                return False\n",
    "            \n",
    "        return True\n",
    "        \n"
   ]
  },
  {
   "cell_type": "code",
   "execution_count": 409,
   "metadata": {},
   "outputs": [
    {
     "name": "stdout",
     "output_type": "stream",
     "text": [
      "True\n",
      "False\n",
      "False\n",
      "True\n",
      "True\n",
      "True\n"
     ]
    }
   ],
   "source": [
    "# Test the above function\n",
    "\n",
    "input_list = [ 1,2,3,4,5,6]\n",
    "\n",
    "result = chk_sorted_list(input_list)\n",
    "\n",
    "print(result)\n",
    "\n",
    "# Test the above function\n",
    "\n",
    "input_list = [ 2,3,4,5,6, 1]\n",
    "\n",
    "result = chk_sorted_list(input_list)\n",
    "\n",
    "print(result)\n",
    "\n",
    "# Test the above function\n",
    "\n",
    "input_list = [ 2,4,5,15,6]\n",
    "\n",
    "result = chk_sorted_list(input_list)\n",
    "\n",
    "print(result)\n",
    "\n",
    "# Test the above function\n",
    "\n",
    "input_list = [ 12, 10 , 9, 7 , 6, 3]\n",
    "\n",
    "result = chk_sorted_list(input_list)\n",
    "\n",
    "print(result)\n",
    "\n",
    "# Test the above function\n",
    "\n",
    "input_list = [ 12, 14 , 15]\n",
    "\n",
    "result = chk_sorted_list(input_list)\n",
    "\n",
    "print(result)\n",
    "\n",
    "# Test the above function\n",
    "\n",
    "input_list = [ 12, 14 ]\n",
    "\n",
    "result = chk_sorted_list(input_list)\n",
    "\n",
    "print(result)"
   ]
  },
  {
   "cell_type": "markdown",
   "metadata": {},
   "source": [
    "# 31. Rotate a list to the left by `n` positions."
   ]
  },
  {
   "cell_type": "markdown",
   "metadata": {},
   "source": [
    "Basic algorithm :\n",
    "\n",
    "let's suppose we have list\n",
    "\n",
    "input_list = [ 1,2,3,4,5,6]\n",
    "\n",
    "1) by shifting input_list by 1 position left, list will be [ 2,3,4,5,6 ,1]\n",
    "\n",
    "means , [ 2,3,4,5,6 ,1] = [ 2,3,4,5,6 ] + [ 1]  = input_list[1:] + input_list[:1]\n",
    "\n",
    "2) by shifting input_list by 2 position left, list will be [ 3,4,5,6 ,1 , 2]\n",
    "\n",
    "means , [3,4,5,6 ,1 , 2] = [ 3,4,5,6 ] + [ 1 , 2]  = input_list[2:] + input_list[:2]\n",
    "\n"
   ]
  },
  {
   "cell_type": "code",
   "execution_count": 507,
   "metadata": {},
   "outputs": [],
   "source": [
    "# writting a function to rorate list by shifting n position left\n",
    "def rotate_list_left(input_list, n):\n",
    "    \n",
    "    if n <= len(input_list):        # if number of shift is less than length of list\n",
    "        output_list = input_list[n:]   + input_list[:n]\n",
    "    else :                          # if number of shift is greater than length of list\n",
    "        n = n % len(input_list)\n",
    "        output_list = input_list[n:]   + input_list[:n]\n",
    "    \n",
    "    return output_list"
   ]
  },
  {
   "cell_type": "code",
   "execution_count": 510,
   "metadata": {},
   "outputs": [
    {
     "name": "stdout",
     "output_type": "stream",
     "text": [
      "Rotate a list [1, 2, 3, 4, 5, 6] to the left by 3 positions then updated list will be [4, 5, 6, 1, 2, 3]\n",
      "Rotate a list [1, 2, 3, 4, 5, 6] to the left by 10 positions then updated list will be [5, 6, 1, 2, 3, 4]\n"
     ]
    }
   ],
   "source": [
    "# testing of above function\n",
    "\n",
    "input_list = [ 1,2,3,4,5,6]\n",
    "\n",
    "n = 3\n",
    "\n",
    "print(f\"Rotate a list {input_list } to the left by {n} positions then updated list will be {rotate_list_left(input_list , n)}\")\n",
    "\n",
    "n = 10\n",
    "\n",
    "print(f\"Rotate a list {input_list } to the left by {n} positions then updated list will be {rotate_list_left(input_list , n)}\")\n",
    "\n",
    "\n"
   ]
  },
  {
   "cell_type": "markdown",
   "metadata": {},
   "source": [
    "# 32. Rotate a list to the right by `n` positions."
   ]
  },
  {
   "cell_type": "markdown",
   "metadata": {},
   "source": [
    "Basic algorithm :\n",
    "\n",
    "let's suppose we have list\n",
    "\n",
    "input_list = [ 1,2,3,4,5,6]\n",
    "\n",
    "1) by shifting input_list by 1 position right, list will be [ 6,1,2,3,4,5]\n",
    "\n",
    "means , [ 6,1,2,3,4,5] = [ 6 ] + [ 1,2,3,4,5]  = input_list[-1:] + input_list[:n-1]\n",
    "\n",
    "2) by shifting input_list by 2 position , list will be [ 5,6,1,2,3,4]\n",
    "\n",
    "means , [ 5,6,1,2,3,4] = [ 5,6] + [ 1,2,3,4]  = input_list[-2:] + input_list[:len(input_list)-2]\n"
   ]
  },
  {
   "cell_type": "code",
   "execution_count": 511,
   "metadata": {},
   "outputs": [],
   "source": [
    "input_list = [ 1,2,3,4,5,6]"
   ]
  },
  {
   "cell_type": "code",
   "execution_count": 514,
   "metadata": {},
   "outputs": [
    {
     "data": {
      "text/plain": [
       "[6, 1, 2, 3, 4, 5]"
      ]
     },
     "execution_count": 514,
     "metadata": {},
     "output_type": "execute_result"
    }
   ],
   "source": [
    "input_list[-1:] + input_list[0:len(input_list)-1]"
   ]
  },
  {
   "cell_type": "code",
   "execution_count": 515,
   "metadata": {},
   "outputs": [
    {
     "data": {
      "text/plain": [
       "[5, 6, 1, 2, 3, 4]"
      ]
     },
     "execution_count": 515,
     "metadata": {},
     "output_type": "execute_result"
    }
   ],
   "source": [
    "input_list[-2:] + input_list[0:len(input_list)-2]"
   ]
  },
  {
   "cell_type": "code",
   "execution_count": 518,
   "metadata": {},
   "outputs": [],
   "source": [
    "# writting a function to rorate list by shifting n position left\n",
    "def rotate_list_right(input_list, n):\n",
    "    \n",
    "    n = n % len(input_list)         # so that number of shift will always be less than length of list\n",
    "    \n",
    "    output_list = input_list[-n:]  + input_list[:len(input_list)-n]    \n",
    "\n",
    "    return output_list"
   ]
  },
  {
   "cell_type": "code",
   "execution_count": 519,
   "metadata": {},
   "outputs": [
    {
     "name": "stdout",
     "output_type": "stream",
     "text": [
      "Rotate a list [1, 2, 3, 4, 5, 6] to the right by 3 positions then updated list will be [4, 5, 6, 1, 2, 3]\n",
      "Rotate a list [1, 2, 3, 4, 5, 6] to the right by 10 positions then updated list will be [3, 4, 5, 6, 1, 2]\n"
     ]
    }
   ],
   "source": [
    "# testing of above function\n",
    "\n",
    "input_list = [ 1,2,3,4,5,6]\n",
    "\n",
    "n = 3\n",
    "\n",
    "print(f\"Rotate a list {input_list } to the right by {n} positions then updated list will be {rotate_list_right(input_list , n)}\")\n",
    "\n",
    "n = 10\n",
    "\n",
    "print(f\"Rotate a list {input_list } to the right by {n} positions then updated list will be {rotate_list_right(input_list , n)}\")\n"
   ]
  },
  {
   "cell_type": "markdown",
   "metadata": {},
   "source": [
    "# 33. Create a list of prime numbers up to 50."
   ]
  },
  {
   "cell_type": "markdown",
   "metadata": {},
   "source": [
    "#write function to check whether given number is prime or nor\n",
    "\n",
    "prime number:a whole number greater than 1 that cannot be exactly divided by any whole number other than itself.\n",
    "    \n",
    "so, to check 20 is prime number or not, we will check whether 20 is divisible by any number starting from 2 to 11\n",
    "\n",
    "similarly to check 50 is prime number or not, we will check whether 50 is divisible by any number starting from 2 to 26\n",
    "\n",
    "so to check n is prime number or not, we will check whether n is divisible by any number starting from 2 to (n/2) + 1\n"
   ]
  },
  {
   "cell_type": "code",
   "execution_count": 531,
   "metadata": {},
   "outputs": [],
   "source": [
    "# Function to check whether given number n is prime or not\n",
    "def chk_prime(n):\n",
    "    \n",
    "    if n < 2:\n",
    "        return False\n",
    "    \n",
    "    for i in range(int(n/2) + 1 ):\n",
    "        if i > 1:\n",
    "            if n % i == 0 :\n",
    "                return False\n",
    "        \n",
    "    return True\n",
    "        "
   ]
  },
  {
   "cell_type": "code",
   "execution_count": 543,
   "metadata": {},
   "outputs": [
    {
     "data": {
      "text/plain": [
       "True"
      ]
     },
     "execution_count": 543,
     "metadata": {},
     "output_type": "execute_result"
    }
   ],
   "source": [
    "chk_prime(11)"
   ]
  },
  {
   "cell_type": "code",
   "execution_count": 544,
   "metadata": {},
   "outputs": [],
   "source": [
    "#Function to create list of prime number up to n\n",
    "\n",
    "def create_list_of_prime_number_up_to(n):\n",
    "    \n",
    "    output_list = []\n",
    "    \n",
    "    for i in range(n+1):\n",
    "        if i > 1 :\n",
    "            if chk_prime(i):\n",
    "                output_list.append(i)\n",
    "    \n",
    "    return output_list\n",
    "                \n",
    "     "
   ]
  },
  {
   "cell_type": "code",
   "execution_count": 547,
   "metadata": {},
   "outputs": [
    {
     "name": "stdout",
     "output_type": "stream",
     "text": [
      "Create a list of prime numbers up to 50 is [2, 3, 5, 7, 11, 13, 17, 19, 23, 29, 31, 37, 41, 43, 47]\n",
      "Create a list of prime numbers up to 100 is [2, 3, 5, 7, 11, 13, 17, 19, 23, 29, 31, 37, 41, 43, 47, 53, 59, 61, 67, 71, 73, 79, 83, 89, 97]\n"
     ]
    }
   ],
   "source": [
    "# Test the abive function\n",
    "\n",
    "n = 50\n",
    "\n",
    "print(f\"Create a list of prime numbers up to {n} is {create_list_of_prime_number_up_to(n)}\")\n",
    "\n",
    "n = 100\n",
    "\n",
    "print(f\"Create a list of prime numbers up to {n} is {create_list_of_prime_number_up_to(n)}\")"
   ]
  },
  {
   "cell_type": "markdown",
   "metadata": {},
   "source": [
    "# 34. Split a list into chunks of size `n`."
   ]
  },
  {
   "cell_type": "markdown",
   "metadata": {},
   "source": [
    "Basic algorithm:\n",
    "    \n",
    "let's suppose , we have input_list = [ 1,2,3,4,5,6,7,8,9] and split this list chunks of size 3 will be\n",
    "\n",
    "[[1,2,3], [4,5,6] , [7,8,9]]\n",
    "\n",
    "so, number of chunk of size n = len(input_list)/n\n",
    "\n",
    "1st chunk = input_list[0:2]   = input_list[0 : n-1]\n",
    "\n",
    "2nd chunk = input_list[3:5]   = input_list[3 : 3+n-1]\n",
    "\n",
    "3rd chunk = input_list[6:8]   = input_list[6 : 6+n-1]\n"
   ]
  },
  {
   "cell_type": "code",
   "execution_count": 596,
   "metadata": {},
   "outputs": [
    {
     "name": "stdout",
     "output_type": "stream",
     "text": [
      "Splitting a list [1, 2, 3, 4, 5, 6, 7, 8, 9, 10, 11, 12, 13, 14, 15] into chunks of size 3 then new list will be [[1, 2, 3], [4, 5, 6], [7, 8, 9], [10, 11, 12], [13, 14, 15]]\n",
      "\n",
      "Splitting a list [1, 2, 3, 4, 5, 6, 7, 8, 9, 10, 11, 12, 13, 14, 15] into chunks of size 5 then new list will be [[1, 2, 3, 4, 5], [6, 7, 8, 9, 10], [11, 12, 13, 14, 15]]\n"
     ]
    }
   ],
   "source": [
    "def split_list_into_chunk(input_list,n): \n",
    "    \n",
    "    output_list = []      # initialize the output list\n",
    "    \n",
    "    if len(input_list) % n == 0 :     # if list can be dividied into chunk of size n\n",
    "        for i in range(int(len(input_list)/n )):\n",
    "            chunk = input_list[(i * n) : (i * n ) + n  ]\n",
    "            output_list.insert(i , chunk)\n",
    "            \n",
    "    return output_list\n",
    "            \n",
    "        \n",
    "#Test the above function\n",
    "\n",
    "input_list = [ 1,2,3,4,5,6,7,8,9,10,11,12,13,14,15] \n",
    "\n",
    "n = 3\n",
    "\n",
    "print(f\"Splitting a list {input_list} into chunks of size {n} then new list will be {split_list_into_chunk(input_list , n)}\\n\")\n",
    "    \n",
    "n = 5\n",
    "\n",
    "print(f\"Splitting a list {input_list} into chunks of size {n} then new list will be {split_list_into_chunk(input_list , n)}\")\n",
    "\n"
   ]
  },
  {
   "cell_type": "code",
   "execution_count": 593,
   "metadata": {},
   "outputs": [
    {
     "data": {
      "text/plain": [
       "[[1, 2, 3], [4, 5, 6], [7, 8, 9]]"
      ]
     },
     "execution_count": 593,
     "metadata": {},
     "output_type": "execute_result"
    }
   ],
   "source": [
    "output_list"
   ]
  },
  {
   "cell_type": "markdown",
   "metadata": {},
   "source": [
    "# 35. Find the second largest number in a list."
   ]
  },
  {
   "cell_type": "code",
   "execution_count": 499,
   "metadata": {},
   "outputs": [],
   "source": [
    "def second_largest_num(input_list):\n",
    "    \n",
    "    input_list.sort(reverse=True)    # sort the list in descending order\n",
    "    \n",
    "    return input_list[1]             # second largest number will be at 1st index\n",
    "    \n",
    "    "
   ]
  },
  {
   "cell_type": "code",
   "execution_count": 500,
   "metadata": {},
   "outputs": [
    {
     "name": "stdout",
     "output_type": "stream",
     "text": [
      "The second largest number in the list [23, 4, 6, 7, 67, 45, 78] is : 67\n"
     ]
    }
   ],
   "source": [
    "# Testing of the above function\n",
    "\n",
    "input_list = [ 23,4,6,7,67,45,78]\n",
    "\n",
    "print(f\"The second largest number in the list {input_list} is : {second_largest_num(input_list)}\")"
   ]
  },
  {
   "cell_type": "markdown",
   "metadata": {},
   "source": [
    "# 36. Replace every element in a list with its square."
   ]
  },
  {
   "cell_type": "markdown",
   "metadata": {},
   "source": [
    "We can replace eacg element in a list with square easily by applying function on each element\n"
   ]
  },
  {
   "cell_type": "markdown",
   "metadata": {},
   "source": [
    "1st way : Using list comprehension method"
   ]
  },
  {
   "cell_type": "code",
   "execution_count": 412,
   "metadata": {},
   "outputs": [
    {
     "name": "stdout",
     "output_type": "stream",
     "text": [
      "[1, 4, 9, 16, 25]\n"
     ]
    }
   ],
   "source": [
    "my_list = [ 1,2,3,4,5]\n",
    "\n",
    "my_list = [ x * x for x in my_list]\n",
    "\n",
    "print(my_list)"
   ]
  },
  {
   "cell_type": "markdown",
   "metadata": {},
   "source": [
    "2nd way : Using python map() function\n"
   ]
  },
  {
   "cell_type": "code",
   "execution_count": 414,
   "metadata": {},
   "outputs": [
    {
     "name": "stdout",
     "output_type": "stream",
     "text": [
      "[36, 49, 64, 81, 100]\n"
     ]
    }
   ],
   "source": [
    "my_list = [ 6,7,8,9,10]\n",
    "\n",
    "my_list = list(map((lambda x : x * x ),my_list ) )\n",
    "\n",
    "print(my_list)"
   ]
  },
  {
   "cell_type": "markdown",
   "metadata": {},
   "source": [
    "# 37. Convert a list to a dictionary where list elements become keys and their indices become values."
   ]
  },
  {
   "cell_type": "markdown",
   "metadata": {},
   "source": [
    "We can use enumerate method :\n",
    "\n",
    "The enumerate () method adds a counter to an iterable and returns it in the form of an enumerating object."
   ]
  },
  {
   "cell_type": "code",
   "execution_count": 419,
   "metadata": {},
   "outputs": [
    {
     "name": "stdout",
     "output_type": "stream",
     "text": [
      "[(0, 'a'), (1, 'b'), (2, 'c'), (3, 'd'), (4, 'e')]\n"
     ]
    }
   ],
   "source": [
    "# Example of enumerate which add index to the list\n",
    "\n",
    "my_list = ['a' , 'b' , 'c' , 'd' , 'e']\n",
    "\n",
    "a = list(enumerate(my_list))\n",
    "\n",
    "print(a)"
   ]
  },
  {
   "cell_type": "code",
   "execution_count": 423,
   "metadata": {},
   "outputs": [
    {
     "name": "stdout",
     "output_type": "stream",
     "text": [
      "{'a': 0, 'b': 1, 'c': 2, 'd': 3, 'e': 4}\n"
     ]
    }
   ],
   "source": [
    "my_list = ['a' , 'b' , 'c' , 'd' , 'e']\n",
    "\n",
    "# creating dictionary where list elements become keys and their indices become values.\n",
    "\n",
    "my_dict = {x:y for y , x in  enumerate(my_list) }\n",
    "\n",
    "print(my_dict)\n"
   ]
  },
  {
   "cell_type": "markdown",
   "metadata": {},
   "source": [
    "# 38. Shuffle the elements of a list randomly."
   ]
  },
  {
   "cell_type": "markdown",
   "metadata": {},
   "source": [
    "We can use inbuilt shuffle method of Random module"
   ]
  },
  {
   "cell_type": "code",
   "execution_count": 426,
   "metadata": {},
   "outputs": [
    {
     "name": "stdout",
     "output_type": "stream",
     "text": [
      "['b', 'e', 'a', 'd', 'c']\n"
     ]
    }
   ],
   "source": [
    "import random\n",
    "\n",
    "my_list = ['a' , 'b' , 'c' , 'd' , 'e']\n",
    "\n",
    "random.shuffle(my_list)\n",
    "\n",
    "print(my_list)\n"
   ]
  },
  {
   "cell_type": "markdown",
   "metadata": {},
   "source": [
    "# 39. Create a list of the first 10 factorial numbers."
   ]
  },
  {
   "cell_type": "code",
   "execution_count": 430,
   "metadata": {},
   "outputs": [],
   "source": [
    "# Writting a function for calculating factorial\n",
    "\n",
    "def factorial(n):\n",
    "    if n == 1:\n",
    "        return n\n",
    "    else :\n",
    "        return n * factorial(n-1)\n",
    " \n",
    "# Creating function to create a ist of the first n factorial numbers\n",
    "\n",
    "def factorial_list(n):\n",
    "    \n",
    "    output_list = []         # initializing output list\n",
    "    \n",
    "    for i in range(n):\n",
    "        output_list.append(factorial(i+1))\n",
    "        \n",
    "    return output_list\n",
    "        "
   ]
  },
  {
   "cell_type": "code",
   "execution_count": 433,
   "metadata": {},
   "outputs": [
    {
     "data": {
      "text/plain": [
       "[1, 2, 6, 24, 120, 720, 5040, 40320, 362880, 3628800]"
      ]
     },
     "execution_count": 433,
     "metadata": {},
     "output_type": "execute_result"
    }
   ],
   "source": [
    "# Test the above function \n",
    "\n",
    "factorial_list(10)"
   ]
  },
  {
   "cell_type": "markdown",
   "metadata": {},
   "source": [
    "# 40. Check if two lists have at least one element in common."
   ]
  },
  {
   "cell_type": "code",
   "execution_count": null,
   "metadata": {},
   "outputs": [],
   "source": [
    "1st way : By list comprehension method"
   ]
  },
  {
   "cell_type": "code",
   "execution_count": 439,
   "metadata": {},
   "outputs": [
    {
     "name": "stdout",
     "output_type": "stream",
     "text": [
      "The two list [1, 3, 5, 7] and [2, 3, 5, 8] have at leasr one element in common\n",
      "The two list [1, 3, 5, 7] and [2, 4, 6, 8] do not have element in common\n"
     ]
    }
   ],
   "source": [
    "# let's suppose\n",
    "input_list1 = [ 1,3,5,7]       # input list 1\n",
    "\n",
    "input_list2 = [2,3,5,8]        # input list 2\n",
    "\n",
    "result = any(x for x in input_list1 if x in input_list2)\n",
    "\n",
    "if result:\n",
    "    print(f\"The two list {input_list1} and {input_list2} have at leasr one element in common\")\n",
    "else :\n",
    "    print(f\"The two list {input_list1} and {input_list2} do not have element in common\")\n",
    "    \n",
    "\n",
    "# testing with no common list\n",
    "\n",
    "input_list3 = [ 1,3,5,7]       # input list 1\n",
    "\n",
    "input_list4 = [2,4,6,8]        # input list 2\n",
    "\n",
    "result = any(x for x in input_list3 if x in input_list4)\n",
    "\n",
    "if result:\n",
    "    print(f\"The two list {input_list3} and {input_list4} have at leasr one element in common\")\n",
    "else :\n",
    "    print(f\"The two list {input_list3} and {input_list4} do not have element in common\")\n",
    "    "
   ]
  },
  {
   "cell_type": "markdown",
   "metadata": {},
   "source": [
    "2nd way : By using set method. We know intersection of two set is common element between two set. So, we will use that concepts"
   ]
  },
  {
   "cell_type": "code",
   "execution_count": 443,
   "metadata": {},
   "outputs": [
    {
     "name": "stdout",
     "output_type": "stream",
     "text": [
      "The two list [1, 3, 5, 7] and [2, 3, 5, 8] have at leasr one element in common\n",
      "The two list [1, 3, 5, 7] and [2, 4, 6, 8] do not have element in common\n"
     ]
    }
   ],
   "source": [
    "#2nd way :\n",
    "\n",
    "input_list1 = [ 1,3,5,7]       # input list 1\n",
    "\n",
    "input_list2 = [2,3,5,8]        # input list 2\n",
    "\n",
    "result = list(set(input_list1).intersection(set(input_list2)))\n",
    "\n",
    "if len(result) > 0 :\n",
    "    print(f\"The two list {input_list1} and {input_list2} have at leasr one element in common\")\n",
    "else :\n",
    "    print(f\"The two list {input_list1} and {input_list2} do not have element in common\")\n",
    "    \n",
    "# testing with no common list\n",
    "\n",
    "input_list3 = [ 1,3,5,7]       # input list 1\n",
    "\n",
    "input_list4 = [2,4,6,8]        # input list 2\n",
    "\n",
    "result = list(set(input_list3).intersection(set(input_list4)))\n",
    "\n",
    "if result:\n",
    "    print(f\"The two list {input_list3} and {input_list4} have at leasr one element in common\")\n",
    "else :\n",
    "    print(f\"The two list {input_list3} and {input_list4} do not have element in common\")\n",
    "    "
   ]
  },
  {
   "cell_type": "markdown",
   "metadata": {},
   "source": [
    "3rd way : by writting your own function"
   ]
  },
  {
   "cell_type": "code",
   "execution_count": 444,
   "metadata": {},
   "outputs": [],
   "source": [
    "def chk_common_element(input_list1 , input_list2):\n",
    "    \n",
    "    for i in input_list1:\n",
    "        if i in input_list2:\n",
    "            return True\n",
    "        \n",
    "    return False"
   ]
  },
  {
   "cell_type": "code",
   "execution_count": 445,
   "metadata": {},
   "outputs": [
    {
     "name": "stdout",
     "output_type": "stream",
     "text": [
      "The two list [1, 3, 5, 7] and [2, 3, 5, 8] have at leasr one element in common\n"
     ]
    }
   ],
   "source": [
    "# Test the above function\n",
    "\n",
    "input_list1 = [ 1,3,5,7]       # input list 1\n",
    "\n",
    "input_list2 = [2,3,5,8]        # input list 2\n",
    "\n",
    "result = chk_common_element(input_list1 , input_list2)\n",
    "\n",
    "if result:\n",
    "    print(f\"The two list {input_list1} and {input_list2} have at leasr one element in common\")\n",
    "else :\n",
    "    print(f\"The two list {input_list1} and {input_list2} do not have element in common\")\n",
    "    "
   ]
  },
  {
   "cell_type": "markdown",
   "metadata": {},
   "source": [
    "# 41. Remove all elements from a list."
   ]
  },
  {
   "cell_type": "code",
   "execution_count": 447,
   "metadata": {},
   "outputs": [
    {
     "name": "stdout",
     "output_type": "stream",
     "text": [
      "My list before start [1, 3, 5, 7]\n",
      "My list after removing all elements from list : []\n"
     ]
    }
   ],
   "source": [
    "# We can use inbuild list function clear to remove all elements from a list\n",
    "\n",
    "my_list = [ 1,3,5,7]        # my list\n",
    "\n",
    "print(f\"My list before start {my_list}\")\n",
    "\n",
    "my_list.clear()      # Remove all elements from list\n",
    "\n",
    "print(f\"My list after removing all elements from list : {my_list}\")"
   ]
  },
  {
   "cell_type": "markdown",
   "metadata": {},
   "source": [
    "# 42. Replace negative numbers in a list with 0."
   ]
  },
  {
   "cell_type": "markdown",
   "metadata": {},
   "source": [
    "1st way : We can use python map() function "
   ]
  },
  {
   "cell_type": "code",
   "execution_count": 451,
   "metadata": {},
   "outputs": [
    {
     "name": "stdout",
     "output_type": "stream",
     "text": [
      "The list before changing is [1, 3, -3, -5, 8, -1]\n",
      "The list after changing is [1, 3, 0, 0, 8, 0]\n"
     ]
    }
   ],
   "source": [
    "input_list = [ 1, 3, -3 , -5 ,8 , -1]\n",
    "\n",
    "print(f\"The list before changing is {input_list}\")\n",
    "\n",
    "input_list = list(map((lambda x: x if x > 0 else 0) ,input_list ))\n",
    "\n",
    "print(f\"The list after changing is {input_list}\")"
   ]
  },
  {
   "cell_type": "markdown",
   "metadata": {},
   "source": [
    "2nd way : using list comprehension"
   ]
  },
  {
   "cell_type": "code",
   "execution_count": 452,
   "metadata": {},
   "outputs": [
    {
     "name": "stdout",
     "output_type": "stream",
     "text": [
      "The list before changing is [1, 3, -3, -5, 8, -1]\n",
      "The list after changing is [1, 3, 0, 0, 8, 0]\n"
     ]
    }
   ],
   "source": [
    "#2nd way\n",
    "\n",
    "input_list = [ 1, 3, -3 , -5 ,8 , -1]\n",
    "\n",
    "print(f\"The list before changing is {input_list}\")\n",
    "\n",
    "input_list = [x if x > 0 else 0 for x in input_list]\n",
    "\n",
    "print(f\"The list after changing is {input_list}\")\n"
   ]
  },
  {
   "cell_type": "markdown",
   "metadata": {},
   "source": [
    "3rd way : By writting your own function and checking each element of list and converting it to zero for negative value"
   ]
  },
  {
   "cell_type": "code",
   "execution_count": 453,
   "metadata": {},
   "outputs": [],
   "source": [
    "def change_list(input_list):\n",
    "    \n",
    "    for i in range(len(input_list)):     # iterating through the list of elements\n",
    "        if input_list[i] < 0 :           # checking for negative\n",
    "            input_list[i] = 0            # if negative , changing it to 0\n",
    "            \n",
    "    return input_list                    # returning list\n",
    "            "
   ]
  },
  {
   "cell_type": "code",
   "execution_count": 454,
   "metadata": {},
   "outputs": [
    {
     "name": "stdout",
     "output_type": "stream",
     "text": [
      "[1, 3, 0, 0, 8, 0]\n"
     ]
    }
   ],
   "source": [
    "# Testing the abive function\n",
    "\n",
    "input_list = [ 1, 3, -3 , -5 ,8 , -1]\n",
    "\n",
    "print(change_list(input_list))"
   ]
  },
  {
   "cell_type": "markdown",
   "metadata": {},
   "source": [
    "# 43. Convert a string into a list of words."
   ]
  },
  {
   "cell_type": "markdown",
   "metadata": {},
   "source": [
    "Basic algorithm:\n",
    "\n",
    "We can remove punctuation and replace multiple space with single space before converting it to word.\n",
    "\n",
    "But  for simplicity, let's assume we have string where words are seperated by single space"
   ]
  },
  {
   "cell_type": "code",
   "execution_count": 455,
   "metadata": {},
   "outputs": [],
   "source": [
    "def convert_string_into_words(input_str):\n",
    "    \n",
    "    return input_str.split(' ')       # splitting by space\n",
    "    "
   ]
  },
  {
   "cell_type": "code",
   "execution_count": 457,
   "metadata": {},
   "outputs": [
    {
     "name": "stdout",
     "output_type": "stream",
     "text": [
      "Converting a string 'I am Abhishek Kumar. I Love My country' into a list of words : ['I', 'am', 'Abhishek', 'Kumar.', 'I', 'Love', 'My', 'country']\n"
     ]
    }
   ],
   "source": [
    "#Testing ogf the above function\n",
    "\n",
    "input_str = 'I am Abhishek Kumar. I Love My country'\n",
    "\n",
    "print(f\"Converting a string \\'{input_str}\\' into a list of words : {convert_string_into_words(input_str)}\")"
   ]
  },
  {
   "cell_type": "markdown",
   "metadata": {},
   "source": [
    "# 44. Convert a list of words into a string."
   ]
  },
  {
   "cell_type": "code",
   "execution_count": 458,
   "metadata": {},
   "outputs": [
    {
     "name": "stdout",
     "output_type": "stream",
     "text": [
      "Converting a list of words ['I', 'am', 'Abhishek', 'Kumar.', 'I', 'Love', 'My', 'country'] into a string : 'I am Abhishek Kumar. I Love My country' \n"
     ]
    }
   ],
   "source": [
    "my_list = ['I', 'am', 'Abhishek', 'Kumar.', 'I', 'Love', 'My', 'country']\n",
    "\n",
    "output_str = ' '.join(my_list)       # Joining by space\n",
    "\n",
    "print(f\"Converting a list of words {my_list} into a string : \\'{output_str}\\' \")"
   ]
  },
  {
   "cell_type": "markdown",
   "metadata": {},
   "source": [
    "# 45. Create a list of the first `n` powers of 2."
   ]
  },
  {
   "cell_type": "markdown",
   "metadata": {},
   "source": [
    "1st way : using list comprehension method"
   ]
  },
  {
   "cell_type": "code",
   "execution_count": 581,
   "metadata": {},
   "outputs": [
    {
     "name": "stdout",
     "output_type": "stream",
     "text": [
      "a list of the first 10 powers of 2 is [1, 2, 4, 8, 16, 32, 64, 128, 256, 512]\n",
      "\n",
      "a list of the first 15 powers of 2 is [1, 2, 4, 8, 16, 32, 64, 128, 256, 512, 1024, 2048, 4096, 8192, 16384]\n"
     ]
    }
   ],
   "source": [
    "#Create a list of the first `n` powers of 2\n",
    "\n",
    "n = 10\n",
    "\n",
    "output_list = [ 2**i for i in range(n)]\n",
    "\n",
    "print(f\"a list of the first {n} powers of 2 is {output_list}\\n\")\n",
    "\n",
    "n = 15\n",
    "\n",
    "output_list = [ 2**i for i in range(n)]\n",
    "\n",
    "print(f\"a list of the first {n} powers of 2 is {output_list}\")\n"
   ]
  },
  {
   "cell_type": "markdown",
   "metadata": {},
   "source": [
    "2nd way : writting own function"
   ]
  },
  {
   "cell_type": "code",
   "execution_count": 583,
   "metadata": {},
   "outputs": [
    {
     "name": "stdout",
     "output_type": "stream",
     "text": [
      "a list of the first 5 powers of 2 is [1, 2, 4, 8, 16]\n",
      "\n",
      "a list of the first 10 powers of 2 is [1, 2, 4, 8, 16, 32, 64, 128, 256, 512]\n"
     ]
    }
   ],
   "source": [
    "def list_of_first_n_power_of_2(n):\n",
    "    \n",
    "    output_list = []\n",
    "    \n",
    "    for i in range(n):\n",
    "        output_list.append(2**i)\n",
    "        \n",
    "    return output_list\n",
    "\n",
    "#Testing of above function\n",
    "\n",
    "n = 5\n",
    "print(f\"a list of the first {n} powers of 2 is {list_of_first_n_power_of_2(n)}\\n\")\n",
    "\n",
    "n = 10\n",
    "print(f\"a list of the first {n} powers of 2 is {list_of_first_n_power_of_2(n)}\")\n",
    "        "
   ]
  },
  {
   "cell_type": "markdown",
   "metadata": {},
   "source": [
    "# 46. Find the longest string in a list of strings."
   ]
  },
  {
   "cell_type": "markdown",
   "metadata": {},
   "source": [
    "1st way : writting your own function by checking each string of list"
   ]
  },
  {
   "cell_type": "code",
   "execution_count": 459,
   "metadata": {},
   "outputs": [],
   "source": [
    "def longest_string(input_list):\n",
    "       \n",
    "    long_str = ''\n",
    "    \n",
    "    for x in input_list:\n",
    "        if len(x) >= len(long_str) :\n",
    "            long_str = x\n",
    "                \n",
    "    return long_str\n",
    "            "
   ]
  },
  {
   "cell_type": "code",
   "execution_count": 461,
   "metadata": {},
   "outputs": [
    {
     "name": "stdout",
     "output_type": "stream",
     "text": [
      "The longest string in the list ['I', 'am', 'Abhishek', 'Kumar.', 'I', 'Love', 'My', 'country'] is Abhishek\n"
     ]
    }
   ],
   "source": [
    "# testing of the above function\n",
    "\n",
    "my_list = ['I', 'am', 'Abhishek', 'Kumar.', 'I', 'Love', 'My', 'country']\n",
    "\n",
    "print(f\"The longest string in the list {my_list} is {longest_string(my_list)}\")"
   ]
  },
  {
   "cell_type": "markdown",
   "metadata": {},
   "source": [
    "2nd way :"
   ]
  },
  {
   "cell_type": "code",
   "execution_count": 492,
   "metadata": {},
   "outputs": [
    {
     "name": "stdout",
     "output_type": "stream",
     "text": [
      "The longest word in your list ['I', 'am', 'Abhishek', 'Kumar.', 'I', 'Love', 'My', 'country'] is ' Abhishek ' \n"
     ]
    }
   ],
   "source": [
    "my_list = ['I', 'am', 'Abhishek', 'Kumar.', 'I', 'Love', 'My', 'country']\n",
    "\n",
    "long_str_dict = {len(x):x for x in my_list}  # creating dictionary where keys are length of string and values are string\n",
    "\n",
    "long_str_list_length = list(long_str_dict.keys())   # Creating list with dictionary keys\n",
    "\n",
    "# sort the list of dictionary keyes in reverse order so that highest length will be on oth index\n",
    "long_str_list_length.sort(reverse=True)   \n",
    "\n",
    "#Find the length of longest string\n",
    "target_key = long_str_list_length[0]\n",
    "\n",
    "# Long string will be the dictionary values whose keys is longest length(Target_key)\n",
    "long_str = long_str_dict[target_key]\n",
    "\n",
    "print(f\"The longest word in your list {my_list} is \\' {long_str} \\' \")"
   ]
  },
  {
   "cell_type": "markdown",
   "metadata": {},
   "source": [
    "# 47. Find the shortest string in a list of strings."
   ]
  },
  {
   "cell_type": "markdown",
   "metadata": {},
   "source": [
    "1st way : writting your own function by checking each string of list"
   ]
  },
  {
   "cell_type": "code",
   "execution_count": 493,
   "metadata": {},
   "outputs": [],
   "source": [
    "def shortest_string(input_list):\n",
    "       \n",
    "    short_str = input_list[0]\n",
    "    \n",
    "    for x in input_list:\n",
    "        if len(x) <= len(short_str) :\n",
    "            short_str = x\n",
    "                \n",
    "    return short_str\n",
    "            "
   ]
  },
  {
   "cell_type": "code",
   "execution_count": 494,
   "metadata": {},
   "outputs": [
    {
     "name": "stdout",
     "output_type": "stream",
     "text": [
      "The shortest string in the list ['I', 'am', 'Abhishek', 'Kumar.', 'I', 'Love', 'My', 'country'] is I\n"
     ]
    }
   ],
   "source": [
    "# testing of the above function\n",
    "\n",
    "my_list = ['I', 'am', 'Abhishek', 'Kumar.', 'I', 'Love', 'My', 'country']\n",
    "\n",
    "print(f\"The shortest string in the list {my_list} is {shortest_string(my_list)}\")"
   ]
  },
  {
   "cell_type": "markdown",
   "metadata": {},
   "source": [
    "2nd way:"
   ]
  },
  {
   "cell_type": "code",
   "execution_count": 495,
   "metadata": {},
   "outputs": [
    {
     "name": "stdout",
     "output_type": "stream",
     "text": [
      "The shortest string in your list ['I', 'am', 'Abhishek', 'Kumar.', 'I', 'Love', 'My', 'country'] is ' I ' \n"
     ]
    }
   ],
   "source": [
    "my_list = ['I', 'am', 'Abhishek', 'Kumar.', 'I', 'Love', 'My', 'country']\n",
    "\n",
    "short_str_dict = {len(x):x for x in my_list}  # creating dictionary where keys are length of string and values are string\n",
    "\n",
    "short_str_list_length = list(short_str_dict.keys())   # Creating list with dictionary keys\n",
    "\n",
    "# sort the list of dictionary keyes in ascending order so that lowest length will be on oth index\n",
    "short_str_list_length.sort()   \n",
    "\n",
    "#Find the length of shortest string\n",
    "target_key = short_str_list_length[0]\n",
    "\n",
    "# short string will be the dictionary values whose keys is shortest length(Target_key)\n",
    "short_str = short_str_dict[target_key]\n",
    "\n",
    "print(f\"The shortest string in your list {my_list} is \\' {short_str} \\' \")"
   ]
  },
  {
   "cell_type": "markdown",
   "metadata": {},
   "source": [
    "# 48. Create a list of the first `n` triangular numbers."
   ]
  },
  {
   "cell_type": "markdown",
   "metadata": {},
   "source": [
    "Triangular numbers are numbers that make up the sequence 1, 3, 6, 10, . . .. The nth triangular number in the sequence is the number of dots it would take to make an equilateral triangle with n dots on each side. The formula for the nth triangular number is (n)(n + 1) / 2\n",
    "\n",
    "There are 13 triangular numbers in the first 100 numbers. These are 1, 3, 6, 10, 15, 21, 28, 36, 45, 55, 66, 78, 91.\n"
   ]
  },
  {
   "cell_type": "code",
   "execution_count": 576,
   "metadata": {},
   "outputs": [
    {
     "name": "stdout",
     "output_type": "stream",
     "text": [
      "a list of the first 10 triangular numbers is : [1, 3, 6, 10, 15, 21, 28, 36, 45, 55]\n",
      "\n",
      "a list of the first 13 triangular numbers is : [1, 3, 6, 10, 15, 21, 28, 36, 45, 55, 66, 78, 91]\n"
     ]
    }
   ],
   "source": [
    "# function to find nth triangular number\n",
    "def nth_triangular_num(n):\n",
    "    \n",
    "    triangular_num = int(( n * ( n +1 ) ) / 2 )\n",
    "    \n",
    "    return  triangular_num     # nth triangular number\n",
    "\n",
    "def first_n_triangular_num(n):\n",
    "    \n",
    "    output_list = []           # initualize the output list\n",
    "    \n",
    "    for i in range( 1, n+1):\n",
    "        if i > 0 :\n",
    "            triangular_num = nth_triangular_num(i)\n",
    "            output_list.append(triangular_num)\n",
    "            \n",
    "    return output_list\n",
    "   \n",
    "#Test the above function\n",
    "\n",
    "n = 10 \n",
    "\n",
    "print(f\"a list of the first {n} triangular numbers is : {first_n_triangular_num(n)}\\n\")\n",
    "\n",
    "\n",
    "n = 13 \n",
    "\n",
    "print(f\"a list of the first {n} triangular numbers is : {first_n_triangular_num(n)}\")"
   ]
  },
  {
   "cell_type": "markdown",
   "metadata": {},
   "source": [
    "# 49. Check if a list contains another list as a subsequence."
   ]
  },
  {
   "cell_type": "markdown",
   "metadata": {},
   "source": [
    "We can write own function to check whether if a list contains another list as a subsequence using isinstance() method"
   ]
  },
  {
   "cell_type": "code",
   "execution_count": 496,
   "metadata": {},
   "outputs": [],
   "source": [
    "def chk_list_for_sublist(input_list):\n",
    "    \n",
    "    for x in input_list:           # Iterate through all elements of list\n",
    "        if isinstance(x,list):     # check if element is instance of list\n",
    "            return True            # return True\n",
    "        \n",
    "    return False"
   ]
  },
  {
   "cell_type": "code",
   "execution_count": 498,
   "metadata": {},
   "outputs": [
    {
     "name": "stdout",
     "output_type": "stream",
     "text": [
      "The list [2, 3, [4, 5], 6, 7] contains another list as a subsequence\n",
      "The list [2, 3, 4, 5, 6, 7] do not contains another list as a subsequence\n"
     ]
    }
   ],
   "source": [
    "#Test of above function\n",
    "\n",
    "a49_list = [2,3,[4,5] , 6 , 7]\n",
    "\n",
    "if chk_list_for_sublist(a49_list):\n",
    "    print(f\"The list {a49_list} contains another list as a subsequence\")\n",
    "else :\n",
    "    print(f\"The list {a49_list} do not contains another list as a subsequence\")\n",
    "    \n",
    "\n",
    "a50_list = [2,3, 4,5 , 6 , 7]\n",
    "\n",
    "if chk_list_for_sublist(a50_list):\n",
    "    print(f\"The list {a50_list} contains another list as a subsequence\")\n",
    "else :\n",
    "    print(f\"The list {a50_list} do not contains another list as a subsequence\")\n"
   ]
  },
  {
   "cell_type": "markdown",
   "metadata": {},
   "source": [
    "# 50. Swap two elements in a list by their indices."
   ]
  },
  {
   "cell_type": "code",
   "execution_count": 501,
   "metadata": {},
   "outputs": [],
   "source": [
    "def swap_list_by_indices(input_list, i , j):\n",
    "    \n",
    "    a = input_list[i]\n",
    "    input_list[i] = input_list[j]\n",
    "    input_list[j] = a\n",
    "    \n",
    "    return input_list\n",
    "    "
   ]
  },
  {
   "cell_type": "code",
   "execution_count": 506,
   "metadata": {},
   "outputs": [
    {
     "name": "stdout",
     "output_type": "stream",
     "text": [
      "After swapping the value for index 3 with value at index 5 of input_list [2, 33, 4, 51, 6, 75, 91] , updated list is : [2, 33, 4, 75, 6, 51, 91]\n"
     ]
    }
   ],
   "source": [
    "#Testing of above function\n",
    "\n",
    "input_list = [2, 33, 4, 51, 6, 75 , 91]\n",
    "\n",
    "i = 3\n",
    "\n",
    "j = 5\n",
    "\n",
    "print(f\"After swapping the value for index {i} with value at index {j} of input_list {input_list} , updated list is : {swap_list_by_indices(input_list , i , j)}\")"
   ]
  },
  {
   "cell_type": "code",
   "execution_count": null,
   "metadata": {},
   "outputs": [],
   "source": []
  }
 ],
 "metadata": {
  "kernelspec": {
   "display_name": "Python 3",
   "language": "python",
   "name": "python3"
  },
  "language_info": {
   "codemirror_mode": {
    "name": "ipython",
    "version": 3
   },
   "file_extension": ".py",
   "mimetype": "text/x-python",
   "name": "python",
   "nbconvert_exporter": "python",
   "pygments_lexer": "ipython3",
   "version": "3.8.5"
  }
 },
 "nbformat": 4,
 "nbformat_minor": 4
}
